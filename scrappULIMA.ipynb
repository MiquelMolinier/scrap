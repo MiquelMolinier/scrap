{
 "cells": [
  {
   "cell_type": "code",
   "execution_count": 1,
   "id": "15c040cf",
   "metadata": {},
   "outputs": [],
   "source": [
    "import pickle\n",
    "import requests\n",
    "from bs4 import BeautifulSoup"
   ]
  },
  {
   "cell_type": "code",
   "execution_count": 3,
   "id": "381184ca",
   "metadata": {},
   "outputs": [],
   "source": [
    "revs = \"https://revistas.ulima.edu.pe/\"\n",
    "req_revs = requests.get(revs)\n",
    "soup_revs = BeautifulSoup(req_revs.content, \"lxml\")"
   ]
  },
  {
   "cell_type": "code",
   "execution_count": 13,
   "id": "6211c035",
   "metadata": {},
   "outputs": [
    {
     "data": {
      "text/plain": [
       "<li class=\"has_thumb\">\n",
       "<div class=\"thumb\">\n",
       "<a href=\"https://revistas.ulima.edu.pe/index.php/Interfases\">\n",
       "<img src=\"https://revistas.ulima.edu.pe/public/journals/3/journalThumbnail_es_ES.jpg\"/>\n",
       "</a>\n",
       "</div>\n",
       "<div class=\"body\">\n",
       "<h3>\n",
       "<a href=\"https://revistas.ulima.edu.pe/index.php/Interfases\" rel=\"bookmark\">\n",
       "\t\t\t\t\t\t\t\t\tInterfases\n",
       "\t\t\t\t\t\t\t\t</a>\n",
       "</h3>\n",
       "<div class=\"description\">\n",
       "<p><strong><acronym title=\"International Standard Serial Number\" xml:lang=\"en\">ISSN</acronym></strong>: 1993-4912 (Electrónico); <strong>DOI</strong>:  <a href=\"/index.php/interfases\" target=\"_self\">10.26439/interfases</a></p><br/>\n",
       "<p style=\"text-align: justify;\"><em>Interfases</em> es una revista digital, gestionado por la Universidad de Lima, para la publicación de investigaciones originales en áreas temáticas relacionadas con las ciencias de la computación, gestión de datos, aprendizaje automático, sistemas de información y áreas afines. Se publican artículos científicos y avances de investigación, siempre que cumplan con el proceso de revisión por pares. La revista <em>Interfases</em> está indizada en <a href=\"https://search.crossref.org/?q=INTERFASES\" rel=\"noopener\" target=\"_blank\">CrossRef</a>, <a href=\"https://dialnet.unirioja.es/servlet/revista?codigo=25214\" rel=\"noopener\" target=\"_blank\">Dialnet</a>, <a href=\"https://www.latindex.org/\" rel=\"noopener\" target=\"_blank\">Latindex</a> y <a href=\"https://doaj.org/toc/1993-4912\" rel=\"noopener\" target=\"_blank\">DOAJ: Directory of Open Access Journals</a>, y se publica una vez al año, en diciembre. Sin embargo, a partir de julio del 2021, los manuscritos individuales se publicarán tan pronto como estén listos, añadiéndolos progresivamente al contenido de la edición en curso en la modalidad de publicación continua. Los artículos en publicación continua siguen el proceso de revisión por pares, y ya se pueden citar utilizando el año de publicación y el DOI.</p><br/>\n",
       "<p style=\"text-align: justify;\">Consulte nuestra <a href=\"https://revistas.ulima.edu.pe/index.php/Interfases/norpu\">guía para autores</a>, así como el <a href=\"https://revistas.ulima.edu.pe/index.php/Interfases/proed\">proceso editorial</a>, para obtener información sobre el envío de artículos. Si necesita mayor información o ayuda, póngase en <a href=\"https://revistas.ulima.edu.pe/index.php/Interfases/about/contact\">contacto</a> con nosotros.</p>\n",
       "</div>\n",
       "<ul class=\"links\">\n",
       "<li class=\"view\">\n",
       "<a href=\"https://revistas.ulima.edu.pe/index.php/Interfases\">\n",
       "\t\t\t\t\t\t\t\t\t\tVer revista\n",
       "\t\t\t\t\t\t\t\t\t</a>\n",
       "</li>\n",
       "<li class=\"current\">\n",
       "<a href=\"https://revistas.ulima.edu.pe/index.php/Interfases/issue/current\">\n",
       "\t\t\t\t\t\t\t\t\t\tNúmero actual\n",
       "\t\t\t\t\t\t\t\t\t</a>\n",
       "</li>\n",
       "</ul>\n",
       "</div>\n",
       "</li>"
      ]
     },
     "execution_count": 13,
     "metadata": {},
     "output_type": "execute_result"
    }
   ],
   "source": [
    "title = \"Interfases\"\n",
    "journals = soup_revs.find(\"div\", attrs=\"journals\").find_all(\"li\", attrs=\"has_thumb\")\n",
    "for journal in journals:\n",
    "    titlet = journal.find(\"div\", attrs=\"body\").h3.a.string\n",
    "    titlet = titlet.replace(\"\\n\", \"\").replace(\"\\t\", \"\").strip()\n",
    "    if titlet == title:\n",
    "        break\n",
    "journal"
   ]
  },
  {
   "cell_type": "code",
   "execution_count": 17,
   "id": "f93b0481",
   "metadata": {},
   "outputs": [],
   "source": [
    "link_journalt = journal.h3.a[\"href\"]\n",
    "req_journalt = requests.get(link_journalt)\n",
    "soup_journalt = BeautifulSoup(req_journalt.content, \"lxml\")"
   ]
  },
  {
   "cell_type": "code",
   "execution_count": 24,
   "id": "b7e61b52",
   "metadata": {},
   "outputs": [],
   "source": [
    "link_journal = soup_journalt.find(\"div\", attrs=\"current_issue\").find(\"a\", attrs=\"read_more\")[\"href\"]\n",
    "req_journal = requests.get(link_journal)\n",
    "soup_journal = BeautifulSoup(req_journal.content, \"lxml\")"
   ]
  },
  {
   "cell_type": "code",
   "execution_count": 64,
   "id": "87726a80",
   "metadata": {},
   "outputs": [
    {
     "data": {
      "text/plain": [
       "[{'title': 'Vol. Núm. 14 (2021)',\n",
       "  'link_vol': 'https://revistas.ulima.edu.pe/index.php/Interfases/issue/view/351',\n",
       "  'archive': 'Vol_Num_14_2021'},\n",
       " {'title': 'Vol. Núm. 13 (2020)',\n",
       "  'link_vol': 'https://revistas.ulima.edu.pe/index.php/Interfases/issue/view/340',\n",
       "  'archive': 'Vol_Num_13_2020'},\n",
       " {'title': 'Vol. Núm. 12 (2019)',\n",
       "  'link_vol': 'https://revistas.ulima.edu.pe/index.php/Interfases/issue/view/323',\n",
       "  'archive': 'Vol_Num_12_2019'},\n",
       " {'title': 'Vol. Núm. 11 (2018)',\n",
       "  'link_vol': 'https://revistas.ulima.edu.pe/index.php/Interfases/issue/view/214',\n",
       "  'archive': 'Vol_Num_11_2018'},\n",
       " {'title': 'Vol. Núm. 1 (2017)',\n",
       "  'link_vol': 'https://revistas.ulima.edu.pe/index.php/Interfases/issue/view/143',\n",
       "  'archive': 'Vol_Num_1_2017'},\n",
       " {'title': 'Vol. Núm. 9 (2016)',\n",
       "  'link_vol': 'https://revistas.ulima.edu.pe/index.php/Interfases/issue/view/111',\n",
       "  'archive': 'Vol_Num_9_2016'},\n",
       " {'title': 'Vol. Núm. 8 (2015)',\n",
       "  'link_vol': 'https://revistas.ulima.edu.pe/index.php/Interfases/issue/view/53',\n",
       "  'archive': 'Vol_Num_8_2015'},\n",
       " {'title': 'Vol. Núm. 7 (2014)',\n",
       "  'link_vol': 'https://revistas.ulima.edu.pe/index.php/Interfases/issue/view/16',\n",
       "  'archive': 'Vol_Num_7_2014'},\n",
       " {'title': 'Vol. Núm. 6 (2013)',\n",
       "  'link_vol': 'https://revistas.ulima.edu.pe/index.php/Interfases/issue/view/3',\n",
       "  'archive': 'Vol_Num_6_2013'},\n",
       " {'title': 'Vol. Núm. 5 (2012)',\n",
       "  'link_vol': 'https://revistas.ulima.edu.pe/index.php/Interfases/issue/view/15',\n",
       "  'archive': 'Vol_Num_5_2012'},\n",
       " {'title': 'Vol. Núm. 4 (2011)',\n",
       "  'link_vol': 'https://revistas.ulima.edu.pe/index.php/Interfases/issue/view/17',\n",
       "  'archive': 'Vol_Num_4_2011'},\n",
       " {'title': 'Vol. Núm. 3 (2008)',\n",
       "  'link_vol': 'https://revistas.ulima.edu.pe/index.php/Interfases/issue/view/18',\n",
       "  'archive': 'Vol_Num_3_2008'},\n",
       " {'title': 'Vol. Núm. 2 (2007)',\n",
       "  'link_vol': 'https://revistas.ulima.edu.pe/index.php/Interfases/issue/view/19',\n",
       "  'archive': 'Vol_Num_2_2007'},\n",
       " {'title': 'Vol. Núm. 1 (2006)',\n",
       "  'link_vol': 'https://revistas.ulima.edu.pe/index.php/Interfases/issue/view/20',\n",
       "  'archive': 'Vol_Num_1_2006'}]"
      ]
     },
     "execution_count": 64,
     "metadata": {},
     "output_type": "execute_result"
    }
   ],
   "source": [
    "soup_vols = soup_journal.find(\"ul\", attrs=\"issues_archive row\").find_all(\"div\", attrs=\"obj_issue_summary\")[1:]\n",
    "vols = []\n",
    "for soup_vol in soup_vols:\n",
    "    dictt = {}\n",
    "    link_vol = soup_vol.find(\"a\", attrs=\"title\")\n",
    "    title = link_vol.string\n",
    "    title = title.replace(\"\\n\", \"\").replace(\"\\t\", \"\").strip()\n",
    "    temp = title.find(\"Núm.\")+5\n",
    "    temp2 = title.find(\"(\")-1\n",
    "    temp3 = title[temp:temp2].count(\"0\")\n",
    "    title = \"Vol. \"+title[:temp]+title[temp:temp2].replace(\"0\",\"\",temp3)+title[temp2:]\n",
    "    vol_i = title.find(\"Vol.\") + 4\n",
    "    vol_d = title.find(\"Núm.\")\n",
    "    volumen = title[vol_i+1: vol_d-1]\n",
    "    link_vol = link_vol[\"href\"]\n",
    "    archive = title.replace(\"ú\", \"u\").replace(\" \",\"_\").replace(\"(\", \"\").replace(\")\", \"\").replace(\".\", \"\")\n",
    "    dictt[\"title\"] = title\n",
    "    dictt[\"link_vol\"] = link_vol\n",
    "    dictt[\"archive\"] = archive\n",
    "    vols.append(dictt)\n",
    "vols"
   ]
  },
  {
   "cell_type": "code",
   "execution_count": 90,
   "id": "ec220785",
   "metadata": {},
   "outputs": [],
   "source": [
    "for vol in vols:\n",
    "    req_vol = requests.get(vol[\"link_vol\"])\n",
    "    soup_vol = BeautifulSoup(req_vol.content, \"lxml\")\n",
    "    sections = soup_vol.find(\"div\", attrs=\"sections\").find_all(\"div\", \"section\")\n",
    "    if len(sections) > 1:\n",
    "        sections = sections[1:]\n",
    "    arts = []\n",
    "    for section in sections:\n",
    "        if \"Artículos\" in section.h2.string.replace(\"\\n\", \"\").replace(\"\\t\", \"\"):\n",
    "            arts += section.find_all(\"div\", attrs=\"obj_article_summary\")\n",
    "    artt = []\n",
    "    for art in arts:\n",
    "        dictt = {}\n",
    "        link_art = art.find(\"div\", attrs=\"title\").a\n",
    "        title = link_art.string\n",
    "        title = title.replace(\"\\n\", \"\").replace(\"\\t\", \"\").strip()\n",
    "        link_art = link_art[\"href\"]\n",
    "        authors = art.find(\"div\", attrs=\"authors\").string\n",
    "        authors = authors.replace(\"\\n\", \"\").replace(\"\\t\", \"\").strip().split(\",\")\n",
    "        dictt[\"authors\"] = authors\n",
    "        dictt[\"title\"] = title\n",
    "        dictt[\"link_art\"] = link_art\n",
    "        artt.append(dictt)\n",
    "    vol[\"articles\"] = artt"
   ]
  },
  {
   "cell_type": "code",
   "execution_count": 103,
   "id": "bb8fd469",
   "metadata": {},
   "outputs": [],
   "source": [
    "for vol in vols:\n",
    "    for art in vol[\"articles\"]:\n",
    "        req_art = requests.get(art[\"link_art\"])\n",
    "        soup_art = BeautifulSoup(req_art.content, \"lxml\")\n",
    "        date = soup_art.find(\"div\", attrs=\"item published\").find(\"div\", attrs=\"value\").string\n",
    "        date = date.replace(\"\\n\", \"\").replace(\"\\t\", \"\").strip()\n",
    "        art[\"date\"] = date"
   ]
  },
  {
   "cell_type": "code",
   "execution_count": 104,
   "id": "5f8518d5",
   "metadata": {},
   "outputs": [],
   "source": [
    "with open(\"scrappULIMA.pickle\", \"wb\") as f:\n",
    "    pickle.dump(vols, f)"
   ]
  },
  {
   "cell_type": "code",
   "execution_count": 105,
   "id": "4e8d557c",
   "metadata": {},
   "outputs": [
    {
     "name": "stdout",
     "output_type": "stream",
     "text": [
      "[{'title': 'Vol. Núm. 14 (2021)', 'link_vol': 'https://revistas.ulima.edu.pe/index.php/Interfases/issue/view/351', 'archive': 'Vol_Num_14_2021', 'articles': [{'authors': ['Mauricio Alonso  Bejarano Reyes', ' Edgar  André Manzano Ramos'], 'title': 'Implementación de un sistema de monitoreo a nivel de prototipo de signos vitales: pulso, temperatura y saturación de oxígeno para pacientes', 'link_art': 'https://revistas.ulima.edu.pe/index.php/Interfases/article/view/5168', 'date': '2021-12-21'}, {'authors': ['Diana Valeria Paucar Bernardo', ' Paulina Tessalia Acho Santillan', ' Carlos Salvador Peralta Delgado'], 'title': 'Relación de la gestión de riesgos y calidad de software realizados por los profesionales del Colegio de Ingenieros del Perú del Consejo Departamental de Lima', 'link_art': 'https://revistas.ulima.edu.pe/index.php/Interfases/article/view/5111', 'date': '2021-12-21'}, {'authors': ['Marleny Peralta Ascue'], 'title': 'Calidad de datos en sistemas de gestión académica universitaria basado en ISO/IEC 25012', 'link_art': 'https://revistas.ulima.edu.pe/index.php/Interfases/article/view/5393', 'date': '2021-12-21'}, {'authors': ['David Mamani-Pari', ' Richart Smith Escobedo-Quispe'], 'title': 'EchartsTag para generación de charts usando Taglib', 'link_art': 'https://revistas.ulima.edu.pe/index.php/Interfases/article/view/5394', 'date': '2021-12-21'}, {'authors': ['Jisbaj Gamarra Salas', ' William Alberto Chávez Espinoza', ' Liseth Urpy Segundo Carpio'], 'title': 'Evaluación de la usabilidad percibida de Google Classroom, Drive y Meet en el proceso de enseñanza y  aprendizaje de la Universidad Nacional de San Antonio Abad del Cusco durante la pandemia del COVID-19', 'link_art': 'https://revistas.ulima.edu.pe/index.php/Interfases/article/view/5412', 'date': '2021-12-21'}, {'authors': ['Harley Vera Olivera', ' Ana Rocío Cárdenas Maita', ' Meluni Daney Palomino Flores', ' Jonathan Ricardo  Vasquez Chicata', ' Rosa Virginia Encinas Quille', ' Grover Enrique Castro Guzmán', ' Yanina Leon Uscapi', ' Jhony Lucia  Huallparimachi García', ' Luis Antonio  Quispe Cartagena', ' Lauro Enciso Rodas'], 'title': 'SaminBot: un asistente virtual para recolectar datos durante la pandemia del COVID-19', 'link_art': 'https://revistas.ulima.edu.pe/index.php/Interfases/article/view/5451', 'date': '2021-12-21'}, {'authors': ['Oswaldo Daniel Casazola Cruz', ' Alex Manuel Apaza Mendoza', ' Mixcel Fiorella Julca Pillman', ' Carlos Roberto Delgado Lopez'], 'title': 'Comportamiento de enfermedades epidémicas a través del modelo matemático SIR: una revisión de la literatura', 'link_art': 'https://revistas.ulima.edu.pe/index.php/Interfases/article/view/5400', 'date': '2021-12-22'}, {'authors': ['Oswaldo Daniel Casazola Cruz', ' Gianfranco Alfaro Mariño', ' Jaime Burgos Tejada', ' Omar Augusto Ramos More'], 'title': 'La usabilidad percibida de los chatbots sobre la atención al cliente en las organizaciones: una revisión de la literatura', 'link_art': 'https://revistas.ulima.edu.pe/index.php/Interfases/article/view/5401', 'date': '2021-12-22'}]}, {'title': 'Vol. Núm. 13 (2020)', 'link_vol': 'https://revistas.ulima.edu.pe/index.php/Interfases/issue/view/340', 'archive': 'Vol_Num_13_2020', 'articles': [{'authors': ['Joel Fernando Palomino Masco', ' Juan Antonio Paco Fernández', ' Michel Anyelo Zarzosa Rojas'], 'title': 'Uso no estándar e implementación exitosa del Protocolo I2C para un Sistema de Medición de Temperatura en Aldeas Andinas a gran altitud', 'link_art': 'https://revistas.ulima.edu.pe/index.php/Interfases/article/view/4832', 'date': '2020-12-22'}, {'authors': ['Rubén Ahomed'], 'title': 'Revisión de literatura sobre las barreras a la transformación digital y su relación con el rendimiento financiero', 'link_art': 'https://revistas.ulima.edu.pe/index.php/Interfases/article/view/5026', 'date': '2020-12-22'}, {'authors': ['Lennin Paul Quiroz Villalobos'], 'title': 'Software in the Loop para la implementación de un sistema de piloto automático para aeronaves de ala fija', 'link_art': 'https://revistas.ulima.edu.pe/index.php/Interfases/article/view/4857', 'date': '2020-12-22'}, {'authors': ['William-Rogelio Marchand-Niño', ' Edwin Jesús Vega Ventocilla'], 'title': 'Modelo Balanced Scorecard para los controles críticos de seguridad informática según el Center for Internet Security (CIS)', 'link_art': 'https://revistas.ulima.edu.pe/index.php/Interfases/article/view/4876', 'date': '2020-12-22'}, {'authors': ['Andrés Eduardo Moncada Vargas'], 'title': 'Comparación de técnicas de machine learning para detección de sitios web de phishing', 'link_art': 'https://revistas.ulima.edu.pe/index.php/Interfases/article/view/4886', 'date': '2020-12-22'}]}, {'title': 'Vol. Núm. 12 (2019)', 'link_vol': 'https://revistas.ulima.edu.pe/index.php/Interfases/issue/view/323', 'archive': 'Vol_Num_12_2019', 'articles': [{'authors': ['Diana Maribel Garcés-Eslava'], 'title': 'Método de procesamiento de lenguaje natural y técnicas de minería de datos aplicadas a la clasificación de incidentes informáticos', 'link_art': 'https://revistas.ulima.edu.pe/index.php/Interfases/article/view/4635', 'date': '2019-12-09'}, {'authors': ['Gonzalo Reyes-Huertas'], 'title': 'Predicción de deserción laboral utilizando un algoritmo genético y redes neuronales artificiales', 'link_art': 'https://revistas.ulima.edu.pe/index.php/Interfases/article/view/4636', 'date': '2019-12-09'}, {'authors': ['Sergio Espinoza-Montalvo'], 'title': 'Predicción de postulantes que cometerán fraude interno en una compañía con algoritmos de aprendizaje supervisado', 'link_art': 'https://revistas.ulima.edu.pe/index.php/Interfases/article/view/4637', 'date': '2019-12-09'}, {'authors': ['Edwin Lara-Lévano'], 'title': 'Sistema de reconocimiento de gestos faciales captados a través de cámaras para analizar el nivel de satisfacción de clientes en restaurantes', 'link_art': 'https://revistas.ulima.edu.pe/index.php/Interfases/article/view/4638', 'date': '2019-12-09'}, {'authors': ['Edmundo Quiroz-Silva'], 'title': 'Programación por objetivos para el dimensionamiento y la asignación de una flota de camiones en una empresa minera', 'link_art': 'https://revistas.ulima.edu.pe/index.php/Interfases/article/view/4639', 'date': '2019-12-09'}]}, {'title': 'Vol. Núm. 11 (2018)', 'link_vol': 'https://revistas.ulima.edu.pe/index.php/Interfases/issue/view/214', 'archive': 'Vol_Num_11_2018', 'articles': [{'authors': ['Reiner Solís-Villanueva'], 'title': 'Técnicas de inteligencia artificial para optimizar la eficiencia del procedimiento de selección para la contratación de obras públicas', 'link_art': 'https://revistas.ulima.edu.pe/index.php/Interfases/article/view/2951', 'date': '2018-12-03'}, {'authors': ['Osmar Lins de Noronha', ' Alcides Eloy Cano Nuñez', ' Adeline F. Dos Reis', ' Carlos Enrique Arroyo Ortiz'], 'title': 'Dimensionamiento de flota en las operaciones de carguío y transporte usando modelos de simulación de sistemas', 'link_art': 'https://revistas.ulima.edu.pe/index.php/Interfases/article/view/2952', 'date': '2018-12-03'}, {'authors': ['Delicia Esmeralda Lucero Guevara', ' Nora Bertha La Serna Palomino'], 'title': 'Automatización de requisitos: Historias de usuario generadas a partir de un modelo orientado a objetivos basado en el framework i*', 'link_art': 'https://revistas.ulima.edu.pe/index.php/Interfases/article/view/2953', 'date': '2018-12-03'}, {'authors': ['Michael Dorin', ' Sergio Montenegro'], 'title': 'Designing uncomplicated software', 'link_art': 'https://revistas.ulima.edu.pe/index.php/Interfases/article/view/2954', 'date': '2018-12-03'}, {'authors': ['Walter Schmidt Felsch Junior', ' Carlos Enrique Arroyo Ortiz', ' Valdeis de Souza Oliveira', ' Pablo Rodrigo Vieira da Cunha', ' Éder Flávio De Araújo Costa'], 'title': 'Beneficios de la implementación de un sistema de telemetría para la gestión de las operaciones mineras', 'link_art': 'https://revistas.ulima.edu.pe/index.php/Interfases/article/view/2955', 'date': '2018-12-03'}, {'authors': ['Juan Manuel Machuca-de-Pina', ' Michael Dorin', ' Alicia-Isabel García-Yi'], 'title': 'Evaluación experimental de un modelo de programación lineal para el problema de ruteo de vehículos (VRP)', 'link_art': 'https://revistas.ulima.edu.pe/index.php/Interfases/article/view/2956', 'date': '2018-12-03'}, {'authors': ['Manuela Linares-Barbero'], 'title': 'Revisión de la capacidad de transparencia y confianza que ofrece la tecnología blockchain', 'link_art': 'https://revistas.ulima.edu.pe/index.php/Interfases/article/view/2957', 'date': '2018-12-03'}, {'authors': ['Jesús González-Feliu'], 'title': 'Urban logistics and spatial territorial intelligence indicators: State-of-the-art, typology and implications for Latin American cities', 'link_art': 'https://revistas.ulima.edu.pe/index.php/Interfases/article/view/2958', 'date': '2018-12-03'}]}, {'title': 'Vol. Núm. 1 (2017)', 'link_vol': 'https://revistas.ulima.edu.pe/index.php/Interfases/issue/view/143', 'archive': 'Vol_Num_1_2017', 'articles': [{'authors': ['José Antonio Taquía-Gutiérrez'], 'title': 'El procesamiento de imágenes y su potencial aplicación en empresas con estrategia digital', 'link_art': 'https://revistas.ulima.edu.pe/index.php/Interfases/article/view/1767', 'date': '2017-12-18'}, {'authors': ['Edwin Vinicio Altamirano-Santillán', ' Geovanny Estuardo Vallejo-Vallejo', ' Juan Carlos Cruz-Hurtado'], 'title': 'Llave electromagnética con combinación de un dígito para accionamiento de un servomotor, usando Arduino y Simulink', 'link_art': 'https://revistas.ulima.edu.pe/index.php/Interfases/article/view/1768', 'date': '2017-12-18'}, {'authors': ['Miriam Elizabeth Amable-Ciudad'], 'title': 'Propuesta de modelo de mejora para mypes productoras de software', 'link_art': 'https://revistas.ulima.edu.pe/index.php/Interfases/article/view/1769', 'date': '2017-12-18'}, {'authors': ['Nadia Katherine Rodríguez-Rodríguez', ' Juan Manuel Gutiérrez-Cárdenas'], 'title': 'Guía para el diseño de un plan estratégico de marketing para el incremento de profesionales mujeres en las tecnologías de información', 'link_art': 'https://revistas.ulima.edu.pe/index.php/Interfases/article/view/1770', 'date': '2017-12-18'}, {'authors': ['Marleny Peralta-Ascue', ' José Luis Merma-Aroni'], 'title': 'Integración de procesos de negocio aplicando la arquitectura orientada a servicios (SOA)', 'link_art': 'https://revistas.ulima.edu.pe/index.php/Interfases/article/view/1771', 'date': '2017-12-18'}, {'authors': ['Michael Dorin', ' Juan Manuel Machuca-De-Pina'], 'title': 'Una revisión de la educación universitaria en Norte y Sur América', 'link_art': 'https://revistas.ulima.edu.pe/index.php/Interfases/article/view/1772', 'date': '2017-12-18'}, {'authors': ['Abilio Tinoco-León'], 'title': 'Revisión sistemática de la literatura de la automatización de procesos de negocio', 'link_art': 'https://revistas.ulima.edu.pe/index.php/Interfases/article/view/1773', 'date': '2017-12-18'}, {'authors': ['Luis Enrique Vílchez-Fernández'], 'title': 'Revisión de algoritmos de verificación automática de firmas off-line', 'link_art': 'https://revistas.ulima.edu.pe/index.php/Interfases/article/view/1774', 'date': '2017-12-18'}, {'authors': ['Rosa Fátima Medina-Merino', ' Carmen Ismelda Ñique-Chacón'], 'title': 'Bosques aleatorios como extensión de los árboles de clasificación con los programas R y Python', 'link_art': 'https://revistas.ulima.edu.pe/index.php/Interfases/article/view/1775', 'date': '2017-12-18'}, {'authors': ['Tania Marino-Jiménez'], 'title': 'Implementación de la metodología agile data warehouse en el Banco de Crédito del Perú (BCP)', 'link_art': 'https://revistas.ulima.edu.pe/index.php/Interfases/article/view/1776', 'date': '2017-12-18'}]}, {'title': 'Vol. Núm. 9 (2016)', 'link_vol': 'https://revistas.ulima.edu.pe/index.php/Interfases/issue/view/111', 'archive': 'Vol_Num_9_2016', 'articles': [{'authors': ['Edwin Vinicio Altamirano-Santillán', ' Geovanny Estuardo Vallejo-Vallejo', ' Juan Carlos Cruz-Hurtado'], 'title': 'Diseño de vibrómetro con Arduino y Simulink', 'link_art': 'https://revistas.ulima.edu.pe/index.php/Interfases/article/view/1239', 'date': '2016-03-29'}, {'authors': ['José Antonio Mendoza-Quispe'], 'title': 'Desarrollo de un sistema de soporte de decisiones para una empresa de transporte. Una aplicación del revenue management y de la programación no lineal', 'link_art': 'https://revistas.ulima.edu.pe/index.php/Interfases/article/view/1240', 'date': '2016-03-29'}, {'authors': ['Juan Manuel Gutiérrez-Cárdenas', ' Leopoldo Lenin Orihuela'], 'title': 'Filogenia de malware orientada al análisis de librerías', 'link_art': 'https://revistas.ulima.edu.pe/index.php/Interfases/article/view/1241', 'date': '2016-03-29'}, {'authors': ['Manuel Yrigoyen-Quintanilla'], 'title': 'Modelo de referencia de gobierno de las tecnologías de la información para instituciones universitarias', 'link_art': 'https://revistas.ulima.edu.pe/index.php/Interfases/article/view/1242', 'date': '2016-03-29'}, {'authors': ['Rosario Marybel Guzmán-Jiménez', ' Emma Virginia Barreno-Vereau', ' Rosa Fátima Medina-Merino'], 'title': 'Sistema de información de emisiones de co2', 'link_art': 'https://revistas.ulima.edu.pe/index.php/Interfases/article/view/1243', 'date': '2016-03-29'}, {'authors': ['Jennifer Duarte-Jauler'], 'title': 'Sistema web para la administración de atenciones médicas y monitoreo de la unidad de triaje en el hospital nacional Cayetano Heredia', 'link_art': 'https://revistas.ulima.edu.pe/index.php/Interfases/article/view/1244', 'date': '2016-03-29'}, {'authors': ['José Jesús Valdivia-Caballero'], 'title': 'Modelo de procesos para el desarrollo del front-end de aplicaciones web', 'link_art': 'https://revistas.ulima.edu.pe/index.php/Interfases/article/view/1245', 'date': '2016-03-29'}, {'authors': ['Nícolas Francisco Figueroa-Mosquera'], 'title': 'Aplicativo Android datalogger serial-USB para sistemas embebidos', 'link_art': 'https://revistas.ulima.edu.pe/index.php/Interfases/article/view/1246', 'date': '2016-03-29'}, {'authors': ['Alexander Alberto Loayza-Uyehara'], 'title': 'Modelo de gestión de incidentes para una entidad estatal', 'link_art': 'https://revistas.ulima.edu.pe/index.php/Interfases/article/view/1247', 'date': '2016-03-29'}]}, {'title': 'Vol. Núm. 8 (2015)', 'link_vol': 'https://revistas.ulima.edu.pe/index.php/Interfases/issue/view/53', 'archive': 'Vol_Num_8_2015', 'articles': [{'authors': ['Francisco Martín Riccio-Chávez'], 'title': 'Beneficios de implementar un clúster de bases de datos Oracle en los servicios críticos de las tecnologías de información', 'link_art': 'https://revistas.ulima.edu.pe/index.php/Interfases/article/view/571', 'date': '2015-04-04'}, {'authors': ['José Antonio Taquía-Gutiérrez'], 'title': 'Un enfoque bayesiano de planeación agregada orientado all retail marketing', 'link_art': 'https://revistas.ulima.edu.pe/index.php/Interfases/article/view/572', 'date': '2015-04-04'}, {'authors': ['José Antonio Fiestas-Iquira'], 'title': 'El papel de la supercomputación en la investigación: astrofísica de núcleos galácticos y agujeros negros', 'link_art': 'https://revistas.ulima.edu.pe/index.php/Interfases/article/view/573', 'date': '2015-04-04'}, {'authors': ['Miriam Elizabeth Amable-Ciudad'], 'title': 'Propuesta de un proceso de investigación cuantitativa. Aplicación en la caracterización de las mypes productoras de software', 'link_art': 'https://revistas.ulima.edu.pe/index.php/Interfases/article/view/574', 'date': '2015-04-04'}, {'authors': ['Manuel Yrigoyen-Quintanilla', ' Carlos Martín Torres-Paredes'], 'title': 'Implementación de un data center académico virtualizado', 'link_art': 'https://revistas.ulima.edu.pe/index.php/Interfases/article/view/578', 'date': '2015-04-04'}, {'authors': ['Herberth Eduardo Gutiérrez-Villaverde', ' Ángel Alejandro Agüero-Correa'], 'title': 'Competencias profesionales demandadas en el mercado laboral peruano', 'link_art': 'https://revistas.ulima.edu.pe/index.php/Interfases/article/view/579', 'date': '2015-04-04'}, {'authors': ['Hernán Alejandro Quintana-Cruz'], 'title': 'Implementación de aplicaciones isomórficas con Javascript', 'link_art': 'https://revistas.ulima.edu.pe/index.php/Interfases/article/view/580', 'date': '2015-04-04'}, {'authors': ['Manuela Linares-Barbero'], 'title': 'Una mirada al big data y al análisis de conjuntos', 'link_art': 'https://revistas.ulima.edu.pe/index.php/Interfases/article/view/581', 'date': '2015-04-04'}]}, {'title': 'Vol. Núm. 7 (2014)', 'link_vol': 'https://revistas.ulima.edu.pe/index.php/Interfases/issue/view/16', 'archive': 'Vol_Num_7_2014', 'articles': [{'authors': ['Jorge Luis Irey-Núñez'], 'title': 'Alternativas para la escalabilidad de aplicaciones en plataformas web de alta concurrencia', 'link_art': 'https://revistas.ulima.edu.pe/index.php/Interfases/article/view/140', 'date': '2014-02-25'}, {'authors': ['Óscar Eduardo Sakay-Rodríguez'], 'title': '¿Cuántas mesas debo tener? Sistemas de soporte de decisiones para la gestión de restaurantes', 'link_art': 'https://revistas.ulima.edu.pe/index.php/Interfases/article/view/141', 'date': '2014-02-25'}, {'authors': ['Rosa Fátima Medina-Merino'], 'title': 'Análisis de confiabilidad y del tiempo de vida de las lámparas del parque de alumbrado público de la zona norte de Lima metropolitana', 'link_art': 'https://revistas.ulima.edu.pe/index.php/Interfases/article/view/142', 'date': '2014-02-25'}, {'authors': ['Michael Dorin'], 'title': 'Kipu: hilos ligeros para Java', 'link_art': 'https://revistas.ulima.edu.pe/index.php/Interfases/article/view/143', 'date': '2014-02-25'}, {'authors': ['Francisco Miguel Cruz-Simões-de-Almeida'], 'title': 'Software nativo basado en C++ para aplicaciones de ingeniería. Una alternativa de alto rendimiento en comparación con el software gestionado', 'link_art': 'https://revistas.ulima.edu.pe/index.php/Interfases/article/view/144', 'date': '2014-02-25'}, {'authors': ['Julio Alejandro Padilla-Solís'], 'title': 'La evolución del planeamiento de ventas y operaciones', 'link_art': 'https://revistas.ulima.edu.pe/index.php/Interfases/article/view/145', 'date': '2014-02-25'}, {'authors': ['Julio Álex Rodríguez-Arquiñigo'], 'title': 'Beneficios del modelo As a service en las pymes', 'link_art': 'https://revistas.ulima.edu.pe/index.php/Interfases/article/view/146', 'date': '2014-02-25'}, {'authors': ['Augusto Bernuy-Alva'], 'title': 'La gestión del conocimiento en el siglo XXI', 'link_art': 'https://revistas.ulima.edu.pe/index.php/Interfases/article/view/147', 'date': '2014-02-25'}]}, {'title': 'Vol. Núm. 6 (2013)', 'link_vol': 'https://revistas.ulima.edu.pe/index.php/Interfases/issue/view/3', 'archive': 'Vol_Num_6_2013', 'articles': [{'authors': ['José Riveros-Abarca'], 'title': 'Manejo de proyectos virtuales de sistemas en países en desarrollo', 'link_art': 'https://revistas.ulima.edu.pe/index.php/Interfases/article/view/28', 'date': '2013-10-11'}, {'authors': ['Víctor Garayar-Anlas'], 'title': '¿Por qué implementar aplicaciones móviles en las empresas? Consideraciones para realizarlo exitosamente', 'link_art': 'https://revistas.ulima.edu.pe/index.php/Interfases/article/view/29', 'date': '2013-10-11'}]}, {'title': 'Vol. Núm. 5 (2012)', 'link_vol': 'https://revistas.ulima.edu.pe/index.php/Interfases/issue/view/15', 'archive': 'Vol_Num_5_2012', 'articles': [{'authors': ['Reiner Solís-Villanueva'], 'title': 'Redes neuronales para la optimización de la gestión del riesgo empresarial', 'link_art': 'https://revistas.ulima.edu.pe/index.php/Interfases/article/view/148', 'date': '2012-02-25'}, {'authors': ['Emma Barreno-Vereau'], 'title': 'Análisis Comparativo de modelos de clasificación en el estudio de la deserción universitaria', 'link_art': 'https://revistas.ulima.edu.pe/index.php/Interfases/article/view/149', 'date': '2012-02-25'}, {'authors': ['Alberto Cossa-Cabanillas'], 'title': 'Modelo de simulación para programar y controlar los recursos en una gestión hospitalaria', 'link_art': 'https://revistas.ulima.edu.pe/index.php/Interfases/article/view/150', 'date': '2012-02-25'}, {'authors': ['Rosa Fátima Medina-Merino'], 'title': 'Sistemas lineales dinámicos invariantes en series cronológicas, con aplicaciones a estudios acuáticos y climatológicos del Perú', 'link_art': 'https://revistas.ulima.edu.pe/index.php/Interfases/article/view/151', 'date': '2012-02-25'}, {'authors': ['Daniel Cárdenas-Salas'], 'title': 'Aplicaciones con soporte para comunicaciones: Un enfoque práctico', 'link_art': 'https://revistas.ulima.edu.pe/index.php/Interfases/article/view/152', 'date': '2012-02-25'}]}, {'title': 'Vol. Núm. 4 (2011)', 'link_vol': 'https://revistas.ulima.edu.pe/index.php/Interfases/issue/view/17', 'archive': 'Vol_Num_4_2011', 'articles': [{'authors': ['Manuel Núñez-Eduardo'], 'title': 'Riesgos y controles en los proyectos de implementación de ERP', 'link_art': 'https://revistas.ulima.edu.pe/index.php/Interfases/article/view/155', 'date': '2011-02-25'}, {'authors': ['Alberto Alejandro Iberico-Hervias'], 'title': 'Aproximación teórica a las bases de una estrategia tecnológica orientada a la reducción del riesgo de desastres en América Latina y el Caribe', 'link_art': 'https://revistas.ulima.edu.pe/index.php/Interfases/article/view/156', 'date': '2011-02-25'}]}, {'title': 'Vol. Núm. 3 (2008)', 'link_vol': 'https://revistas.ulima.edu.pe/index.php/Interfases/issue/view/18', 'archive': 'Vol_Num_3_2008', 'articles': [{'authors': ['Zalatiel Carranza-Avalos'], 'title': 'Fábrica Académica de Software', 'link_art': 'https://revistas.ulima.edu.pe/index.php/Interfases/article/view/158', 'date': '2008-02-25'}, {'authors': ['José Manuel Ballester-Fernández'], 'title': 'El Outsourcing, sus efectos en la reducción de costos y el incremento del valor', 'link_art': 'https://revistas.ulima.edu.pe/index.php/Interfases/article/view/159', 'date': '2008-02-25'}, {'authors': ['Abilio Tinoco-León'], 'title': 'Integración Empresarial, una posición estratégica', 'link_art': 'https://revistas.ulima.edu.pe/index.php/Interfases/article/view/160', 'date': '2008-02-25'}]}, {'title': 'Vol. Núm. 2 (2007)', 'link_vol': 'https://revistas.ulima.edu.pe/index.php/Interfases/issue/view/19', 'archive': 'Vol_Num_2_2007', 'articles': [{'authors': ['Emilio Fantozzi-Temple'], 'title': 'Ransa: Exportación de conocimientos logísticos', 'link_art': 'https://revistas.ulima.edu.pe/index.php/Interfases/article/view/161', 'date': '2007-02-25'}, {'authors': ['Juan José García-Pagan'], 'title': 'Gestión de seguridad en redes corporativas', 'link_art': 'https://revistas.ulima.edu.pe/index.php/Interfases/article/view/162', 'date': '2007-02-25'}, {'authors': ['Fredy Cuenca-Lucero'], 'title': 'Técnicas de inteligencia artificial aplicadas a la confección de horarios', 'link_art': 'https://revistas.ulima.edu.pe/index.php/Interfases/article/view/163', 'date': '2007-02-25'}, {'authors': ['Jorge Chue-Gallardo', ' Emma Barreno-Vereau', ' Rosa Millones-Rivalles'], 'title': 'Sistema para el análisis estadístico con técnicas multivariadas del rendimiento académico de los estudiantes de una institución de enseñanza superior', 'link_art': 'https://revistas.ulima.edu.pe/index.php/Interfases/article/view/164', 'date': '2007-02-25'}]}, {'title': 'Vol. Núm. 1 (2006)', 'link_vol': 'https://revistas.ulima.edu.pe/index.php/Interfases/issue/view/20', 'archive': 'Vol_Num_1_2006', 'articles': [{'authors': ['Carmen Rosa Graham'], 'title': 'Tecnología al servicio de la empresa y de la sociedad', 'link_art': 'https://revistas.ulima.edu.pe/index.php/Interfases/article/view/165', 'date': '2006-02-25'}, {'authors': ['Mario Bolo'], 'title': 'Arquitectura de integración orientada a servicios', 'link_art': 'https://revistas.ulima.edu.pe/index.php/Interfases/article/view/169', 'date': '2006-02-25'}, {'authors': ['Luis Carlos Rabelo', ' Humberto R. Álvarez', ' Darío Solís', ' Arnoldo Cano'], 'title': 'La Expansión del Canal de Panamá', 'link_art': 'https://revistas.ulima.edu.pe/index.php/Interfases/article/view/168', 'date': '2006-02-25'}, {'authors': ['Rosario Guzmán-Jiménez', ' Angélica Kamiyama-Murakami'], 'title': 'Modelo sistémico del impacto del gas natural en el desarrollo sustentable del Perú', 'link_art': 'https://revistas.ulima.edu.pe/index.php/Interfases/article/view/167', 'date': '2006-02-25'}, {'authors': ['Julio Padilla'], 'title': 'Cerrando brechas entre el marketing y las tecnologías de información', 'link_art': 'https://revistas.ulima.edu.pe/index.php/Interfases/article/view/166', 'date': '2006-02-25'}]}]\n"
     ]
    }
   ],
   "source": [
    "with open(\"scrappULIMA.pickle\", \"rb\") as f:\n",
    "    obj = pickle.load(f)\n",
    "    print(obj)"
   ]
  },
  {
   "cell_type": "code",
   "execution_count": null,
   "id": "899b8128",
   "metadata": {},
   "outputs": [],
   "source": []
  }
 ],
 "metadata": {
  "kernelspec": {
   "display_name": "Python 3 (ipykernel)",
   "language": "python",
   "name": "python3"
  },
  "language_info": {
   "codemirror_mode": {
    "name": "ipython",
    "version": 3
   },
   "file_extension": ".py",
   "mimetype": "text/x-python",
   "name": "python",
   "nbconvert_exporter": "python",
   "pygments_lexer": "ipython3",
   "version": "3.9.7"
  }
 },
 "nbformat": 4,
 "nbformat_minor": 5
}
