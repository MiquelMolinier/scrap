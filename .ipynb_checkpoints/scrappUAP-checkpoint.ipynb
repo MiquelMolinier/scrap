{
 "cells": [
  {
   "cell_type": "code",
   "execution_count": 1,
   "id": "8a00c42d",
   "metadata": {},
   "outputs": [],
   "source": [
    "import os\n",
    "import pickle\n",
    "import requests\n",
    "from bs4 import BeautifulSoup"
   ]
  },
  {
   "cell_type": "code",
   "execution_count": 2,
   "id": "d5c1a9b4",
   "metadata": {},
   "outputs": [],
   "source": [
    "rev = \"https://revistas.uap.edu.pe/ojs/\"\n",
    "req = requests.get(rev)\n",
    "soup = BeautifulSoup(req.content, \"lxml\")"
   ]
  },
  {
   "cell_type": "code",
   "execution_count": 3,
   "id": "3aed8b38",
   "metadata": {},
   "outputs": [
    {
     "data": {
      "text/plain": [
       "[<h3>Ciencia y Desarrollo</h3>,\n",
       " <h3>LEX - REVISTA DE LA FACULTAD DE DERECHO Y CIENCIAS POLÍTICAS</h3>,\n",
       " <h3>HAMUT'AY</h3>,\n",
       " <h3>Enfoque Veterinario</h3>,\n",
       " <h3>CONVERGENCIA CIENTÍFICA</h3>,\n",
       " <h3>Revista Científica Alas Peruanas</h3>,\n",
       " <h3>LOGOS</h3>,\n",
       " <h3>REVISTA CIENTÍFICA INGETECNO</h3>]"
      ]
     },
     "execution_count": 3,
     "metadata": {},
     "output_type": "execute_result"
    }
   ],
   "source": [
    "soup1 = soup.find(\"div\", id=\"content\")\n",
    "title_vol = soup1.find_all(\"h3\")\n",
    "title_vol"
   ]
  },
  {
   "cell_type": "code",
   "execution_count": 4,
   "id": "699c79b8",
   "metadata": {},
   "outputs": [
    {
     "name": "stdout",
     "output_type": "stream",
     "text": [
      "False 0\n",
      "False 1\n",
      "True 3\n",
      "False 4\n",
      "False 5\n",
      "False 6\n",
      "False 8\n",
      "False 9\n",
      "False 10\n"
     ]
    }
   ],
   "source": [
    "link = \"https://revistas.uap.edu.pe/ojs/index.php/HAMUT\"\n",
    "revs = soup1.find_all(\"p\")\n",
    "for i in range(len(revs)):\n",
    "    if revs[i].a:\n",
    "        print(revs[i].a[\"href\"] == link, i)"
   ]
  },
  {
   "cell_type": "code",
   "execution_count": 5,
   "id": "91594575",
   "metadata": {},
   "outputs": [],
   "source": [
    "revi = revs[3].a[\"href\"]\n",
    "req_revi = requests.get(revi)\n",
    "soup = BeautifulSoup(req_revi.content, \"lxml\")"
   ]
  },
  {
   "cell_type": "code",
   "execution_count": 6,
   "id": "e89a5246",
   "metadata": {},
   "outputs": [
    {
     "data": {
      "text/plain": [
       "<ul>\n",
       "<li><a href=\"https://revistas.uap.edu.pe/ojs/index.php/HAMUT/issue/archive\">Por número</a></li>\n",
       "<li><a href=\"https://revistas.uap.edu.pe/ojs/index.php/HAMUT/search/authors\">Por autor/a</a></li>\n",
       "<li><a href=\"https://revistas.uap.edu.pe/ojs/index.php/HAMUT/search/titles\">Por título</a></li>\n",
       "<li><a href=\"https://revistas.uap.edu.pe/ojs/index.php/index\">Otras revistas</a></li>\n",
       "</ul>"
      ]
     },
     "execution_count": 6,
     "metadata": {},
     "output_type": "execute_result"
    }
   ],
   "source": [
    "soup.find(\"ul\")"
   ]
  },
  {
   "cell_type": "code",
   "execution_count": 7,
   "id": "61bd6fad",
   "metadata": {},
   "outputs": [],
   "source": [
    "revi = soup.find(\"ul\").li.a[\"href\"]\n",
    "req_revi = requests.get(revi)\n",
    "soup_revi = BeautifulSoup(req_revi.content, \"lxml\")"
   ]
  },
  {
   "cell_type": "code",
   "execution_count": 8,
   "id": "0a17928f",
   "metadata": {},
   "outputs": [
    {
     "data": {
      "text/plain": [
       "[<h4><a href=\"https://revistas.uap.edu.pe/ojs/index.php/HAMUT/issue/view/194\">Vol. 8, Núm. 3 (2021): Hamutay</a></h4>,\n",
       " <h4><a href=\"https://revistas.uap.edu.pe/ojs/index.php/HAMUT/issue/view/192\">Vol. 8, Núm. 2 (2021): Hamutay</a></h4>,\n",
       " <h4><a href=\"https://revistas.uap.edu.pe/ojs/index.php/HAMUT/issue/view/189\">Vol. 8, Núm. 1 (2021): HAMUT'AY</a></h4>,\n",
       " <h4><a href=\"https://revistas.uap.edu.pe/ojs/index.php/HAMUT/issue/view/185\">Vol. 7, Núm. 3 (2020): HAMUT'AY</a></h4>,\n",
       " <h4><a href=\"https://revistas.uap.edu.pe/ojs/index.php/HAMUT/issue/view/182\">Vol. 7, Núm. 2 (2020): HAMUT'AY</a></h4>,\n",
       " <h4><a href=\"https://revistas.uap.edu.pe/ojs/index.php/HAMUT/issue/view/173\">Vol. 7, Núm. 1 (2020): HAMUT'AY</a></h4>,\n",
       " <h4><a href=\"https://revistas.uap.edu.pe/ojs/index.php/HAMUT/issue/view/168\">Vol. 6, Núm. 3 (2019): HAMUT'AY</a></h4>,\n",
       " <h4><a href=\"https://revistas.uap.edu.pe/ojs/index.php/HAMUT/issue/view/163\">Vol. 6, Núm. 2 (2019): HAMUT'AY</a></h4>,\n",
       " <h4><a href=\"https://revistas.uap.edu.pe/ojs/index.php/HAMUT/issue/view/149\">Vol. 6, Núm. 1 (2019): HAMUT'AY</a></h4>,\n",
       " <h4><a href=\"https://revistas.uap.edu.pe/ojs/index.php/HAMUT/issue/view/126\">Vol. 5, Núm. 2 (2018): HAMUT'AY</a></h4>,\n",
       " <h4><a href=\"https://revistas.uap.edu.pe/ojs/index.php/HAMUT/issue/view/125\">Vol. 5, Núm. 1 (2018): HAMUT'AY</a></h4>,\n",
       " <h4><a href=\"https://revistas.uap.edu.pe/ojs/index.php/HAMUT/issue/view/124\">Vol. 4, Núm. 2 (2017): HAMUT'AY</a></h4>,\n",
       " <h4><a href=\"https://revistas.uap.edu.pe/ojs/index.php/HAMUT/issue/view/123\">Vol. 4, Núm. 1 (2017): HAMUT'AY</a></h4>,\n",
       " <h4><a href=\"https://revistas.uap.edu.pe/ojs/index.php/HAMUT/issue/view/122\">Vol. 3, Núm. 2 (2016): HAMUT'AY</a></h4>,\n",
       " <h4><a href=\"https://revistas.uap.edu.pe/ojs/index.php/HAMUT/issue/view/110\">Vol. 3, Núm. 1 (2016): HAMUT'AY</a></h4>,\n",
       " <h4><a href=\"https://revistas.uap.edu.pe/ojs/index.php/HAMUT/issue/view/79\">Vol. 2, Núm. 2 (2015): HAMUT'AY</a></h4>,\n",
       " <h4><a href=\"https://revistas.uap.edu.pe/ojs/index.php/HAMUT/issue/view/78\">Vol. 2, Núm. 1 (2015): HAMUT'AY</a></h4>,\n",
       " <h4><a href=\"https://revistas.uap.edu.pe/ojs/index.php/HAMUT/issue/view/68\">Vol. 1, Núm. 2 (2014): HAMUT'AY</a></h4>,\n",
       " <h4><a href=\"https://revistas.uap.edu.pe/ojs/index.php/HAMUT/issue/view/67\">Vol. 1, Núm. 1 (2014): HAMUT'AY</a></h4>]"
      ]
     },
     "execution_count": 8,
     "metadata": {},
     "output_type": "execute_result"
    }
   ],
   "source": [
    "soup_revi.find_all(\"h4\")"
   ]
  },
  {
   "cell_type": "code",
   "execution_count": 9,
   "id": "d424302d",
   "metadata": {},
   "outputs": [
    {
     "data": {
      "text/plain": [
       "[{'title': 'Vol. 8, Núm. 3 (2021): Hamutay',\n",
       "  'archive': 'vol_8_num_3_2021_hamutay',\n",
       "  'link_vol': 'https://revistas.uap.edu.pe/ojs/index.php/HAMUT/issue/view/194'},\n",
       " {'title': 'Vol. 8, Núm. 2 (2021): Hamutay',\n",
       "  'archive': 'vol_8_num_2_2021_hamutay',\n",
       "  'link_vol': 'https://revistas.uap.edu.pe/ojs/index.php/HAMUT/issue/view/192'},\n",
       " {'title': \"Vol. 8, Núm. 1 (2021): HAMUT'AY\",\n",
       "  'archive': 'vol_8_num_1_2021_hamutay',\n",
       "  'link_vol': 'https://revistas.uap.edu.pe/ojs/index.php/HAMUT/issue/view/189'},\n",
       " {'title': \"Vol. 7, Núm. 3 (2020): HAMUT'AY\",\n",
       "  'archive': 'vol_7_num_3_2020_hamutay',\n",
       "  'link_vol': 'https://revistas.uap.edu.pe/ojs/index.php/HAMUT/issue/view/185'},\n",
       " {'title': \"Vol. 7, Núm. 2 (2020): HAMUT'AY\",\n",
       "  'archive': 'vol_7_num_2_2020_hamutay',\n",
       "  'link_vol': 'https://revistas.uap.edu.pe/ojs/index.php/HAMUT/issue/view/182'},\n",
       " {'title': \"Vol. 7, Núm. 1 (2020): HAMUT'AY\",\n",
       "  'archive': 'vol_7_num_1_2020_hamutay',\n",
       "  'link_vol': 'https://revistas.uap.edu.pe/ojs/index.php/HAMUT/issue/view/173'},\n",
       " {'title': \"Vol. 6, Núm. 3 (2019): HAMUT'AY\",\n",
       "  'archive': 'vol_6_num_3_2019_hamutay',\n",
       "  'link_vol': 'https://revistas.uap.edu.pe/ojs/index.php/HAMUT/issue/view/168'},\n",
       " {'title': \"Vol. 6, Núm. 2 (2019): HAMUT'AY\",\n",
       "  'archive': 'vol_6_num_2_2019_hamutay',\n",
       "  'link_vol': 'https://revistas.uap.edu.pe/ojs/index.php/HAMUT/issue/view/163'},\n",
       " {'title': \"Vol. 6, Núm. 1 (2019): HAMUT'AY\",\n",
       "  'archive': 'vol_6_num_1_2019_hamutay',\n",
       "  'link_vol': 'https://revistas.uap.edu.pe/ojs/index.php/HAMUT/issue/view/149'},\n",
       " {'title': \"Vol. 5, Núm. 2 (2018): HAMUT'AY\",\n",
       "  'archive': 'vol_5_num_2_2018_hamutay',\n",
       "  'link_vol': 'https://revistas.uap.edu.pe/ojs/index.php/HAMUT/issue/view/126'},\n",
       " {'title': \"Vol. 5, Núm. 1 (2018): HAMUT'AY\",\n",
       "  'archive': 'vol_5_num_1_2018_hamutay',\n",
       "  'link_vol': 'https://revistas.uap.edu.pe/ojs/index.php/HAMUT/issue/view/125'},\n",
       " {'title': \"Vol. 4, Núm. 2 (2017): HAMUT'AY\",\n",
       "  'archive': 'vol_4_num_2_2017_hamutay',\n",
       "  'link_vol': 'https://revistas.uap.edu.pe/ojs/index.php/HAMUT/issue/view/124'},\n",
       " {'title': \"Vol. 4, Núm. 1 (2017): HAMUT'AY\",\n",
       "  'archive': 'vol_4_num_1_2017_hamutay',\n",
       "  'link_vol': 'https://revistas.uap.edu.pe/ojs/index.php/HAMUT/issue/view/123'},\n",
       " {'title': \"Vol. 3, Núm. 2 (2016): HAMUT'AY\",\n",
       "  'archive': 'vol_3_num_2_2016_hamutay',\n",
       "  'link_vol': 'https://revistas.uap.edu.pe/ojs/index.php/HAMUT/issue/view/122'},\n",
       " {'title': \"Vol. 3, Núm. 1 (2016): HAMUT'AY\",\n",
       "  'archive': 'vol_3_num_1_2016_hamutay',\n",
       "  'link_vol': 'https://revistas.uap.edu.pe/ojs/index.php/HAMUT/issue/view/110'},\n",
       " {'title': \"Vol. 2, Núm. 2 (2015): HAMUT'AY\",\n",
       "  'archive': 'vol_2_num_2_2015_hamutay',\n",
       "  'link_vol': 'https://revistas.uap.edu.pe/ojs/index.php/HAMUT/issue/view/79'},\n",
       " {'title': \"Vol. 2, Núm. 1 (2015): HAMUT'AY\",\n",
       "  'archive': 'vol_2_num_1_2015_hamutay',\n",
       "  'link_vol': 'https://revistas.uap.edu.pe/ojs/index.php/HAMUT/issue/view/78'},\n",
       " {'title': \"Vol. 1, Núm. 2 (2014): HAMUT'AY\",\n",
       "  'archive': 'vol_1_num_2_2014_hamutay',\n",
       "  'link_vol': 'https://revistas.uap.edu.pe/ojs/index.php/HAMUT/issue/view/68'},\n",
       " {'title': \"Vol. 1, Núm. 1 (2014): HAMUT'AY\",\n",
       "  'archive': 'vol_1_num_1_2014_hamutay',\n",
       "  'link_vol': 'https://revistas.uap.edu.pe/ojs/index.php/HAMUT/issue/view/67'}]"
      ]
     },
     "execution_count": 9,
     "metadata": {},
     "output_type": "execute_result"
    }
   ],
   "source": [
    "list_vols = []\n",
    "for elsoup in soup_revi.find_all(\"h4\"):\n",
    "    dictt = {}\n",
    "    series = elsoup.a.string\n",
    "    dictt[\"title\"] = series\n",
    "    dictt[\"archive\"] = series.strip().replace(\".\",\"\").replace(\"(\",\"\").replace(\")\",\"\").replace(\" \",\"_\").replace(\"'\",\"\").replace(\"ú\",\"u\").replace(\":\",\"\").replace(\",\",\"\").lower()\n",
    "    dictt[\"link_vol\"] = elsoup.a[\"href\"]\n",
    "    list_vols.append(dictt)\n",
    "list_vols"
   ]
  },
  {
   "cell_type": "code",
   "execution_count": 10,
   "id": "879b9eef",
   "metadata": {},
   "outputs": [
    {
     "data": {
      "text/plain": [
       "[{'title': 'Vol. 8, Núm. 3 (2021): Hamutay',\n",
       "  'archive': 'vol_8_num_3_2021_hamutay',\n",
       "  'link_vol': 'https://revistas.uap.edu.pe/ojs/index.php/HAMUT/issue/view/194/showToc'},\n",
       " {'title': 'Vol. 8, Núm. 2 (2021): Hamutay',\n",
       "  'archive': 'vol_8_num_2_2021_hamutay',\n",
       "  'link_vol': 'https://revistas.uap.edu.pe/ojs/index.php/HAMUT/issue/view/192/showToc'},\n",
       " {'title': \"Vol. 8, Núm. 1 (2021): HAMUT'AY\",\n",
       "  'archive': 'vol_8_num_1_2021_hamutay',\n",
       "  'link_vol': 'https://revistas.uap.edu.pe/ojs/index.php/HAMUT/issue/view/189/showToc'},\n",
       " {'title': \"Vol. 7, Núm. 3 (2020): HAMUT'AY\",\n",
       "  'archive': 'vol_7_num_3_2020_hamutay',\n",
       "  'link_vol': 'https://revistas.uap.edu.pe/ojs/index.php/HAMUT/issue/view/185/showToc'},\n",
       " {'title': \"Vol. 7, Núm. 2 (2020): HAMUT'AY\",\n",
       "  'archive': 'vol_7_num_2_2020_hamutay',\n",
       "  'link_vol': 'https://revistas.uap.edu.pe/ojs/index.php/HAMUT/issue/view/182/showToc'},\n",
       " {'title': \"Vol. 7, Núm. 1 (2020): HAMUT'AY\",\n",
       "  'archive': 'vol_7_num_1_2020_hamutay',\n",
       "  'link_vol': 'https://revistas.uap.edu.pe/ojs/index.php/HAMUT/issue/view/173/showToc'},\n",
       " {'title': \"Vol. 6, Núm. 3 (2019): HAMUT'AY\",\n",
       "  'archive': 'vol_6_num_3_2019_hamutay',\n",
       "  'link_vol': 'https://revistas.uap.edu.pe/ojs/index.php/HAMUT/issue/view/168/showToc'},\n",
       " {'title': \"Vol. 6, Núm. 2 (2019): HAMUT'AY\",\n",
       "  'archive': 'vol_6_num_2_2019_hamutay',\n",
       "  'link_vol': 'https://revistas.uap.edu.pe/ojs/index.php/HAMUT/issue/view/163/showToc'},\n",
       " {'title': \"Vol. 6, Núm. 1 (2019): HAMUT'AY\",\n",
       "  'archive': 'vol_6_num_1_2019_hamutay',\n",
       "  'link_vol': 'https://revistas.uap.edu.pe/ojs/index.php/HAMUT/issue/view/149/showToc'},\n",
       " {'title': \"Vol. 5, Núm. 2 (2018): HAMUT'AY\",\n",
       "  'archive': 'vol_5_num_2_2018_hamutay',\n",
       "  'link_vol': 'https://revistas.uap.edu.pe/ojs/index.php/HAMUT/issue/view/126/showToc'},\n",
       " {'title': \"Vol. 5, Núm. 1 (2018): HAMUT'AY\",\n",
       "  'archive': 'vol_5_num_1_2018_hamutay',\n",
       "  'link_vol': 'https://revistas.uap.edu.pe/ojs/index.php/HAMUT/issue/view/125/showToc'},\n",
       " {'title': \"Vol. 4, Núm. 2 (2017): HAMUT'AY\",\n",
       "  'archive': 'vol_4_num_2_2017_hamutay',\n",
       "  'link_vol': 'https://revistas.uap.edu.pe/ojs/index.php/HAMUT/issue/view/124/showToc'},\n",
       " {'title': \"Vol. 4, Núm. 1 (2017): HAMUT'AY\",\n",
       "  'archive': 'vol_4_num_1_2017_hamutay',\n",
       "  'link_vol': 'https://revistas.uap.edu.pe/ojs/index.php/HAMUT/issue/view/123/showToc'},\n",
       " {'title': \"Vol. 3, Núm. 2 (2016): HAMUT'AY\",\n",
       "  'archive': 'vol_3_num_2_2016_hamutay',\n",
       "  'link_vol': 'https://revistas.uap.edu.pe/ojs/index.php/HAMUT/issue/view/122'},\n",
       " {'title': \"Vol. 3, Núm. 1 (2016): HAMUT'AY\",\n",
       "  'archive': 'vol_3_num_1_2016_hamutay',\n",
       "  'link_vol': 'https://revistas.uap.edu.pe/ojs/index.php/HAMUT/issue/view/110/showToc'},\n",
       " {'title': \"Vol. 2, Núm. 2 (2015): HAMUT'AY\",\n",
       "  'archive': 'vol_2_num_2_2015_hamutay',\n",
       "  'link_vol': 'https://revistas.uap.edu.pe/ojs/index.php/HAMUT/issue/view/79/showToc'},\n",
       " {'title': \"Vol. 2, Núm. 1 (2015): HAMUT'AY\",\n",
       "  'archive': 'vol_2_num_1_2015_hamutay',\n",
       "  'link_vol': 'https://revistas.uap.edu.pe/ojs/index.php/HAMUT/issue/view/78/showToc'},\n",
       " {'title': \"Vol. 1, Núm. 2 (2014): HAMUT'AY\",\n",
       "  'archive': 'vol_1_num_2_2014_hamutay',\n",
       "  'link_vol': 'https://revistas.uap.edu.pe/ojs/index.php/HAMUT/issue/view/68/showToc'},\n",
       " {'title': \"Vol. 1, Núm. 1 (2014): HAMUT'AY\",\n",
       "  'archive': 'vol_1_num_1_2014_hamutay',\n",
       "  'link_vol': 'https://revistas.uap.edu.pe/ojs/index.php/HAMUT/issue/view/67/showToc'}]"
      ]
     },
     "execution_count": 10,
     "metadata": {},
     "output_type": "execute_result"
    }
   ],
   "source": [
    "for i,vol in enumerate(list_vols):\n",
    "    temp = vol[\"link_vol\"]\n",
    "    req_temp = requests.get(temp)\n",
    "    soup_temp = BeautifulSoup(req_temp.content, \"lxml\")\n",
    "    if soup_temp.find(\"td\", attrs=\"tocArticleTitleAuthors\") is None:\n",
    "        list_vols[i][\"link_vol\"] = soup_temp.find_all(\"ul\", attrs=\"menu\")[-1].li.a[\"href\"]\n",
    "list_vols"
   ]
  },
  {
   "cell_type": "code",
   "execution_count": 11,
   "id": "7c554aa1",
   "metadata": {},
   "outputs": [],
   "source": [
    "for k, vol in enumerate(list_vols):\n",
    "    req_vol = requests.get(vol[\"link_vol\"])\n",
    "    soup_vol = BeautifulSoup(req_vol.content, \"lxml\")\n",
    "    section = soup_vol.find_all(\"div\", id=\"content\")[0]\n",
    "    section = section.contents\n",
    "    articles = []\n",
    "    for i, e in enumerate(section):\n",
    "        if e.name == \"h4\" and e.string == \"Artículos\":\n",
    "            break\n",
    "    for j in range(i+1,len(section)):\n",
    "        if section[j].name is None:\n",
    "            continue\n",
    "        if section[j].name != \"table\":\n",
    "            break\n",
    "        articles.append(section[j])\n",
    "    list_vols[k][\"articles\"] = articles"
   ]
  },
  {
   "cell_type": "code",
   "execution_count": 12,
   "id": "6562fc91",
   "metadata": {},
   "outputs": [
    {
     "data": {
      "text/plain": [
       "['Charo Mimi Cervantes Rosas', 'Cleofé Genoveva Alvites-Huamaní']"
      ]
     },
     "execution_count": 12,
     "metadata": {},
     "output_type": "execute_result"
    }
   ],
   "source": [
    "list_vols[1][\"articles\"][4].find(\"div\", attrs=\"tocAuthors\").string.strip().replace(\"\\n\",\"\").replace(\"\\t\",\"\").split(\",\")"
   ]
  },
  {
   "cell_type": "code",
   "execution_count": 13,
   "id": "5ba6d707",
   "metadata": {},
   "outputs": [],
   "source": [
    "for i, vol in enumerate(list_vols):\n",
    "    articles = []\n",
    "    for art in vol[\"articles\"]:\n",
    "        dict_article = {}\n",
    "        title = art.a.string.strip()\n",
    "        authors = art.find(\"div\", attrs=\"tocAuthors\").string.strip().replace(\"\\n\",\"\").replace(\"\\t\",\"\").split(\",\")\n",
    "        year = vol[\"title\"].find(\"(\")\n",
    "        year = vol[\"title\"][year+1:year+5]\n",
    "        dict_article[\"title\"] = title\n",
    "        dict_article[\"authors\"] = authors\n",
    "        dict_article[\"year\"] = year\n",
    "        articles.append(dict_article)\n",
    "    list_vols[i][\"articles\"] = articles"
   ]
  },
  {
   "cell_type": "code",
   "execution_count": 14,
   "id": "1a2ebd07",
   "metadata": {},
   "outputs": [],
   "source": [
    "with open(\"scrappUAP.pickle\", \"wb\") as f:\n",
    "    pickle.dump(list_vols, f)"
   ]
  },
  {
   "cell_type": "code",
   "execution_count": 15,
   "id": "2f82e62a",
   "metadata": {},
   "outputs": [
    {
     "name": "stdout",
     "output_type": "stream",
     "text": [
      "[{'title': 'Vol. 8, Núm. 3 (2021): Hamutay', 'archive': 'vol_8_num_3_2021_hamutay', 'link_vol': 'https://revistas.uap.edu.pe/ojs/index.php/HAMUT/issue/view/194/showToc', 'articles': [{'title': 'Impacto del ciberbullying en la depresión de estudiantes universitarios del  distrito de Lima', 'authors': ['Betzabeth Rosella Valle Gonzales'], 'year': '2021'}, {'title': 'Desarrollo de hardware y software de un dispositivo de enlace entre docente y  Estudiante con discapacidad visual en el área de matemáticas básicas', 'authors': ['Breismam Alfonso Rueda Díaz', 'Juan Camilo Rodríguez Montes', 'Diego Mauricio Acero Soto'], 'year': '2021'}, {'title': 'Juegos tecnológicos para la resolución de problemas matemáticos en el aula inclusiva', 'authors': ['Sonia Valbuena Duarte', 'Johanna Patricia García Cruz'], 'year': '2021'}, {'title': 'WebQuest como escenario para el aprendizaje colaborativo y el desarrollo de competencias digitales', 'authors': ['Elena Katayama Cruz', 'John Alexander Rojas Montero'], 'year': '2021'}]}, {'title': 'Vol. 8, Núm. 2 (2021): Hamutay', 'archive': 'vol_8_num_2_2021_hamutay', 'link_vol': 'https://revistas.uap.edu.pe/ojs/index.php/HAMUT/issue/view/192/showToc', 'articles': [{'title': 'Realidad Virtual basada en un vídeo de 360 grados, y una narración escrita para invitar a hombres a adoptar la perspectiva de una mujer víctima de acoso', 'authors': ['Sara Ventura', 'Georgina Cardenas', 'Rosa Baños'], 'year': '2021'}, {'title': 'Capstone Design en los Programas de Ingeniería: Una Revisión Sistemática', 'authors': ['Camilo Andrés Urrea Merchán', 'Johann Alberto Duque Mogollón', 'Edelberto Vásquez González'], 'year': '2021'}, {'title': 'Portafolio Digital Interactivo un Recurso para la Autoevaluación Integral', 'authors': ['Diego Marcelo Tipán Renjifo', 'Nancy de Lourdes Jordán Buenaño', 'Heidi Guadalupe Tipán Suárez'], 'year': '2021'}, {'title': 'La Red Social Busuu en la Producción Oral en Francés', 'authors': ['Adrián Calderín Gutiérrez'], 'year': '2021'}, {'title': 'WhatsApp como recurso educativo y tecnológico en la educación', 'authors': ['Charo Mimi Cervantes Rosas', 'Cleofé Genoveva Alvites-Huamaní'], 'year': '2021'}, {'title': 'Interfaz de Consulta con Lenguaje Python para El Catastro de Redes de Acueducto y Alcantarillado', 'authors': ['Diana Elizabeth Ortiz Carvajal', 'Diego Iván Sánchez Tapiero'], 'year': '2021'}]}, {'title': \"Vol. 8, Núm. 1 (2021): HAMUT'AY\", 'archive': 'vol_8_num_1_2021_hamutay', 'link_vol': 'https://revistas.uap.edu.pe/ojs/index.php/HAMUT/issue/view/189/showToc', 'articles': [{'title': 'Los retos de una educación virtual para estudiantes con necesidades  educativas especiales', 'authors': ['Milagros Esperanza Rojas Salgado'], 'year': '2021'}, {'title': 'Los efectos positivos y negativos en el uso de las Tecnologías de la Información y Comunicación en educación', 'authors': ['María Elena Rumiche Valdez', 'Beymar Pedro Solis Trujillo'], 'year': '2021'}, {'title': 'Internet de las cosas en el tratamiento de variables Agro-climatológicas en huertos urbanos', 'authors': ['Nancy Esperanza Olarte López', 'David Enrique Torres Rojas', 'Roland Fernando Franco Ramos'], 'year': '2021'}, {'title': 'Plataforma Blackboard: Una herramienta para el proceso de  Enseñanza-Aprendizaje', 'authors': ['Claudia Liliany Aliaga Meléndez', 'Oscar Melanio Dávila Rojas'], 'year': '2021'}, {'title': 'Competencias digitales docentes: Una experiencia en el nivel Universitario', 'authors': ['Mercedes Leticia Sánchez Ambriz', 'Lidia Fabián Acevedo', 'Dulce María Melgoza Mendoza'], 'year': '2021'}, {'title': 'Ciberbullying: El acoso escolar en el ciberespacio e implicancias psicológicas', 'authors': ['Orietta Mireya Neyra Castilla'], 'year': '2021'}]}, {'title': \"Vol. 7, Núm. 3 (2020): HAMUT'AY\", 'archive': 'vol_7_num_3_2020_hamutay', 'link_vol': 'https://revistas.uap.edu.pe/ojs/index.php/HAMUT/issue/view/185/showToc', 'articles': [{'title': 'Índice de Madurez Digital para Empresas Hoteleras Familiares de Veracruz, México', 'authors': ['Beatriz Eugenia Salas Parada', 'Guadalupe Juárez Gómez', 'Tomás Cuauhtémoc Carmona Cuervo'], 'year': '2020'}, {'title': 'Desarrollo de un Sistema Basado en Conocimiento Mediante Modelado de proceso Evolutivo y Programación lógica para el Aprendizaje de la Taxonomía de los Animales Invertebrados', 'authors': ['Miguel Ángel Palomino Hawasly', 'Andrés Farid Díaz Gómez', 'Juan David Rodríguez Moreno'], 'year': '2020'}, {'title': 'Análisis Comparativo de Protocolos de Comunicación para Redes definidas por Software', 'authors': ['Geovanny Mocha Guacho', 'Jennifer Celleri Pacheco'], 'year': '2020'}, {'title': 'Seguridad IoT: Principales amenazas en una taxonomía de activos', 'authors': ['Joffre J. Cartuche Calva', 'Dixys L. Hernández Rojas', 'Rodrigo F. Morocho Román', 'Ciro D. Radicelli García'], 'year': '2020'}, {'title': 'Perceptivas que posibilitan Los Cursos Virtuales en Moodle en Programas de  Pregrado de la Universidad de Pamplona', 'authors': ['Rolando Quintero Pérez', 'Olga Lorena González Maldonado', 'Kleeder José Bracho Pérez'], 'year': '2020'}, {'title': 'Análisis de las características de la Realidad Aumentada aplicada a la educación', 'authors': ['Quezada Sarmiento Ramiro Hernán', 'Luis Antonio Rivera Escriba', 'Edison Luis Loján Cueva', 'Nancy Magaly Loja Mora'], 'year': '2020'}, {'title': 'Lenguajes y Entornos de Programación para Fortalecer El Desarrollo de  Competencias Concernientes al Pensamiento Computacional', 'authors': ['Maira Isbeth Sarmiento Bolívar'], 'year': '2020'}, {'title': 'Agrobc: Gestión  Descentralizada de Cadenas de Valor Agrícolas Usando  Tecnología Blockchain', 'authors': ['Jean Mosquera', 'Nelson Piedra'], 'year': '2020'}]}, {'title': \"Vol. 7, Núm. 2 (2020): HAMUT'AY\", 'archive': 'vol_7_num_2_2020_hamutay', 'link_vol': 'https://revistas.uap.edu.pe/ojs/index.php/HAMUT/issue/view/182/showToc', 'articles': [{'title': 'COVID-19: Frente al desafío pedagógico de lo presencial a lo virtual', 'authors': ['Kleeder J. Bracho Pérez', 'Marianggeline Ch. Bracho Durán'], 'year': '2020'}, {'title': 'Intervenciones eficaces vía internet para la salud emocional en adolescentes: una propuesta ante la pandemia por COVID-19', 'authors': ['Anabel De la Rosa Gómez', 'Liliana Moreyra Jiménez', 'Nayeli Guadalupe De la Rosa Montealvo'], 'year': '2020'}, {'title': 'Comunicación grupal en Whatsapp para el aprendizaje colaborativo en la coyuntura COVID-19', 'authors': ['Denis José Montenegro Díaz'], 'year': '2020'}, {'title': 'Herramientas tecnológicas en la enseñanza de las matemáticas durante la pandemia COVID-19', 'authors': ['Cynthia Iris Sánchez Pachas'], 'year': '2020'}, {'title': 'Las tecnologías de la información y comunicación en psicoterapia en COVID-19', 'authors': ['Gilda Moreno Proaño', 'Diego Porras'], 'year': '2020'}, {'title': 'COVID-19 La transformación de la educación en el Ecuador mediante la inclusión de herramientas tecnológicas para un aprendizaje significativo', 'authors': ['Orlando David Rojas Londoño', 'José Luis Díaz Mora'], 'year': '2020'}, {'title': 'Curso taller de diseño de recursos digitales: una instrumentación ante la emergencia del COVID-19 en cuatro escuelas medias y superiores en México', 'authors': ['Mercedes Leticia Sánchez Ambriz', 'Adriana del Carmen Rodríguez Zamora', 'Raquel Barroso Pérez'], 'year': '2020'}]}, {'title': \"Vol. 7, Núm. 1 (2020): HAMUT'AY\", 'archive': 'vol_7_num_1_2020_hamutay', 'link_vol': 'https://revistas.uap.edu.pe/ojs/index.php/HAMUT/issue/view/173/showToc', 'articles': [{'title': 'Objeto virtual de aprendizaje en la Cátedra de Paz para estudiantes de educación básica primaria', 'authors': ['Wendy Yurley Pineda Rodriguez', 'Martha Karime Casanova Parada', 'Kleeder José Bracho Pérez'], 'year': '2020'}, {'title': 'Monitorización parental de adolescentes con ayuda de la tecnología', 'authors': ['Xiomara Paola Carrera Herrera', 'Patricia Maricela Beltrán Guevara', 'Bertha María Villalta Córdova'], 'year': '2020'}, {'title': 'Retos y posibilidades de la economía colaborativa en la cuidad de Bogotá', 'authors': ['Adriana Fernanda Salazar Yaquino Salazar Yaquino', 'Ivonne Daniela Pedraza Gonzalez', 'Maria Emma Lombana Gonzalez'], 'year': '2020'}, {'title': 'Usabilidad y satisfacción de una aplicación móvil para el entrenamiento de competencias clínicas', 'authors': ['Anabel de la Rosa Gómez', 'Germán Alejandro Miranda Díaz', 'Samanta Xiadani Mendoza Castillo'], 'year': '2020'}, {'title': 'Aspectos pedagógicos para ambientes Blended-Learning', 'authors': ['Sandra Patricia Quitián Bernal', 'Juan González Martínez'], 'year': '2020'}]}, {'title': \"Vol. 6, Núm. 3 (2019): HAMUT'AY\", 'archive': 'vol_6_num_3_2019_hamutay', 'link_vol': 'https://revistas.uap.edu.pe/ojs/index.php/HAMUT/issue/view/168/showToc', 'articles': [{'title': 'Del aula a la escuela en línea universal: Dimensiones temáticas en canales de Youtube', 'authors': ['Arantxa Vizcaíno Verdú', 'Paloma Contreras Pulido'], 'year': '2019'}, {'title': 'Pensamiento Computacional: Revisión de experiencias y propuestas educativas implementadas en la última década en Iberoamérica', 'authors': ['Maira Isbeth Sarmiento Bolívar'], 'year': '2019'}, {'title': 'El uso de las TIC como herramienta de motivación para alumnos de enseñanza secundaria obligatoria. Estudio de caso español', 'authors': ['Antonio Jesús Amores Valencia', 'Patricia De Casas Moreno'], 'year': '2019'}, {'title': 'Perspectiva actual sobre el uso de tecnologías de la información y la comunicación en personas con trastorno del espectro autista: Sistematización de experiencias', 'authors': ['Carmen del Pilar Gallardo Montes', 'María Jesús Caurcel Cara', 'Antonio Rodríguez Fuentes'], 'year': '2019'}, {'title': 'Estrategias de aprendizaje en una interfaz gamificada Indoamérica 2018', 'authors': ['Rosa Elvira Ramírez Naranjo', 'María de los Ángeles Mayorga Álvarez', 'Patricio Lara'], 'year': '2019'}, {'title': 'Análisis cualitativo de una propuesta pedagógica para la incorporación de entornos virtuales a la enseñanza universitaria en Argentina a partir de tres ejes: experiencia, rol docente y tiempo', 'authors': ['Ana Borgobello', 'Sofía Majul', 'Damián De Seta'], 'year': '2019'}, {'title': 'Analíticas de aprendizaje en la territorialidad virtual de la enseñanza: caso República Dominicana', 'authors': ['Jeanette Chaljub Hasbún', 'Angel Torres-Toukoumidis', 'Rafael Bello', 'Ángela Flores'], 'year': '2019'}, {'title': 'Análisis de las competencias digitales de estudiantes de ingeniería de una universidad pública peruana', 'authors': ['Segundo Agustín Garcia Flores'], 'year': '2019'}, {'title': 'El diseño instruccional ADDIE en la Facultad de Ingeniería de UNIMINUTO', 'authors': ['Ilber Darío Saza Garzón', 'Doris Patricia Mora Marín', 'Maryuri Agudelo Franco'], 'year': '2019'}]}, {'title': \"Vol. 6, Núm. 2 (2019): HAMUT'AY\", 'archive': 'vol_6_num_2_2019_hamutay', 'link_vol': 'https://revistas.uap.edu.pe/ojs/index.php/HAMUT/issue/view/163/showToc', 'articles': [{'title': 'Empoderar a la ciudadanía mediante la educación en medios (Empower citizenship through education in digital media)', 'authors': ['Rosa García Ruiz', 'Ana Pérez Escoda'], 'year': '2019'}, {'title': 'Integración de las TIC en la educación escolar: importancia de la coordinación, la formación y la organización interna de los centros educativos desde un análisis bibliométrico (Integration of ICT in school education: importance of coordination, training and internal organization of schools from a bibliometric analysis)', 'authors': ['Juan José Sosa Alonso', 'Anabel Bethencourt Aguilar'], 'year': '2019'}, {'title': 'Exploración y análisis de las competencias informacionales de los futuros maestros y maestras de educación primaria (Exploration and analysis of the informational competences of future teachers of primary education)', 'authors': ['Belén Quintero Ordoñez', 'Eloísa Reche Urbano', 'Ignacio González López'], 'year': '2019'}, {'title': 'Hábitos de uso de Internet en niños y niñas de 8 a 12 años: un estudio descriptivo (Internet use habits in children age 8 to 12: a descriptive study)', 'authors': ['Alicia Peñalva Vélez', 'María Napal Fraile'], 'year': '2019'}, {'title': 'Recursos de la Web 2.0 Aplicados en el aula invertida en apoyo del proceso de formación profesional del psicólogo (Web 2.0 resources applied in the classroom inverted in support of the process of professional training of the psychologist)', 'authors': ['Néstor Fernández Sánchez', 'Paola Alexandra Quispe Palpa'], 'year': '2019'}, {'title': 'Estudio de caso sobre el desarrollo de habilidades metacognitivas en estudiantes con necesidades educativas especiales por medio de ambientes de aprendizaje basados en la Web para la enseñanza de la Ciencias Sociales (A Case Study on The Development of Metacognitive Skills In Students With Special Educational Needs Through Web-Based Learning Environments For Teaching Social Sciences)', 'authors': ['Lucero Mendoza', 'Adriana Huertas', 'José Ugarte'], 'year': '2019'}, {'title': 'Escala de aprendizaje autogestivo en estudiantes universitarios de la carrera de Psicología de un sistema en línea (Scale of self-management learning in university students of the career of Psychology of an online system)', 'authors': ['Consuelo Rubi Rosales Piña', 'Ricardo Sánchez Medina', 'Sandra Ivonne Muñoz Maldonado'], 'year': '2019'}, {'title': 'Identificación de estilos de aprendizaje para la adaptación de un ambiente eLearning (Identification of learning styles for the adaptation of an eLearning environment)', 'authors': ['Yasunari del Valle Ramírez León'], 'year': '2019'}, {'title': 'Propuesta de arquitectura de microservicios, metodología Scrum para una aplicación móvil de control académico: Caso Escuela Profesional de Obstetricia de la Universidad Nacional Mayor de San Marcos (Microservices architecture proposal, Scrum methodology for a mobile application of academic control: Case of the Universidad Nacional Mayor de San Marcos Professional School of Obstetrics)', 'authors': ['Percy Edwin De la Cruz Vélez de Villa', 'Maycol Henry Espinoza Ramirez', 'Omar Cuba Estrella'], 'year': '2019'}]}, {'title': \"Vol. 6, Núm. 1 (2019): HAMUT'AY\", 'archive': 'vol_6_num_1_2019_hamutay', 'link_vol': 'https://revistas.uap.edu.pe/ojs/index.php/HAMUT/issue/view/149/showToc', 'articles': [{'title': 'Percepción del alumnado universitario sobre su grado de competencia digital (Perception of university students about their level of digital competence)', 'authors': ['Víctor Manuel Hernández Rivero', 'María Belén San Nicolás Santos'], 'year': '2019'}, {'title': 'La formación digital del estudiante universitario digital: competencias, necesidades y pautas de actuación (Digital literacy of university digital students: competences, needs and action guidelines)', 'authors': ['Alba María Hernández Sánchez', 'Rocío Quijano López', 'Miguel Pérez Ferra'], 'year': '2019'}, {'title': 'Google Sites como herramienta didáctica online en el aprendizaje significativo del área de ciencia, tecnología y ambiente en estudiantes de cuarto grado de educación secundaria (Google Sites as an online teaching tool for meaningful learning in the area of science, technology and environment in fourth grade students of secondary education)', 'authors': ['Oscar Melanio Dávila Rojas', 'Carmen Rosa Gutiérrez Pantoja'], 'year': '2019'}, {'title': 'Competencia digital y desarrollo profesional de los docentes de dos instituciones de educación básica regular del distrito de Los Olivos, Lima-Perú (Digital competence and professional development of teachers from two institutions of regular basic education of Los Olivos district, Lima-Peru)', 'authors': ['Felipe Guizado Osco', 'Isabel Menacho Vargas', 'Angel Salvatierra Melgar'], 'year': '2019'}, {'title': 'Plataforma de recursos educativos abiertos para la formación de capital humano en pymes (Platform of open educational resources for the training of human capital in SMEs)', 'authors': ['María Dolores Martínez Guzmán', 'Dámaris Chávez Maza', 'Marcela Rojas Ortega'], 'year': '2019'}, {'title': 'Innovación educativa en el aula mediante Design Thinking y Game Thinking (Educational innovation in the classroom through Design Thinking and Game Thinking)', 'authors': ['Hugo Arias Flores', 'Janio Jadán Guerrero', 'Lucía Gómez Luna'], 'year': '2019'}, {'title': 'Educomunicación y Buenas Prácticas en los nuevos escenarios tecnológicos: Análisis del Caso Gallego (España) (Educommunication and Good Practices in the new technological scenarios: Analysis of the Gallego case (Spain))', 'authors': ['Mari Carmen Caldeiro Pedreira', 'Ignacio Aguaded', 'Amor Pérez Rodríguez'], 'year': '2019'}, {'title': 'La escuela en la sociedad red: Un espacio de encuentro con los valores (Schools in the network society: A meeting place with values)', 'authors': ['Paula Renés-Arellano'], 'year': '2019'}, {'title': 'La Tablet en la escuela: Revisión bibliográfica en Scopus (The Tablet in schools: A bibliographic review from Scopus)', 'authors': ['María Montserrat Castro Rodríguez', 'Óscar Mallón Suárez'], 'year': '2019'}]}, {'title': \"Vol. 5, Núm. 2 (2018): HAMUT'AY\", 'archive': 'vol_5_num_2_2018_hamutay', 'link_vol': 'https://revistas.uap.edu.pe/ojs/index.php/HAMUT/issue/view/126/showToc', 'articles': [{'title': 'Aspectos sociodemográficos y autorregulación de estudiantes de nuevo ingreso a psicología en línea', 'authors': ['José Manuel Meza Cano', 'Anabel De la Rosa Gómez', 'Judith Rivera Baños', 'Edith González Santiago'], 'year': '2018'}, {'title': 'Conocimientos del tutor en línea en una universidad pública mexicana: Modelo TPACK', 'authors': ['Diana Natalia Lima Villeda', 'Rosa del Carmen Flores Macías'], 'year': '2018'}, {'title': 'Participación activa y valoración de los materiales didácticos en el éxito/fracaso académico en Educación a Distancia', 'authors': ['Segundo Agustín García Flores'], 'year': '2018'}, {'title': 'Inteligencias múltiples y estilos de aprendizaje en estudiantes de psicología de un curso en modalidad de educación virtual', 'authors': ['Claudia Andrea Paredes', 'Clara Tatiana Verney', 'Laura Gisella Tolosa'], 'year': '2018'}, {'title': 'Estrategia de evaluación para el mejoramiento continuo de cursos de un programa de Artes Visuales en modalidad virtual y a distancia: Estudio de caso', 'authors': ['Raúl Alejandro Martínez Espinosa', 'Tatiana Martínez Santis', 'Daniela Hernández Contreras'], 'year': '2018'}, {'title': 'Visualización de indicadores de actividad docente en educación en línea como apoyo a la evaluación formativa', 'authors': ['Germán Alejandro Miranda Díaz', 'Zaira Yael Delgado Celis'], 'year': '2018'}, {'title': 'Análisis de la firma digital con base en la infraestructura de clave pública', 'authors': ['Fresia Yanina Holguín García'], 'year': '2018'}]}, {'title': \"Vol. 5, Núm. 1 (2018): HAMUT'AY\", 'archive': 'vol_5_num_1_2018_hamutay', 'link_vol': 'https://revistas.uap.edu.pe/ojs/index.php/HAMUT/issue/view/125/showToc', 'articles': [{'title': 'Simulador virtual para acoso escolar en niños y adolescentes: Un estudio piloto en México', 'authors': ['Enrique Berra Ruiz', 'Jocelyn Castañeda Pérez', 'Sandra Ivonne Muñoz Maldonado', 'Zaira Vega Valero', 'Ximena Duran Baca'], 'year': '2018'}, {'title': 'El software educativo Hot Potatoes en el aprendizaje de la especialidad de computación en el Centro de Educación Técnica Productiva “Virgen del Rosario” de Huari, Perú', 'authors': ['Oscar Melanio Dávila Rojas', 'Ysabel Cristina Figueroa Taboada'], 'year': '2018'}, {'title': 'Características del uso de emojis en la comunicación por el chat de WhatsApp', 'authors': ['Denis José Montenegro Díaz', 'Ericka Alexandra Hermenegildo Beltrán'], 'year': '2018'}, {'title': 'Presencia docente en ambientes de aprendizaje mediados por Tecnologías de la Información y la Comunicación', 'authors': ['John Alexander Rojas-Montero', 'Sindy Paola Díaz-Better'], 'year': '2018'}, {'title': 'M-learning en el CELEX-ESIA Z. Estrategia educativa que incorpora el WhatsApp al E-learning para el desarrollo de la competencia oral y escrita del idioma inglés', 'authors': ['Mercedes Leticia Sánchez Ambriz', 'Sonia Martínez Balboa'], 'year': '2018'}, {'title': 'Metodología de Aprendizaje Basada en Metáforas Narrativas y Gamificación: Un caso de estudio en un Programa de Posgrado Semipresencial', 'authors': ['Janio Jadán-Guerrero', 'Carlos Ramos-Galarza'], 'year': '2018'}, {'title': 'Tecnologías de Información y comunicación desde la virtualidad para la formación en investigación aplicada e innovación “caso semilleros de investigación en los programas tecnológicos Universidad de Caldas”', 'authors': ['Rubén Darío Cárdenas Espinosa'], 'year': '2018'}]}, {'title': \"Vol. 4, Núm. 2 (2017): HAMUT'AY\", 'archive': 'vol_4_num_2_2017_hamutay', 'link_vol': 'https://revistas.uap.edu.pe/ojs/index.php/HAMUT/issue/view/124/showToc', 'articles': [{'title': 'Contraste de Estudiantes Universitarios Presenciales y en Línea en un Curso Autogestivo: el Papel de la Autoeficacia y la Motivación', 'authors': ['Sandra Ivonne Muñoz Maldonado', 'Ricardo Sánchez Medina', 'David Javier Enríquez Negrete', 'Consuelo Rubi Rosales Piña'], 'year': '2017'}, {'title': 'Sistema Inteligente de Tutoría para entrenamiento procedimental apoyado en un diálogo adaptado al contexto', 'authors': ['Jose Paladines Morán', 'Jaime Ramírez Rodríguez'], 'year': '2017'}, {'title': 'Capital Intelectual, Gestión del Conocimiento en la Interacción Gobierno y Gestión de la Tecnologías de la Información desde Perspectiva COBIT 5', 'authors': ['Percy Edwin De la Cruz Vélez de Villa'], 'year': '2017'}, {'title': 'Blog, Correo Electrónico y Foros Temáticos: Su Uso, Dominio y Actitud en Estudiantes de Educación Medio Superior de México', 'authors': ['Joanna Koral Chávez López', 'Marcela Patricia Del Toro Valencia', 'Olga López Pérez'], 'year': '2017'}, {'title': 'Juegos online: una mirada desde el juego patológico', 'authors': ['Daniel Uchuypoma Canchumani'], 'year': '2017'}, {'title': 'Propuesta de práctica investigativa con la Webquest. Estrategia pedagógica de comprensión del concepto e importancia del “bosque”', 'authors': ['Magda Julissa Rojas Bahamón'], 'year': '2017'}, {'title': 'Despliegue de una Red Inalámbrica Libre Comunitaria: un ejercicio de soberanía digital en el barrio Villa del Río (Bogotá, Colombia) (Deploying an Open Community Wireless Network: An exercise on digital sovereignty in Villa del Río neighborhood (Bogotá, Colombia))', 'authors': ['Taborda Ángel Leonardo Gonzalo'], 'year': '2017'}]}, {'title': \"Vol. 4, Núm. 1 (2017): HAMUT'AY\", 'archive': 'vol_4_num_1_2017_hamutay', 'link_vol': 'https://revistas.uap.edu.pe/ojs/index.php/HAMUT/issue/view/123/showToc', 'articles': [{'title': 'Importancia de las tecnologías en los trabajos de investigación: una experiencia en los estudiantes de licenciatura, área económico-administrativa de la Universidad Veracruzana- México', 'authors': ['Belinda Izquierdo García'], 'year': '2017'}, {'title': 'Herramientas TIC en el aprendizaje en el área de matemática: Caso Escuela PopUp, Piura-Perú', 'authors': ['Cleofé Genoveva Alvites Huamaní'], 'year': '2017'}, {'title': 'La evaluación de la educación a distancia. Propuesta de una guía para la autoevaluación Assessment in distance education. A proposal of a guide for self-evaluation', 'authors': ['Ana María Bañuelos Márquez'], 'year': '2017'}, {'title': 'Ambiente virtual de aprendizaje para la capacitación tipo inducción, sobre contenidos estratégicos y misionales dirigido a colaboradores del Instituto Colombiano de Bienestar Familiar (ICBF)', 'authors': ['Nancy Olarte López'], 'year': '2017'}, {'title': 'Redes Sociales, Facebook y Blog según los Estilos de Aprendizaje en Cursos E-Learning', 'authors': ['Ilse Astrid Porras Nieto'], 'year': '2017'}, {'title': 'La Práctica Supervisada Mediada por Tecnología como Escenario para la Enseñanza de Competencias Clínicas  - The Supervised Practice Technology-Mediated as a Scenario for Clinical Skills Training', 'authors': ['Anabel De la Rosa-Gómez'], 'year': '2017'}, {'title': 'Los recursos tecnológicos como soporte para la enseñanza de las ciencias naturales - Technological resources as support in natural sciences teaching', 'authors': ['Milagros Esperanza Rojas Salgado'], 'year': '2017'}]}, {'title': \"Vol. 3, Núm. 2 (2016): HAMUT'AY\", 'archive': 'vol_3_num_2_2016_hamutay', 'link_vol': 'https://revistas.uap.edu.pe/ojs/index.php/HAMUT/issue/view/122', 'articles': [{'title': 'Diseño de un curso autogestivo modular en línea de metodología de la investigación para universitarios - Design of a modular self-managed online course research methodology for university students', 'authors': ['Esperanza Guarneros-Reyes', 'Argenis Josué Espinoza-Zepeda', 'Arturo Silva Rodríguez', 'José Manuel Sánchez-Sordo'], 'year': '2016'}, {'title': 'Webinario: herramienta de integración en clases virtuales - Webinar: Integration Tool in Virtual Class', 'authors': ['José Bernardo Peña Arcila'], 'year': '2016'}, {'title': 'Redes sociales virtuales, ¿fortalezas o debilidades? un análisis psicosocial relacionado con el cybersexo y la soledad - Virtual social networks, strengths or weaknesses? A psychosocial analysis in relation to cybersex and loneliness', 'authors': ['Néstor Fernández Sánchez'], 'year': '2016'}, {'title': 'Gestores bibliográficos: Análisis y utilidad en base de datos de referencias online', 'authors': ['Patricia Cecilia Orbegoso Ciudad'], 'year': '2016'}, {'title': 'Interacción comunicativa con Blackboard Collaborate y el rendimiento académico en estudiantes de educación a distancia', 'authors': ['Denis José Montenegro Díaz'], 'year': '2016'}, {'title': 'Universidad de Guayaquil: competencias tecnológicas y e-formación del docente ante el empleo de nuevas tecnologías', 'authors': ['Guido Poveda Burgos'], 'year': '2016'}, {'title': 'Las tecnologías de la información y comunicación en los modelos educativos', 'authors': ['Rosabel Alarcón Ramírez'], 'year': '2016'}]}, {'title': \"Vol. 3, Núm. 1 (2016): HAMUT'AY\", 'archive': 'vol_3_num_1_2016_hamutay', 'link_vol': 'https://revistas.uap.edu.pe/ojs/index.php/HAMUT/issue/view/110/showToc', 'articles': [{'title': 'El entorno virtual Chamilo en el desarrollo de las competencias del módulo de ofimática en estudiantes del instituto “Norbert Wiener” de Lince / the chamilo virtual environment in the development of competencies in the office automation unit in students', 'authors': ['Daniel Federico Agama Moreno'], 'year': '2016'}, {'title': 'Enseñanza de las tic para el desarrollo de competencias tecnológicas en docentes de educación básica alternativa / teaching of ict for the development of technological competencies at alternative basic education teachers', 'authors': ['Rosario Luján Alcarraz'], 'year': '2016'}, {'title': 'Gestión administrativa y conocimiento de las tic en docentes de educación primaria de las instituciones educativas Innova Schools de San Juan de Lurigancho y Ate', 'authors': ['Pedro José Farroñay Díaz'], 'year': '2016'}, {'title': 'El desempeño docente y el uso de recursos informáticos en la institución educativa nº 7050 “Nicanor Rivera Cáceres”', 'authors': ['Danitza Miriam Gutiérrez Cadenas'], 'year': '2016'}, {'title': 'Software libre enfocados en diversos campos de las ciencias biológicas', 'authors': ['Miguel Angel Alcalde-Alvites'], 'year': '2016'}, {'title': 'Usabilidad: páginas web, entornos y educación virtual', 'authors': ['Pedro Alberto Alvites-Huamaní'], 'year': '2016'}]}, {'title': \"Vol. 2, Núm. 2 (2015): HAMUT'AY\", 'archive': 'vol_2_num_2_2015_hamutay', 'link_vol': 'https://revistas.uap.edu.pe/ojs/index.php/HAMUT/issue/view/79/showToc', 'articles': [{'title': 'Dimensiones de la personalidad y actitudes hacia el consumo de internet en jóvenes en consultoria privada (dimensions of personality and attitudes towards the use of internet in youth in private counseling)', 'authors': ['Jesús Rosamaría Torres'], 'year': '2015'}, {'title': 'Modelo explicativo de factores psicológicos y el bullying: primer proyecto semillero de investigación de la Dirección Universitaria de Educación a Distancia de la Universidad Alas Peruanas', 'authors': ['Cleofé Genoveva Alvites- Huamaní'], 'year': '2015'}, {'title': 'Centros de innovación, desarrollo tecnológico y emprendimiento: caso Universidad de Panamá (centers innovation, technological development and entrepreneurship: case of the universidad de panamá)', 'authors': ['Omar O. López Sinisterra'], 'year': '2015'}, {'title': 'Realidad aumentada: recurso digital entre lo real y lo virtual (augmented reality: a digital resource between the real and the virtual world)', 'authors': ['Juan Alvites Huamaní'], 'year': '2015'}, {'title': 'Tecnología que evita la revictimización en niños, niñas y adolescentes: Cámara Gesell( technology that prevents re-victimization in children and adolescents: camera gesell)', 'authors': ['Elizabeth Consuelo Ulfe Herrera'], 'year': '2015'}]}, {'title': \"Vol. 2, Núm. 1 (2015): HAMUT'AY\", 'archive': 'vol_2_num_1_2015_hamutay', 'link_vol': 'https://revistas.uap.edu.pe/ojs/index.php/HAMUT/issue/view/78/showToc', 'articles': [{'title': 'Análisis de las orientaciones de los estilos de interacción del tutor a distancia con sus estudiantes: aportes para mejorar la eficacia del proceso tutorial', 'authors': ['Néstor Fernández Sánchez'], 'year': '2015'}, {'title': 'El foro virtual como estrategia de enseñanza en la educación superior (the virtual forum as a strategy of teaching in higher education)', 'authors': ['Violeta Emperatriz Cuenca Cartagena'], 'year': '2015'}, {'title': 'Daltonismo y uso del computador en educación a distancia (color-blindness and the use of computers in distance education)', 'authors': ['Miguel Angel Alcalde-Alvites'], 'year': '2015'}, {'title': 'Estudio preliminar sobre el uso de Tecnologías de información y comunicación en instituciones de educación superior de la Red Ilumno', 'authors': ['Luis Alfonso Caro Bautista'], 'year': '2015'}, {'title': 'Creación e implementación de semilleros de investigación en la Dirección Universitaria de Educación a Distancia de la Universidad Alas Peruanas', 'authors': ['Cleofé Genoveva Alvites- Huamaní'], 'year': '2015'}, {'title': 'Aplicación del whatsapp en el periodismo digital y ciudadano (application of whatsapp in digital and citizen journalism)', 'authors': ['Yulvitz Ramón Quiroz Pacheco'], 'year': '2015'}]}, {'title': \"Vol. 1, Núm. 2 (2014): HAMUT'AY\", 'archive': 'vol_1_num_2_2014_hamutay', 'link_vol': 'https://revistas.uap.edu.pe/ojs/index.php/HAMUT/issue/view/68/showToc', 'articles': [{'title': 'Metodología de simulación: simulador baby real care II en el proceso de enseñanza aprendizaje', 'authors': ['Cleofe Genoveva Alvites- Huamani'], 'year': '2014'}, {'title': 'Adicción a internet en estudiantes de un instituto tecnológico', 'authors': ['Wendy León Lescano'], 'year': '2014'}, {'title': 'Sexo, edad y uso de redes sociales en los alumnos de la modalidad a distancia de la Universidad Alas Peruanas, 2014', 'authors': ['Luis Molina Almanza'], 'year': '2014'}, {'title': 'Bioinformática: tecnologías de la información al servicio de la biología y otras ciencias', 'authors': ['Miguel Angel Alcalde-Alvites'], 'year': '2014'}, {'title': 'El podcast como recurso educativo en el ámbito de la educación universitaria a distancia', 'authors': ['Carlos Enrique Guanilo Paredes'], 'year': '2014'}, {'title': 'Virtualización: educación abierta y a distancia', 'authors': ['Vicenta Irene Tafur Anzualdo'], 'year': '2014'}]}, {'title': \"Vol. 1, Núm. 1 (2014): HAMUT'AY\", 'archive': 'vol_1_num_1_2014_hamutay', 'link_vol': 'https://revistas.uap.edu.pe/ojs/index.php/HAMUT/issue/view/67/showToc', 'articles': [{'title': 'Moocs y Spocs (Small Private Online Courses): sus posibilidades para la Formación del Profesorado', 'authors': ['Miguel Santamaría Lancho'], 'year': '2014'}, {'title': 'Estudio de la Aplicación de la Plataforma de Intranet en la Gestión del conocimiento de la Institución Educativa “José Abelardo Quiñones” de Ate, Lima-Perú', 'authors': ['Isaac Huaira Paitán'], 'year': '2014'}, {'title': '5G: Una nueva generación para una nueva sociedad', 'authors': ['Robert G. Perea Tamayo'], 'year': '2014'}, {'title': '¿Empleamos eficientemente las tecnologías de la información en la administración pública?', 'authors': ['Victor Miranda Alfaro'], 'year': '2014'}, {'title': 'Las tecnologías de información y comunicación y el bienestar psicológico en la generación net', 'authors': ['Frida Mercedes Martino Gonzales'], 'year': '2014'}, {'title': 'Las innovaciones digitales en educación y la irrupción de una pedagogía informática', 'authors': ['Claudio Rama'], 'year': '2014'}, {'title': 'Las tecnologías y la lectura en el siglo XXI', 'authors': ['Juana Rosa Martino Gonzales'], 'year': '2014'}]}]\n"
     ]
    }
   ],
   "source": [
    "with open(\"scrappUAP.pickle\", \"rb\") as f:\n",
    "    vols = pickle.load(f)\n",
    "    print(vols)"
   ]
  },
  {
   "cell_type": "code",
   "execution_count": null,
   "id": "8d248c21",
   "metadata": {},
   "outputs": [],
   "source": []
  }
 ],
 "metadata": {
  "kernelspec": {
   "display_name": "Python 3 (ipykernel)",
   "language": "python",
   "name": "python3"
  },
  "language_info": {
   "codemirror_mode": {
    "name": "ipython",
    "version": 3
   },
   "file_extension": ".py",
   "mimetype": "text/x-python",
   "name": "python",
   "nbconvert_exporter": "python",
   "pygments_lexer": "ipython3",
   "version": "3.9.7"
  }
 },
 "nbformat": 4,
 "nbformat_minor": 5
}
