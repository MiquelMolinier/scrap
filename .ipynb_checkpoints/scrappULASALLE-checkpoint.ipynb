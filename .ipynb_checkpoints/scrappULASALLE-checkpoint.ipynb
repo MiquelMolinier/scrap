{
 "cells": [
  {
   "cell_type": "code",
   "execution_count": 1,
   "id": "3647dd85",
   "metadata": {},
   "outputs": [],
   "source": [
    "import pickle\n",
    "import requests\n",
    "from bs4 import BeautifulSoup\n",
    "import sys\n",
    "import copy"
   ]
  },
  {
   "cell_type": "code",
   "execution_count": 2,
   "id": "7bb6b463",
   "metadata": {},
   "outputs": [],
   "source": [
    "rev = \"https://revistas.ulasalle.edu.pe/innosoft/issue/archive\"\n",
    "req_rev = requests.get(rev)\n",
    "soup_rev = BeautifulSoup(req_rev.content, \"lxml\")"
   ]
  },
  {
   "cell_type": "code",
   "execution_count": 3,
   "id": "6f46ffcc",
   "metadata": {},
   "outputs": [
    {
     "data": {
      "text/plain": [
       "[{'archive': 'Vol_2_Num_2_2021',\n",
       "  'link_vol': 'https://revistas.ulasalle.edu.pe/innosoft/issue/view/6',\n",
       "  'title': 'Vol. 2 Núm. 2 (2021)'},\n",
       " {'archive': 'Vol_2_Num_1_2021',\n",
       "  'link_vol': 'https://revistas.ulasalle.edu.pe/innosoft/issue/view/5',\n",
       "  'title': 'Vol. 2 Núm. 1 (2021)'},\n",
       " {'archive': 'Vol_1_Num_2_2020',\n",
       "  'link_vol': 'https://revistas.ulasalle.edu.pe/innosoft/issue/view/2',\n",
       "  'title': 'Vol. 1 Núm. 2 (2020)'},\n",
       " {'archive': 'Vol_1_Num_1_2020',\n",
       "  'link_vol': 'https://revistas.ulasalle.edu.pe/innosoft/issue/view/1',\n",
       "  'title': 'Vol. 1 Núm. 1 (2020)'}]"
      ]
     },
     "execution_count": 3,
     "metadata": {},
     "output_type": "execute_result"
    }
   ],
   "source": [
    "revi = soup_rev.find(\"ul\", attrs=\"issues_archive\").find_all(\"li\")\n",
    "vols = []\n",
    "for vol in revi:\n",
    "    dictt = {}\n",
    "    link_vol = vol.a[\"href\"]\n",
    "    title = vol.find(\"div\",attrs=\"series\")\n",
    "    title = title.string.replace(\"\\n\", \"\").replace(\"\\t\", \"\").strip()\n",
    "    archive = title.replace(\"ú\", \"u\").replace(\".\", \"\").replace(\"(\",\"\").replace(\")\",\"\").replace(\" \",\"_\")\n",
    "    dictt[\"archive\"] = archive\n",
    "    dictt[\"link_vol\"] = link_vol\n",
    "    dictt[\"title\"] = title\n",
    "    vols.append(dictt)\n",
    "vols"
   ]
  },
  {
   "cell_type": "code",
   "execution_count": 4,
   "id": "b686c082",
   "metadata": {},
   "outputs": [
    {
     "data": {
      "text/plain": [
       "[{'archive': 'Vol_2_Num_2_2021',\n",
       "  'link_vol': 'https://revistas.ulasalle.edu.pe/innosoft/issue/view/6',\n",
       "  'title': 'Vol. 2 Núm. 2 (2021)',\n",
       "  'articles': [{'title': 'Modelo predictivo para la detección temprana de estudiantes con alto riesgo de deserción académica',\n",
       "    'link_art': 'https://revistas.ulasalle.edu.pe/innosoft/article/view/40',\n",
       "    'authors': ['Kevin Rivera Vergaray']},\n",
       "   {'title': 'Predicción de mortalidad a causa del Covid 19 en Perú utilizando redes neuronales artificiales',\n",
       "    'link_art': 'https://revistas.ulasalle.edu.pe/innosoft/article/view/43',\n",
       "    'authors': ['Cesar Mayta Avalos ',\n",
       "     ' Jesús Cristian Valdivia Mamani ',\n",
       "     ' Fernando Rosales Castilla',\n",
       "     ' Milca Gines Colana']},\n",
       "   {'title': 'Propuesta de un plan de seguridad de la información para incrementar la fiabilidad de datos en una financiera',\n",
       "    'link_art': 'https://revistas.ulasalle.edu.pe/innosoft/article/view/39',\n",
       "    'authors': ['Wilmer Aufredy Apaza Chávez']},\n",
       "   {'title': 'Aplicación de regresión logística para la predicción de demanda por especialidad médica en consulta externa hospitalaria',\n",
       "    'link_art': 'https://revistas.ulasalle.edu.pe/innosoft/article/view/45',\n",
       "    'authors': ['Rene Aquino Arcata',\n",
       "     ' Ronald Cuevas Machaca',\n",
       "     ' Luis Godoy Montoya',\n",
       "     ' Heber Rodríguez Puma']},\n",
       "   {'title': 'Predicción de hipertensión arterial a través de un sistema de regresión logística',\n",
       "    'link_art': 'https://revistas.ulasalle.edu.pe/innosoft/article/view/44',\n",
       "    'authors': ['Cynthia Mayumi Tesillo Gomez',\n",
       "     ' Yuri Alexander Escobar Arcaya',\n",
       "     ' Edwin Daniel León Gutierrez']},\n",
       "   {'title': 'Sistema para proponer la nota final de los estudiantes mediante Redes Neuronales',\n",
       "    'link_art': 'https://revistas.ulasalle.edu.pe/innosoft/article/view/46',\n",
       "    'authors': ['Kleber Ernesto Baldarrago Salas',\n",
       "     ' Erika Cayllahua Chicaña',\n",
       "     ' Fanny Lorena Lorenzo Quilla',\n",
       "     ' Maria Quijia Alvarez']},\n",
       "   {'title': 'Selección de una red social para apoyar la docencia universitaria empleando computación con palabras',\n",
       "    'link_art': 'https://revistas.ulasalle.edu.pe/innosoft/article/view/47',\n",
       "    'authors': ['Dargel Veloz Morales', ' Laritza González Marrero']}]},\n",
       " {'archive': 'Vol_2_Num_1_2021',\n",
       "  'link_vol': 'https://revistas.ulasalle.edu.pe/innosoft/issue/view/5',\n",
       "  'title': 'Vol. 2 Núm. 1 (2021)',\n",
       "  'articles': [{'title': 'Design Thinking aplicado al Diseño de Experiencia de Usuario',\n",
       "    'link_art': 'https://revistas.ulasalle.edu.pe/innosoft/article/view/35',\n",
       "    'authors': ['Bragean Luis Vargas Márquez',\n",
       "     ' Luis Angel  Inga Hanampa',\n",
       "     ' Mauricio Gonzalo Maldonado Portilla']},\n",
       "   {'title': 'Componente de revisión de estándar de arquitectura de datos para el gestor de bases de datos SQLite',\n",
       "    'link_art': 'https://revistas.ulasalle.edu.pe/innosoft/article/view/32',\n",
       "    'authors': ['Sandra Lima Torres']},\n",
       "   {'title': 'Clasificador de estrellas de Neutrones con una red neuronal multicapa utilizando R',\n",
       "    'link_art': 'https://revistas.ulasalle.edu.pe/innosoft/article/view/36',\n",
       "    'authors': ['Luis Angel Aliaga Marica',\n",
       "     ' Edilson Wanser  Herrera Villa ',\n",
       "     ' José Mejía Huayhua ',\n",
       "     ' Lizette  Quispe Flores']},\n",
       "   {'title': 'Aplicación del método Design Thinking en el área de requerimientos de software',\n",
       "    'link_art': 'https://revistas.ulasalle.edu.pe/innosoft/article/view/37',\n",
       "    'authors': ['Gerson Italo Huarcaya Zapana',\n",
       "     ' Nicolas Herencia Castro ',\n",
       "     ' Miguel Angel  Sarmiento Tico',\n",
       "     ' Elber Diego  Chalco Choquehuanca',\n",
       "     ' Alex Daniel  Ticona Bejarano']},\n",
       "   {'title': 'Construcción de Dispositivo de Hardware Libre para Interacción en Entornos 3D',\n",
       "    'link_art': 'https://revistas.ulasalle.edu.pe/innosoft/article/view/33',\n",
       "    'authors': ['Jorge Enrique Rodríguez Jiménez',\n",
       "     ' Ivan Pérez Mallea',\n",
       "     ' Arianna Rodríguez Jiménez']},\n",
       "   {'title': 'Proyecto de gestión de redes en BioCen',\n",
       "    'link_art': 'https://revistas.ulasalle.edu.pe/innosoft/article/view/38',\n",
       "    'authors': ['Ihosvany Rodríguez González',\n",
       "     ' Mónica Peña Casanova',\n",
       "     ' Anié Bermudez Peña',\n",
       "     ' Ariel O. Famadas García',\n",
       "     ' Alicia C. Blanco Domínguez',\n",
       "     ' Ludibel Mauri Sedeño',\n",
       "     ' Arley Pérez Almario']}]},\n",
       " {'archive': 'Vol_1_Num_2_2020',\n",
       "  'link_vol': 'https://revistas.ulasalle.edu.pe/innosoft/issue/view/2',\n",
       "  'title': 'Vol. 1 Núm. 2 (2020)',\n",
       "  'articles': [{'title': 'Gestión de la Configuración y el Cambio en Proyectos de Servicios de TI',\n",
       "    'link_art': 'https://revistas.ulasalle.edu.pe/innosoft/article/view/28',\n",
       "    'authors': ['Gretel Danitza Canasa Condori',\n",
       "     ' Fernando Omar Cayo Riveros']},\n",
       "   {'title': 'MPI vs OpenMP: Un caso de estudio sobre la generación del conjunto de Mandelbrot',\n",
       "    'link_art': 'https://revistas.ulasalle.edu.pe/innosoft/article/view/29',\n",
       "    'authors': ['Ernesto Soto Gómez']},\n",
       "   {'title': 'Resolución paralela de sistemas triangulares',\n",
       "    'link_art': 'https://revistas.ulasalle.edu.pe/innosoft/article/view/25',\n",
       "    'authors': ['Ihosvany Rodríguez González', ' Anié Bermudez Peña']},\n",
       "   {'title': 'Design Thinking en la Planificación de Pruebas de Software',\n",
       "    'link_art': 'https://revistas.ulasalle.edu.pe/innosoft/article/view/24',\n",
       "    'authors': ['Yasiel Pérez Vera',\n",
       "     ' Juan José Gallegos Valdivia',\n",
       "     ' Sandra Maria Zapata Quentasi',\n",
       "     ' Doris Marcela Ccama Yana',\n",
       "     ' Rosa Elvira Choque Apaza']},\n",
       "   {'title': 'Sistema para la Evaluación Integral Estudiantil',\n",
       "    'link_art': 'https://revistas.ulasalle.edu.pe/innosoft/article/view/30',\n",
       "    'authors': ['Duriet Aguilera Álvarez', ' Alcides Rodríguez Rodríguez']},\n",
       "   {'title': 'Aplicación de software gamificada en la asignatura Teleinformática',\n",
       "    'link_art': 'https://revistas.ulasalle.edu.pe/innosoft/article/view/31',\n",
       "    'authors': ['Dargel Veloz Morales', ' Laritza González Marrero']}]},\n",
       " {'archive': 'Vol_1_Num_1_2020',\n",
       "  'link_vol': 'https://revistas.ulasalle.edu.pe/innosoft/issue/view/1',\n",
       "  'title': 'Vol. 1 Núm. 1 (2020)',\n",
       "  'articles': [{'title': 'Optimización de los procesos de producción en la industria de la confección de prendas de vestir utilizando simulación de eventos discretos',\n",
       "    'link_art': 'https://revistas.ulasalle.edu.pe/innosoft/article/view/9',\n",
       "    'authors': ['Luis Alfredo Aragón Guía',\n",
       "     ' Yordi Jesús Díaz Callo',\n",
       "     ' Marilyn Fabiola Juarez Flores']},\n",
       "   {'title': 'QuantityEr: Una solución simple y extensible para obtener la cantidad de resultados de consultas complejas a GitHub',\n",
       "    'link_art': 'https://revistas.ulasalle.edu.pe/innosoft/article/view/14',\n",
       "    'authors': ['Ernesto Soto Gómez']},\n",
       "   {'title': 'Aplicación de métodos numéricos utilizando MATLAB al modelado del fármaco AZT y la supervivencia con SIDA',\n",
       "    'link_art': 'https://revistas.ulasalle.edu.pe/innosoft/article/view/12',\n",
       "    'authors': ['Ihosvany Rodríguez González', ' Anié Bermudez Peña']},\n",
       "   {'title': 'Simulación del proceso de desarrollo de software: una aproximación con Dinámica de Sistemas y el Método de Larman',\n",
       "    'link_art': 'https://revistas.ulasalle.edu.pe/innosoft/article/view/11',\n",
       "    'authors': ['German Lenin Dugarte Peña',\n",
       "     ' Maria Isabel Sanchez Segura',\n",
       "     ' Fuensanta Medina Domínguez',\n",
       "     ' Antonio de Amescua Seco']},\n",
       "   {'title': 'Componente de indexación de huellas dactilares basado en características globales',\n",
       "    'link_art': 'https://revistas.ulasalle.edu.pe/innosoft/article/view/17',\n",
       "    'authors': ['Estela Odelsa Martín Coronel',\n",
       "     ' Adrián Hernández Barrios',\n",
       "     ' Allens Torres Ruíz']}]}]"
      ]
     },
     "execution_count": 4,
     "metadata": {},
     "output_type": "execute_result"
    }
   ],
   "source": [
    "for vol in vols:\n",
    "    link_vol = vol[\"link_vol\"]\n",
    "    req_vol = requests.get(link_vol)\n",
    "    soup_vol = BeautifulSoup(req_vol.content, \"lxml\")\n",
    "    arts = soup_vol.find(\"div\", attrs=\"sections\").find_all(\"div\", attrs=\"obj_article_summary\")\n",
    "    artt = []\n",
    "    for art in arts:\n",
    "        dictt = {}\n",
    "        title = art.div.a.string.replace(\"\\n\", \"\").replace(\"\\t\", \"\")\n",
    "        link_art = art.div.a[\"href\"]\n",
    "        authors = art.find(\"div\", attrs=\"meta\").find(\"div\", attrs=\"authors\").string\n",
    "        authors = authors.replace(\"\\n\", \"\").replace(\"\\t\", \"\").strip()\n",
    "        authors = authors.split(\",\")\n",
    "        dictt[\"title\"] = title\n",
    "        dictt[\"link_art\"] = link_art\n",
    "        dictt[\"authors\"] = authors\n",
    "        artt.append(dictt)\n",
    "    vol[\"articles\"] = artt\n",
    "vols"
   ]
  },
  {
   "cell_type": "code",
   "execution_count": 5,
   "id": "aa87bd81",
   "metadata": {},
   "outputs": [],
   "source": [
    "for vol in vols:\n",
    "    for art in vol[\"articles\"]:\n",
    "        req_art = requests.get(art[\"link_art\"])\n",
    "        soup_art = BeautifulSoup(req_art.content, \"lxml\")\n",
    "        date = soup_art.find(\"div\", attrs=\"item published\").find_all(\"span\", attrs=\"value\")[-1].string\n",
    "        date = date.replace(\"\\t\", \"\").replace(\"\\n\", \"\")\n",
    "        art[\"date\"] = date\n",
    "        #art[\"soup_art\"] = soup_art"
   ]
  },
  {
   "cell_type": "code",
   "execution_count": 6,
   "id": "5bbdb062",
   "metadata": {},
   "outputs": [],
   "source": [
    "with open(\"scrappULASALLE.pickle\", \"wb\") as f:\n",
    "    pickle.dump(vols, f, protocol=pickle.HIGHEST_PROTOCOL)"
   ]
  },
  {
   "cell_type": "code",
   "execution_count": 7,
   "id": "d96c8573",
   "metadata": {},
   "outputs": [
    {
     "name": "stdout",
     "output_type": "stream",
     "text": [
      "[{'archive': 'Vol_2_Num_2_2021', 'link_vol': 'https://revistas.ulasalle.edu.pe/innosoft/issue/view/6', 'title': 'Vol. 2 Núm. 2 (2021)', 'articles': [{'title': 'Modelo predictivo para la detección temprana de estudiantes con alto riesgo de deserción académica', 'link_art': 'https://revistas.ulasalle.edu.pe/innosoft/article/view/40', 'authors': ['Kevin Rivera Vergaray'], 'date': '2021-09-30'}, {'title': 'Predicción de mortalidad a causa del Covid 19 en Perú utilizando redes neuronales artificiales', 'link_art': 'https://revistas.ulasalle.edu.pe/innosoft/article/view/43', 'authors': ['Cesar Mayta Avalos ', ' Jesús Cristian Valdivia Mamani ', ' Fernando Rosales Castilla', ' Milca Gines Colana'], 'date': '2021-09-30'}, {'title': 'Propuesta de un plan de seguridad de la información para incrementar la fiabilidad de datos en una financiera', 'link_art': 'https://revistas.ulasalle.edu.pe/innosoft/article/view/39', 'authors': ['Wilmer Aufredy Apaza Chávez'], 'date': '2021-09-30'}, {'title': 'Aplicación de regresión logística para la predicción de demanda por especialidad médica en consulta externa hospitalaria', 'link_art': 'https://revistas.ulasalle.edu.pe/innosoft/article/view/45', 'authors': ['Rene Aquino Arcata', ' Ronald Cuevas Machaca', ' Luis Godoy Montoya', ' Heber Rodríguez Puma'], 'date': '2021-09-30'}, {'title': 'Predicción de hipertensión arterial a través de un sistema de regresión logística', 'link_art': 'https://revistas.ulasalle.edu.pe/innosoft/article/view/44', 'authors': ['Cynthia Mayumi Tesillo Gomez', ' Yuri Alexander Escobar Arcaya', ' Edwin Daniel León Gutierrez'], 'date': '2021-09-30'}, {'title': 'Sistema para proponer la nota final de los estudiantes mediante Redes Neuronales', 'link_art': 'https://revistas.ulasalle.edu.pe/innosoft/article/view/46', 'authors': ['Kleber Ernesto Baldarrago Salas', ' Erika Cayllahua Chicaña', ' Fanny Lorena Lorenzo Quilla', ' Maria Quijia Alvarez'], 'date': '2021-09-30'}, {'title': 'Selección de una red social para apoyar la docencia universitaria empleando computación con palabras', 'link_art': 'https://revistas.ulasalle.edu.pe/innosoft/article/view/47', 'authors': ['Dargel Veloz Morales', ' Laritza González Marrero'], 'date': '2021-09-30'}]}, {'archive': 'Vol_2_Num_1_2021', 'link_vol': 'https://revistas.ulasalle.edu.pe/innosoft/issue/view/5', 'title': 'Vol. 2 Núm. 1 (2021)', 'articles': [{'title': 'Design Thinking aplicado al Diseño de Experiencia de Usuario', 'link_art': 'https://revistas.ulasalle.edu.pe/innosoft/article/view/35', 'authors': ['Bragean Luis Vargas Márquez', ' Luis Angel  Inga Hanampa', ' Mauricio Gonzalo Maldonado Portilla'], 'date': '2021-03-30'}, {'title': 'Componente de revisión de estándar de arquitectura de datos para el gestor de bases de datos SQLite', 'link_art': 'https://revistas.ulasalle.edu.pe/innosoft/article/view/32', 'authors': ['Sandra Lima Torres'], 'date': '2021-03-30'}, {'title': 'Clasificador de estrellas de Neutrones con una red neuronal multicapa utilizando R', 'link_art': 'https://revistas.ulasalle.edu.pe/innosoft/article/view/36', 'authors': ['Luis Angel Aliaga Marica', ' Edilson Wanser  Herrera Villa ', ' José Mejía Huayhua ', ' Lizette  Quispe Flores'], 'date': '2021-03-30'}, {'title': 'Aplicación del método Design Thinking en el área de requerimientos de software', 'link_art': 'https://revistas.ulasalle.edu.pe/innosoft/article/view/37', 'authors': ['Gerson Italo Huarcaya Zapana', ' Nicolas Herencia Castro ', ' Miguel Angel  Sarmiento Tico', ' Elber Diego  Chalco Choquehuanca', ' Alex Daniel  Ticona Bejarano'], 'date': '2021-03-30'}, {'title': 'Construcción de Dispositivo de Hardware Libre para Interacción en Entornos 3D', 'link_art': 'https://revistas.ulasalle.edu.pe/innosoft/article/view/33', 'authors': ['Jorge Enrique Rodríguez Jiménez', ' Ivan Pérez Mallea', ' Arianna Rodríguez Jiménez'], 'date': '2021-03-30'}, {'title': 'Proyecto de gestión de redes en BioCen', 'link_art': 'https://revistas.ulasalle.edu.pe/innosoft/article/view/38', 'authors': ['Ihosvany Rodríguez González', ' Mónica Peña Casanova', ' Anié Bermudez Peña', ' Ariel O. Famadas García', ' Alicia C. Blanco Domínguez', ' Ludibel Mauri Sedeño', ' Arley Pérez Almario'], 'date': '2021-03-30'}]}, {'archive': 'Vol_1_Num_2_2020', 'link_vol': 'https://revistas.ulasalle.edu.pe/innosoft/issue/view/2', 'title': 'Vol. 1 Núm. 2 (2020)', 'articles': [{'title': 'Gestión de la Configuración y el Cambio en Proyectos de Servicios de TI', 'link_art': 'https://revistas.ulasalle.edu.pe/innosoft/article/view/28', 'authors': ['Gretel Danitza Canasa Condori', ' Fernando Omar Cayo Riveros'], 'date': '2020-09-30'}, {'title': 'MPI vs OpenMP: Un caso de estudio sobre la generación del conjunto de Mandelbrot', 'link_art': 'https://revistas.ulasalle.edu.pe/innosoft/article/view/29', 'authors': ['Ernesto Soto Gómez'], 'date': '2020-09-30'}, {'title': 'Resolución paralela de sistemas triangulares', 'link_art': 'https://revistas.ulasalle.edu.pe/innosoft/article/view/25', 'authors': ['Ihosvany Rodríguez González', ' Anié Bermudez Peña'], 'date': '2020-09-30'}, {'title': 'Design Thinking en la Planificación de Pruebas de Software', 'link_art': 'https://revistas.ulasalle.edu.pe/innosoft/article/view/24', 'authors': ['Yasiel Pérez Vera', ' Juan José Gallegos Valdivia', ' Sandra Maria Zapata Quentasi', ' Doris Marcela Ccama Yana', ' Rosa Elvira Choque Apaza'], 'date': '2020-09-30'}, {'title': 'Sistema para la Evaluación Integral Estudiantil', 'link_art': 'https://revistas.ulasalle.edu.pe/innosoft/article/view/30', 'authors': ['Duriet Aguilera Álvarez', ' Alcides Rodríguez Rodríguez'], 'date': '2020-09-30'}, {'title': 'Aplicación de software gamificada en la asignatura Teleinformática', 'link_art': 'https://revistas.ulasalle.edu.pe/innosoft/article/view/31', 'authors': ['Dargel Veloz Morales', ' Laritza González Marrero'], 'date': '2020-09-30'}]}, {'archive': 'Vol_1_Num_1_2020', 'link_vol': 'https://revistas.ulasalle.edu.pe/innosoft/issue/view/1', 'title': 'Vol. 1 Núm. 1 (2020)', 'articles': [{'title': 'Optimización de los procesos de producción en la industria de la confección de prendas de vestir utilizando simulación de eventos discretos', 'link_art': 'https://revistas.ulasalle.edu.pe/innosoft/article/view/9', 'authors': ['Luis Alfredo Aragón Guía', ' Yordi Jesús Díaz Callo', ' Marilyn Fabiola Juarez Flores'], 'date': '2020-03-30'}, {'title': 'QuantityEr: Una solución simple y extensible para obtener la cantidad de resultados de consultas complejas a GitHub', 'link_art': 'https://revistas.ulasalle.edu.pe/innosoft/article/view/14', 'authors': ['Ernesto Soto Gómez'], 'date': '2020-03-30'}, {'title': 'Aplicación de métodos numéricos utilizando MATLAB al modelado del fármaco AZT y la supervivencia con SIDA', 'link_art': 'https://revistas.ulasalle.edu.pe/innosoft/article/view/12', 'authors': ['Ihosvany Rodríguez González', ' Anié Bermudez Peña'], 'date': '2020-03-30'}, {'title': 'Simulación del proceso de desarrollo de software: una aproximación con Dinámica de Sistemas y el Método de Larman', 'link_art': 'https://revistas.ulasalle.edu.pe/innosoft/article/view/11', 'authors': ['German Lenin Dugarte Peña', ' Maria Isabel Sanchez Segura', ' Fuensanta Medina Domínguez', ' Antonio de Amescua Seco'], 'date': '2020-03-30'}, {'title': 'Componente de indexación de huellas dactilares basado en características globales', 'link_art': 'https://revistas.ulasalle.edu.pe/innosoft/article/view/17', 'authors': ['Estela Odelsa Martín Coronel', ' Adrián Hernández Barrios', ' Allens Torres Ruíz'], 'date': '2020-03-30'}]}]\n"
     ]
    }
   ],
   "source": [
    "with open(\"scrappULASALLE.pickle\", \"rb\") as f:\n",
    "    obj = pickle.load(f)\n",
    "    print(obj)"
   ]
  },
  {
   "cell_type": "code",
   "execution_count": null,
   "id": "757e1bf7",
   "metadata": {},
   "outputs": [],
   "source": []
  }
 ],
 "metadata": {
  "kernelspec": {
   "display_name": "Python 3 (ipykernel)",
   "language": "python",
   "name": "python3"
  },
  "language_info": {
   "codemirror_mode": {
    "name": "ipython",
    "version": 3
   },
   "file_extension": ".py",
   "mimetype": "text/x-python",
   "name": "python",
   "nbconvert_exporter": "python",
   "pygments_lexer": "ipython3",
   "version": "3.9.7"
  }
 },
 "nbformat": 4,
 "nbformat_minor": 5
}
