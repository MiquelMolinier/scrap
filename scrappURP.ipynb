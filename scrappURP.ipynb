{
 "cells": [
  {
   "cell_type": "code",
   "execution_count": 1,
   "id": "b47923e5",
   "metadata": {},
   "outputs": [],
   "source": [
    "import pickle\n",
    "import requests\n",
    "from bs4 import BeautifulSoup"
   ]
  },
  {
   "cell_type": "code",
   "execution_count": 2,
   "id": "581a026a",
   "metadata": {},
   "outputs": [],
   "source": [
    "rev = \"https://revistas.urp.edu.pe/\"\n",
    "req = requests.get(rev)\n",
    "soup = BeautifulSoup(req.content, \"lxml\")"
   ]
  },
  {
   "cell_type": "code",
   "execution_count": 3,
   "id": "a8adcda2",
   "metadata": {},
   "outputs": [],
   "source": [
    "journal = soup.find_all(\"li\", attrs=\"has_thumb\")[14]\n",
    "link_journal = journal.find(\"a\")[\"href\"]\n",
    "req_journal = requests.get(link_journal)\n",
    "soup_journal = BeautifulSoup(req_journal.content, \"lxml\")\n",
    "link_vol = soup_journal.find(\"a\", attrs=\"read_more\")[\"href\"]"
   ]
  },
  {
   "cell_type": "code",
   "execution_count": 4,
   "id": "5ecf7dd3",
   "metadata": {},
   "outputs": [
    {
     "data": {
      "text/plain": [
       "[<div class=\"obj_issue_summary\">\n",
       " <a class=\"cover\" href=\"https://revistas.urp.edu.pe/index.php/Perfiles_Ingenieria/issue/view/291\">\n",
       " <img src=\"https://revistas.urp.edu.pe/public/journals/6/cover_issue_291_es_ES.jpg\"/>\n",
       " </a>\n",
       " <a class=\"title\" href=\"https://revistas.urp.edu.pe/index.php/Perfiles_Ingenieria/issue/view/291\">\n",
       " \t\t\t\t\tPerfiles de Ingeniería\n",
       " \t\t\t</a>\n",
       " <div class=\"series\">\n",
       " \t\t\tVol. 17 Núm. 17 (2021)\n",
       " \t\t</div>\n",
       " <div class=\"description\">\n",
       " </div>\n",
       " </div>,\n",
       " <div class=\"obj_issue_summary\">\n",
       " <a class=\"cover\" href=\"https://revistas.urp.edu.pe/index.php/Perfiles_Ingenieria/issue/view/51\">\n",
       " <img alt=\"tics\" src=\"https://revistas.urp.edu.pe/public/journals/6/cover_issue_51_es_ES.jpg\"/>\n",
       " </a>\n",
       " <a class=\"title\" href=\"https://revistas.urp.edu.pe/index.php/Perfiles_Ingenieria/issue/view/51\">\n",
       " \t\t\t\t\tPerfiles de Ingeniería\n",
       " \t\t\t</a>\n",
       " <div class=\"series\">\n",
       " \t\t\tVol. 16 Núm. 16 (2020)\n",
       " \t\t</div>\n",
       " <div class=\"description\">\n",
       " <p> </p>\n",
       " <p> </p>\n",
       " </div>\n",
       " </div>,\n",
       " <div class=\"obj_issue_summary\">\n",
       " <a class=\"cover\" href=\"https://revistas.urp.edu.pe/index.php/Perfiles_Ingenieria/issue/view/256\">\n",
       " <img src=\"https://revistas.urp.edu.pe/public/journals/6/cover_issue_256_es_ES.jpg\"/>\n",
       " </a>\n",
       " <a class=\"title\" href=\"https://revistas.urp.edu.pe/index.php/Perfiles_Ingenieria/issue/view/256\">\n",
       " \t\t\t\t\tPerfiles de Ingeniería\n",
       " \t\t\t</a>\n",
       " <div class=\"series\">\n",
       " \t\t\tVol. 15 Núm. 15 (2019)\n",
       " \t\t</div>\n",
       " <div class=\"description\">\n",
       " </div>\n",
       " </div>,\n",
       " <div class=\"obj_issue_summary\">\n",
       " <a class=\"cover\" href=\"https://revistas.urp.edu.pe/index.php/Perfiles_Ingenieria/issue/view/198\">\n",
       " <img src=\"https://revistas.urp.edu.pe/public/journals/6/cover_issue_198_es_ES.jpg\"/>\n",
       " </a>\n",
       " <a class=\"title\" href=\"https://revistas.urp.edu.pe/index.php/Perfiles_Ingenieria/issue/view/198\">\n",
       " \t\t\t\t\tPerfiles de Ingeniería\n",
       " \t\t\t</a>\n",
       " <div class=\"series\">\n",
       " \t\t\tVol. 14 Núm. 14 (2018)\n",
       " \t\t</div>\n",
       " <div class=\"description\">\n",
       " </div>\n",
       " </div>,\n",
       " <div class=\"obj_issue_summary\">\n",
       " <a class=\"cover\" href=\"https://revistas.urp.edu.pe/index.php/Perfiles_Ingenieria/issue/view/139\">\n",
       " <img src=\"https://revistas.urp.edu.pe/public/journals/6/cover_issue_139_es_ES.jpg\"/>\n",
       " </a>\n",
       " <a class=\"title\" href=\"https://revistas.urp.edu.pe/index.php/Perfiles_Ingenieria/issue/view/139\">\n",
       " \t\t\t\t\tPerfiles de Ingeniería\n",
       " \t\t\t</a>\n",
       " <div class=\"series\">\n",
       " \t\t\tVol. 13 Núm. 13 (2017)\n",
       " \t\t</div>\n",
       " <div class=\"description\">\n",
       " </div>\n",
       " </div>,\n",
       " <div class=\"obj_issue_summary\">\n",
       " <a class=\"cover\" href=\"https://revistas.urp.edu.pe/index.php/Perfiles_Ingenieria/issue/view/86\">\n",
       " <img src=\"https://revistas.urp.edu.pe/public/journals/6/cover_issue_86_es_ES.jpg\"/>\n",
       " </a>\n",
       " <a class=\"title\" href=\"https://revistas.urp.edu.pe/index.php/Perfiles_Ingenieria/issue/view/86\">\n",
       " \t\t\t\t\tPerfiles de Ingeniería\n",
       " \t\t\t</a>\n",
       " <div class=\"series\">\n",
       " \t\t\tVol. 12 Núm. 12 (2016)\n",
       " \t\t</div>\n",
       " <div class=\"description\">\n",
       " </div>\n",
       " </div>,\n",
       " <div class=\"obj_issue_summary\">\n",
       " <a class=\"cover\" href=\"https://revistas.urp.edu.pe/index.php/Perfiles_Ingenieria/issue/view/5\">\n",
       " <img src=\"https://revistas.urp.edu.pe/public/journals/6/cover_issue_5_es_ES.jpg\"/>\n",
       " </a>\n",
       " <a class=\"title\" href=\"https://revistas.urp.edu.pe/index.php/Perfiles_Ingenieria/issue/view/5\">\n",
       " \t\t\t\t\tPerfiles de Ingeniería\n",
       " \t\t\t</a>\n",
       " <div class=\"series\">\n",
       " \t\t\tVol. 11 Núm. 11 (2015)\n",
       " \t\t</div>\n",
       " <div class=\"description\">\n",
       " </div>\n",
       " </div>]"
      ]
     },
     "execution_count": 4,
     "metadata": {},
     "output_type": "execute_result"
    }
   ],
   "source": [
    "req_vol = requests.get(link_vol)\n",
    "soup_vol = BeautifulSoup(req_vol.content, \"lxml\")\n",
    "soup_vols = soup_vol.find(\"ul\", \"issues_archive\").find_all(\"div\", attrs=\"obj_issue_summary\")\n",
    "soup_vols"
   ]
  },
  {
   "cell_type": "code",
   "execution_count": 5,
   "id": "3bdd46e7",
   "metadata": {},
   "outputs": [
    {
     "data": {
      "text/plain": [
       "[{'archive': 'Vol_17_Num_17_2021',\n",
       "  'link_vol': 'https://revistas.urp.edu.pe/index.php/Perfiles_Ingenieria/issue/view/291',\n",
       "  'title': 'Vol. 17 Núm. 17 (2021)'},\n",
       " {'archive': 'Vol_16_Num_16_2020',\n",
       "  'link_vol': 'https://revistas.urp.edu.pe/index.php/Perfiles_Ingenieria/issue/view/51',\n",
       "  'title': 'Vol. 16 Núm. 16 (2020)'},\n",
       " {'archive': 'Vol_15_Num_15_2019',\n",
       "  'link_vol': 'https://revistas.urp.edu.pe/index.php/Perfiles_Ingenieria/issue/view/256',\n",
       "  'title': 'Vol. 15 Núm. 15 (2019)'},\n",
       " {'archive': 'Vol_14_Num_14_2018',\n",
       "  'link_vol': 'https://revistas.urp.edu.pe/index.php/Perfiles_Ingenieria/issue/view/198',\n",
       "  'title': 'Vol. 14 Núm. 14 (2018)'},\n",
       " {'archive': 'Vol_13_Num_13_2017',\n",
       "  'link_vol': 'https://revistas.urp.edu.pe/index.php/Perfiles_Ingenieria/issue/view/139',\n",
       "  'title': 'Vol. 13 Núm. 13 (2017)'},\n",
       " {'archive': 'Vol_12_Num_12_2016',\n",
       "  'link_vol': 'https://revistas.urp.edu.pe/index.php/Perfiles_Ingenieria/issue/view/86',\n",
       "  'title': 'Vol. 12 Núm. 12 (2016)'},\n",
       " {'archive': 'Vol_11_Num_11_2015',\n",
       "  'link_vol': 'https://revistas.urp.edu.pe/index.php/Perfiles_Ingenieria/issue/view/5',\n",
       "  'title': 'Vol. 11 Núm. 11 (2015)'}]"
      ]
     },
     "execution_count": 5,
     "metadata": {},
     "output_type": "execute_result"
    }
   ],
   "source": [
    "vols = []\n",
    "for volu in soup_vols:\n",
    "    dictt = {}\n",
    "    series = volu.find(\"div\", attrs=\"series\").string.strip()\n",
    "    dictt[\"archive\"] = series.replace(\".\", \"\").replace(\" \", \"_\").replace(\"(\",\"\").replace(\")\",\"\").replace(\"ú\",\"u\")\n",
    "    dictt[\"link_vol\"] = volu.find(\"a\")[\"href\"]\n",
    "    dictt[\"title\"] = series\n",
    "    vols.append(dictt)\n",
    "vols"
   ]
  },
  {
   "cell_type": "code",
   "execution_count": 6,
   "id": "2d300a66",
   "metadata": {},
   "outputs": [],
   "source": [
    "for volu in vols:\n",
    "    req_volu = requests.get(volu[\"link_vol\"])\n",
    "    soup_volu = BeautifulSoup(req_volu.content, \"lxml\")\n",
    "    section = soup_volu.find(\"div\", attrs=\"sections\").find_all(\"div\", attrs=\"section\")[-1]\n",
    "    artt = []\n",
    "    arts = section.find_all(\"div\", attrs=\"obj_article_summary\")\n",
    "    for art in arts:\n",
    "        dictt = {}\n",
    "        link_art = art.find(\"div\", attrs=\"title\").a\n",
    "        title = link_art.string\n",
    "        if (title is None):\n",
    "            title = link_art.contents[0]\n",
    "        title = title.replace(\"\\t\", \"\").replace(\"\\n\",\"\")\n",
    "        link_art = link_art[\"href\"]\n",
    "        authors = art.find(\"div\", attrs=\"authors\").string\n",
    "        authors = authors.replace(\"\\t\", \"\").replace(\"\\n\", \"\").strip().split(\",\")\n",
    "        dictt[\"title\"] = title\n",
    "        dictt[\"link_art\"] = link_art\n",
    "        dictt[\"authors\"] = authors\n",
    "        artt.append(dictt)\n",
    "    volu[\"articles\"] = artt\n",
    "# soup_arts = soup_volu.find_all(\"ul\", attrs=\"cmp_article_list articles\")[-1].find_all(\"li\")[0]\n",
    "# authors = soup_arts.find(\"div\", attrs=\"authors\").string.replace(\"\\n\",\"\").replace(\"\\t\",\"\").split(\",\")\n",
    "# archive = volu[\"archive\"] + \".pickle\"\n",
    "# link_art = soup_arts.a[\"href\"]\n",
    "# req_art = requests.get(link_art)\n",
    "# soup_art = BeautifulSoup(req_art.content, \"lxml\")\n",
    "# archive = volu[\"archive\"] + \"_\" + \"1\" + \".pickle\"\n",
    "# with open(archive, \"wb\") as f:\n",
    "#     pickle.dump(soup_art, f)"
   ]
  },
  {
   "cell_type": "code",
   "execution_count": 7,
   "id": "b4c29bee",
   "metadata": {},
   "outputs": [],
   "source": [
    "for vol in vols:\n",
    "    for art in vol[\"articles\"]:\n",
    "        req_art = requests.get(art[\"link_art\"])\n",
    "        soup_art = BeautifulSoup(req_art.content, \"lxml\")\n",
    "        date = soup_art.find(\"div\", attrs=\"item published\").find(\"div\", attrs=\"value\").string\n",
    "        date = date.replace(\"\\n\", \"\").replace(\"\\t\", \"\")\n",
    "        art[\"date\"] = date"
   ]
  },
  {
   "cell_type": "code",
   "execution_count": 8,
   "id": "58b496dc",
   "metadata": {},
   "outputs": [
    {
     "name": "stdout",
     "output_type": "stream",
     "text": [
      "[{'archive': 'Vol_17_Num_17_2021', 'link_vol': 'https://revistas.urp.edu.pe/index.php/Perfiles_Ingenieria/issue/view/291', 'title': 'Vol. 17 Núm. 17 (2021)', 'articles': [{'title': 'Las pantallas acústicas como solución a la contaminación sonora en el paradero Benavides', 'link_art': 'https://revistas.urp.edu.pe/index.php/Perfiles_Ingenieria/article/view/4573', 'authors': ['Yeampier Iñigo Pozo', ' Lucero Romero Santos', ' Esther Vargas Chang'], 'date': '2021-12-31'}, {'title': 'Resiliencia en Edificaciones con Aisladores Sísmicos', 'link_art': 'https://revistas.urp.edu.pe/index.php/Perfiles_Ingenieria/article/view/4574', 'authors': ['Frances Benites Jessen', ' Esther Vargas Chang'], 'date': '2021-12-31'}, {'title': 'Planificación y desarrollo de ciudades inteligentes utilizando herramientas “BIM”: un enfoque integral de gestión', 'link_art': 'https://revistas.urp.edu.pe/index.php/Perfiles_Ingenieria/article/view/4575', 'authors': ['Carlos Chang', ' Mario Vélez Canchanya'], 'date': '2021-12-31'}, {'title': 'Diseño de calculadora en MatLab para evaluar máquinas eléctricas estáticas en Laboratorio Virtual', 'link_art': 'https://revistas.urp.edu.pe/index.php/Perfiles_Ingenieria/article/view/4576', 'authors': ['José Pérez Justo', ' Renato Arriola García', ' Diego Laines Toledo', ' Paulo Oliveira Paucar', ' Margarita Murillo Manrique'], 'date': '2021-12-31'}, {'title': 'Diseño de una Red GPON aplicada a un sistema de comunicaciones de buses de transporte de alta velocidad (BRT)', 'link_art': 'https://revistas.urp.edu.pe/index.php/Perfiles_Ingenieria/article/view/4577', 'authors': ['Javier Mansilla Yanqui'], 'date': '2021-12-31'}, {'title': 'Entorno de alta incertidumbre para la empresa en el Perú: el caso de exploración y producción de hidrocarburos en el sector privado', 'link_art': 'https://revistas.urp.edu.pe/index.php/Perfiles_Ingenieria/article/view/4578', 'authors': ['Gianine Tejada Salinas'], 'date': '2021-12-31'}, {'title': 'Robot hexápodo controlado por radio frecuencia para la búsqueda de personas atrapadas en derrumbes en zonas urbanas del Perú', 'link_art': 'https://revistas.urp.edu.pe/index.php/Perfiles_Ingenieria/article/view/4579', 'authors': ['José Borja Padilla', ' Ricardo Palomares Orihuela'], 'date': '2021-12-31'}, {'title': 'Diseño de un robot cartesiano para la medición de temperatura corporal y detección de mascarilla facial mediante sensores infrarrojos y visión artificial para prevenir el contagio del COVID-19', 'link_art': 'https://revistas.urp.edu.pe/index.php/Perfiles_Ingenieria/article/view/4580', 'authors': ['Sergio Gutiérrez Sánchez', ' Mario Hernández Valladares', ' Diego Magallanes Chauca', ' Ricardo Palomares Orihuela'], 'date': '2021-12-31'}]}, {'archive': 'Vol_16_Num_16_2020', 'link_vol': 'https://revistas.urp.edu.pe/index.php/Perfiles_Ingenieria/issue/view/51', 'title': 'Vol. 16 Núm. 16 (2020)', 'articles': [{'title': 'Evaluación de riesgo de deslizamientos y propuesta geotécnica de la trocha Ayash-Huaripampa tramo km 3+260 al km 3+300', 'link_art': 'https://revistas.urp.edu.pe/index.php/Perfiles_Ingenieria/article/view/3542', 'authors': ['Ing. César Roberto Torres Chung'], 'date': '2020-12-31'}, {'title': 'La atenuación de las guías de ondas circulares con dieléctrico de aire', 'link_art': 'https://revistas.urp.edu.pe/index.php/Perfiles_Ingenieria/article/view/3543', 'authors': ['Víctor Cruz Ornetta', ' Harold Cruz Salas', ' Vanessa Vasquez Garro'], 'date': '2020-12-31'}, {'title': 'Modelización de interfaces adaptativas a partir de aprendizaje de perfiles de usuario web mediante gramáticas probabilísticas', 'link_art': 'https://revistas.urp.edu.pe/index.php/Perfiles_Ingenieria/article/view/3544', 'authors': ['Augusto P. Cortez Vásquez', ' Ronald U. García Conde'], 'date': '2020-12-31'}, {'title': 'Diseño y manufactura de un prototipo de escudo facial con respirador que evite el contagio del covid-19\" 1ª Etapa', 'link_art': 'https://revistas.urp.edu.pe/index.php/Perfiles_Ingenieria/article/view/3545', 'authors': ['Arq. Diego Machuca V.M.', ' Ing. Juan Carlos Gonzales L.', ' PhD. Carlos Merino M.', ' Dra. Arquitecta María Teresa Mendez L.'], 'date': '2020-12-31'}, {'title': 'Técnica de gamma scanning para el diagnóstico en operación, de equipos de refinación de petróleo y gas natural', 'link_art': 'https://revistas.urp.edu.pe/index.php/Perfiles_Ingenieria/article/view/3546', 'authors': ['Carlos Sebastián Calvo'], 'date': '2020-12-31'}, {'title': 'Robot telecontrolado aplicado en la mitigación de incendios para la Estación de Bomberos Voluntarios Victoria N° 08, Lima-Perú', 'link_art': 'https://revistas.urp.edu.pe/index.php/Perfiles_Ingenieria/article/view/3547', 'authors': ['Ing. Arturo A. Morzan Soto', ' Ing. Bruno G. Zerga Tapia', ' Ing. Ricardo J. Palomares Orihuela'], 'date': '2020-12-31'}, {'title': 'Determinación de cultivos agrícolas y firmas espectrales mediante el procesamiento de imágenes satelitales utilizando el método de clasificación supervisada', 'link_art': 'https://revistas.urp.edu.pe/index.php/Perfiles_Ingenieria/article/view/3548', 'authors': ['Ing. Javier H. Rivas León'], 'date': '2020-12-31'}, {'title': 'Robot explorador para la detección de metales en entornos mineros', 'link_art': 'https://revistas.urp.edu.pe/index.php/Perfiles_Ingenieria/article/view/3550', 'authors': ['Elías Isaac Isidro Ríos', ' José Luis Zamora Olazábal', ' Ing. Robert Castro Salguero'], 'date': '2020-12-31'}, {'title': 'El psicodiagnóstico de Rorschach desde una perspectiva interdisciplinaria', 'link_art': 'https://revistas.urp.edu.pe/index.php/Perfiles_Ingenieria/article/view/3549', 'authors': ['Lic. Osvaldo Miranda Borges', ' Lic. Alejandro Viñales Estrada', ' PhD. Fidel Martínez Álvarez'], 'date': '2020-12-31'}]}, {'archive': 'Vol_15_Num_15_2019', 'link_vol': 'https://revistas.urp.edu.pe/index.php/Perfiles_Ingenieria/issue/view/256', 'title': 'Vol. 15 Núm. 15 (2019)', 'articles': [{'title': 'Contaminación sonora en el paradero Benavides, en la ciudad de Lima, y el impacto en poblaciones aledañas', 'link_art': 'https://revistas.urp.edu.pe/index.php/Perfiles_Ingenieria/article/view/3377', 'authors': ['Lucero Romero Santos', ' Jaime Sueldo Mesones', ' David Bravo Zapata', ' Clara Tufiño Villena'], 'date': '2020-10-25'}, {'title': 'Reciclaje de residuos por demolición de edificaciones menores y desarrollo sostenible en el distrito de Jesús María', 'link_art': 'https://revistas.urp.edu.pe/index.php/Perfiles_Ingenieria/article/view/3378', 'authors': ['Jesús Hernán Pastor Cavero', ' Esther Joni Vargas Chang1'], 'date': '2020-10-25'}, {'title': 'Polarización en redes sociales ayuda a  que los influencers tengan más influencia: análisis y dos estrategias de inoculación', 'link_art': 'https://revistas.urp.edu.pe/index.php/Perfiles_Ingenieria/article/view/3379', 'authors': ['Alexander V. Mantzaris', ' Ivan Garibay'], 'date': '2020-10-25'}, {'title': 'Evaluación de aeroenfriadores de una planta de fraccionamiento de líquidos de gas natural por medio de radiotrazadores', 'link_art': 'https://revistas.urp.edu.pe/index.php/Perfiles_Ingenieria/article/view/3381', 'authors': ['Carlos Sebastián Calvo'], 'date': '2020-10-25'}, {'title': 'Prototipo Pick and Place Machine', 'link_art': 'https://revistas.urp.edu.pe/index.php/Perfiles_Ingenieria/article/view/3382', 'authors': ['José Antonio Velásquez Costa'], 'date': '2020-10-25'}, {'title': 'Quiz: sistema de gestión de colas y una aplicación para tráfico en carreteras con peaje', 'link_art': 'https://revistas.urp.edu.pe/index.php/Perfiles_Ingenieria/article/view/3384', 'authors': ['Sebastián Miranda Manrique', ' Gipsy Miguel Ángel Arrunátegui Angulo'], 'date': '2020-10-25'}, {'title': 'Sistema de realidad virtual para el  tratamiento de fobias para psicólogos', 'link_art': 'https://revistas.urp.edu.pe/index.php/Perfiles_Ingenieria/article/view/3388', 'authors': ['Frank Omar Olaechea Bendezú', ' Gerhard August Egg Rosas'], 'date': '2020-10-25'}, {'title': 'Proceso de enseñanza-aprendizaje en asignaturas de investigación para el desarrollo de tesis de los egresados de la escuela de ingeniería mecatrónica en la Universidad Ricardo Palma', 'link_art': 'https://revistas.urp.edu.pe/index.php/Perfiles_Ingenieria/article/view/3385', 'authors': ['Ricardo J. Palomares Orihuela2', ' Margarita F. Murillo Manrique', ' Robert Castro Salguero', ' Javier H. Rivas León'], 'date': '2020-10-25'}, {'title': 'Computer science qualifying exam:  a case study on improving student success and program quality', 'link_art': 'https://revistas.urp.edu.pe/index.php/Perfiles_Ingenieria/article/view/3387', 'authors': ['Mahlagha Sedghi', ' Prateek Basavaraj', ' Ivan Garibay', ' Ozlem Ozmen Garibay', ' Arup Ratan Guha'], 'date': '2020-10-25'}]}, {'archive': 'Vol_14_Num_14_2018', 'link_vol': 'https://revistas.urp.edu.pe/index.php/Perfiles_Ingenieria/issue/view/198', 'title': 'Vol. 14 Núm. 14 (2018)', 'articles': [{'title': 'Es necesario revisar el proyecto de la línea 2 del tren eléctrico de Lima', 'link_art': 'https://revistas.urp.edu.pe/index.php/Perfiles_Ingenieria/article/view/2368', 'authors': ['Arturo Velásquez Jara'], 'date': '2019-10-14'}, {'title': 'Desarrollo de un sistema embebido basado en lógica difusa para el reconocimiento del estado de ebriedad en conductores orientado al bloqueo del arranque de un vehículo', 'link_art': 'https://revistas.urp.edu.pe/index.php/Perfiles_Ingenieria/article/view/2369', 'authors': ['Enrique Jesús Martínez Amaya', ' José Luis Ferreyra Ramos', ' Brayan Ramírez Mejía'], 'date': '2019-10-14'}, {'title': '3D stacked imager and digital coupling noise', 'link_art': 'https://revistas.urp.edu.pe/index.php/Perfiles_Ingenieria/article/view/2370', 'authors': ['Fernando Raymundo Luyo'], 'date': '2019-10-14'}, {'title': 'Nuevas tecnologías en el desarrollo de celdas solares', 'link_art': 'https://revistas.urp.edu.pe/index.php/Perfiles_Ingenieria/article/view/2371', 'authors': ['Julio González Prado'], 'date': '2019-10-14'}, {'title': 'Aporte en las metodologías matemáticas para mejorar la comprensión y calidad de video', 'link_art': 'https://revistas.urp.edu.pe/index.php/Perfiles_Ingenieria/article/view/2372', 'authors': ['Jorge Robles Bokun'], 'date': '2019-10-14'}, {'title': 'Análisis y comentarios sobre la aplicación de los instrumentos para arancelarios (IPAS) durante el gobierno de  DE ALAN GARCÍA (1995-1990)', 'link_art': 'https://revistas.urp.edu.pe/index.php/Perfiles_Ingenieria/article/view/2373', 'authors': ['Jorge Nicanor Arroyo Prado'], 'date': '2019-10-14'}, {'title': 'Estructuración organizacional: Un enfoque sistémico', 'link_art': 'https://revistas.urp.edu.pe/index.php/Perfiles_Ingenieria/article/view/2374', 'authors': ['Clemencia Morales Montejo'], 'date': '2019-10-14'}, {'title': 'Evaluación de fugas y pases en rehervidores de plantas de fraccionamiento de gas natural', 'link_art': 'https://revistas.urp.edu.pe/index.php/Perfiles_Ingenieria/article/view/2375', 'authors': ['Carlos Sebastián Calvo'], 'date': '2019-10-14'}, {'title': 'Recuperación de textos electrónicos mediante índices invertidos', 'link_art': 'https://revistas.urp.edu.pe/index.php/Perfiles_Ingenieria/article/view/2376', 'authors': ['Augusto Cortez Vásquez'], 'date': '2019-10-15'}, {'title': 'Diseño y simulación de un brazo robótico de 5GDL adaptado en una silla de ruedas eléctrica para la autoasistencia de  pacientes con parálisis cerebral espástica', 'link_art': 'https://revistas.urp.edu.pe/index.php/Perfiles_Ingenieria/article/view/2377', 'authors': ['Diego A. Rozas Llontop', ' Ricardo J. Palomares Orihuela'], 'date': '2019-10-15'}, {'title': 'Sistema de comunicación industrial para el monitoreo de las estaciones de estaciones de água potable en Cieneguilla-Lima', 'link_art': 'https://revistas.urp.edu.pe/index.php/Perfiles_Ingenieria/article/view/2378', 'authors': ['Margarita Fredesvinda Murillo Manrique', ' Omar Freddy Chamorro Atalaya'], 'date': '2019-10-15'}, {'title': 'Vigencia de la metodología vigotskiana de la motivación del aprendizaje', 'link_art': 'https://revistas.urp.edu.pe/index.php/Perfiles_Ingenieria/article/view/2379', 'authors': ['Daniel Acosta Mejía', ' Fidel Martínez Álvarez'], 'date': '2019-10-15'}]}, {'archive': 'Vol_13_Num_13_2017', 'link_vol': 'https://revistas.urp.edu.pe/index.php/Perfiles_Ingenieria/issue/view/139', 'title': 'Vol. 13 Núm. 13 (2017)', 'articles': [{'title': 'Investigación geotécnica para la red del Metro de Lima', 'link_art': 'https://revistas.urp.edu.pe/index.php/Perfiles_Ingenieria/article/view/1460', 'authors': ['Jorge D. Coll Calderón'], 'date': '2018-06-08'}, {'title': 'Propuesta metodológica para la delimitación de fajas marginales de los ríos', 'link_art': 'https://revistas.urp.edu.pe/index.php/Perfiles_Ingenieria/article/view/1461', 'authors': ['Ernesto Ramírez González'], 'date': '2018-06-08'}, {'title': 'La concesión de los megaproyectos en el Perú', 'link_art': 'https://revistas.urp.edu.pe/index.php/Perfiles_Ingenieria/article/view/1462', 'authors': ['Arturo Velásquez Jara'], 'date': '2018-06-08'}, {'title': 'Diseño de un sistema electrohidráulico de simulación sísmica en la universidad Ricardo Palma', 'link_art': 'https://revistas.urp.edu.pe/index.php/Perfiles_Ingenieria/article/view/1463', 'authors': ['María Méndez Landa', ' Gustavo Roselló Moreno', ' Javier Cerón Uribe', ' Juan Gonzáles Lévano'], 'date': '2018-06-08'}, {'title': 'Las crisis y sus repercusiones en la ingeniería electrónica: La historia jamás contada', 'link_art': 'https://revistas.urp.edu.pe/index.php/Perfiles_Ingenieria/article/view/1464', 'authors': ['Santiago Rojas Tuya'], 'date': '2018-06-08'}, {'title': 'Overview of radiotracer experiments for better understanding of wastewater and water treatment plants in Lima (Perú)', 'link_art': 'https://revistas.urp.edu.pe/index.php/Perfiles_Ingenieria/article/view/1465', 'authors': ['Carlos Sebastián Calvo'], 'date': '2018-06-08'}, {'title': 'Métodos y estándares en la fabricación de platinas', 'link_art': 'https://revistas.urp.edu.pe/index.php/Perfiles_Ingenieria/article/view/1466', 'authors': ['Óscar Sotelo Quito'], 'date': '2018-06-08'}, {'title': 'Clasificación de textos informáticos mediante indexación semántica latente', 'link_art': 'https://revistas.urp.edu.pe/index.php/Perfiles_Ingenieria/article/view/1467', 'authors': ['Augusto Cortez Vásquez'], 'date': '2018-06-08'}, {'title': 'Los riesgos de seguridad de websites y sus efectos en la gestión de información de medianas empresas de Lima Metropolitana', 'link_art': 'https://revistas.urp.edu.pe/index.php/Perfiles_Ingenieria/article/view/1469', 'authors': ['Julio Valverde Chávez', ' Augusto Cortez Vásquez'], 'date': '2018-06-08'}, {'title': 'Reingeniería de los blowers del sistema de frenado de un camión electríco de 320 toneladas de carga para minería en el altiplano peruano', 'link_art': 'https://revistas.urp.edu.pe/index.php/Perfiles_Ingenieria/article/view/1470', 'authors': ['Daniel R. Gutiérrez Ayala', ' Ricardo J. Palomares Orihuela'], 'date': '2018-06-08'}, {'title': 'Estrategias para comercializar energía renovables en el mercado eléctrico peruano', 'link_art': 'https://revistas.urp.edu.pe/index.php/Perfiles_Ingenieria/article/view/1471', 'authors': ['Margarita Murillo Manrique'], 'date': '2018-06-08'}, {'title': 'Domótica mediante la transmisión de datos digitales por la red eléctrica usando protocolo X10', 'link_art': 'https://revistas.urp.edu.pe/index.php/Perfiles_Ingenieria/article/view/1472', 'authors': ['Freedy Sotelo Valer', ' Arturo Cubas Rodríguez'], 'date': '2018-06-08'}]}, {'archive': 'Vol_12_Num_12_2016', 'link_vol': 'https://revistas.urp.edu.pe/index.php/Perfiles_Ingenieria/issue/view/86', 'title': 'Vol. 12 Núm. 12 (2016)', 'articles': [{'title': 'Rasgos geológicos del Río Rímac, abastecimiento de agua en su cono de deyección', 'link_art': 'https://revistas.urp.edu.pe/index.php/Perfiles_Ingenieria/article/view/808', 'authors': ['Pedro Tumialán de la Cruz'], 'date': '2017-08-29'}, {'title': 'Comportamiento del suelo tropical peruano', 'link_art': 'https://revistas.urp.edu.pe/index.php/Perfiles_Ingenieria/article/view/809', 'authors': ['Arnaldo Carrillo gil'], 'date': '2017-08-29'}, {'title': 'Cultivo hidropónico de espinaca mediante técnica NFT e invernadero para el control de variables ambientales', 'link_art': 'https://revistas.urp.edu.pe/index.php/Perfiles_Ingenieria/article/view/810', 'authors': ['Diego Chiara', ' Luis Herrera', ' Paolo Vargas'], 'date': '2017-08-29'}, {'title': 'Diseño de front-end de receptor óptimo de alta ganancia y eficiencia de potencia en 0.13 μm de tecnología CMOS de RF para aplicaciones de 10GBPS', 'link_art': 'https://revistas.urp.edu.pe/index.php/Perfiles_Ingenieria/article/view/811', 'authors': ['Sergio Ochoa Castillo'], 'date': '2017-08-29'}, {'title': 'Diseño de un Amplificador de potencia CMOS de Clase 1 para Aplicaciones Bluetooth', 'link_art': 'https://revistas.urp.edu.pe/index.php/Perfiles_Ingenieria/article/view/812', 'authors': ['A.F Ponchet', ' Sergio Ochoa Castillo', ' Roberto Panepucci'], 'date': '2017-08-29'}, {'title': 'El gobierno electrónico y los servicios  públicos del marco legal  español', 'link_art': 'https://revistas.urp.edu.pe/index.php/Perfiles_Ingenieria/article/view/813', 'authors': ['Jorge López  Córdova'], 'date': '2017-08-29'}, {'title': 'Competitividad del comercio exterior peruano', 'link_art': 'https://revistas.urp.edu.pe/index.php/Perfiles_Ingenieria/article/view/814', 'authors': ['Jorge Arroyo Prado'], 'date': '2017-08-29'}, {'title': 'Metodologías aplicables a la determinación de velocidad y dirección del flujo de aguas subterráneas mediante trazadores artificiales', 'link_art': 'https://revistas.urp.edu.pe/index.php/Perfiles_Ingenieria/article/view/817', 'authors': ['Carlos Sebastián calvo'], 'date': '2017-08-29'}, {'title': 'Simulación del Flujo de camiones en el proceso de embarque de minerales propuestos en el terminal portuario del Callao, Perú', 'link_art': 'https://revistas.urp.edu.pe/index.php/Perfiles_Ingenieria/article/view/818', 'authors': ['Edgard Solís Vargas', ' Luis Ulfe Vega'], 'date': '2017-08-29'}, {'title': 'Sistema de aprendizaje basado en entornos hipermedia adaptativos', 'link_art': 'https://revistas.urp.edu.pe/index.php/Perfiles_Ingenieria/article/view/819', 'authors': ['Augusto Cortez Vásquez'], 'date': '2017-08-29'}, {'title': 'Modelo objeto-requerimiento-actividad para modelar flujos de trabajo para la gestión de requerimientos de desarrollo del producto en la industria de la confección', 'link_art': 'https://revistas.urp.edu.pe/index.php/Perfiles_Ingenieria/article/view/820', 'authors': ['Javier Sánchez Espinoza', ' Juan Sotelo Villena'], 'date': '2017-08-29'}, {'title': 'Desarrollo de una aplicación móvil de seguridad ciudadana en el Perú utilizando informática forense', 'link_art': 'https://revistas.urp.edu.pe/index.php/Perfiles_Ingenieria/article/view/821', 'authors': ['Augusto Cortez Vásquez', ' Óscar Amao Quijandría'], 'date': '2017-08-29'}, {'title': 'Diseño e implementación de un robot híbrido teleoperado con Simulink y un web server embebido en Raspberry PI', 'link_art': 'https://revistas.urp.edu.pe/index.php/Perfiles_Ingenieria/article/view/822', 'authors': ['Rosa Canelo Cervantes', ' Miguel Vera Masías', ' Ricardo Palomares Orihuela'], 'date': '2017-08-29'}, {'title': 'Educación en aulas hospitalarias', 'link_art': 'https://revistas.urp.edu.pe/index.php/Perfiles_Ingenieria/article/view/823', 'authors': ['Yolanda Lifante Gil', ' José Fuentes Bargues', ' Julio Martos Torres', ' Patricia Asensio Ramón'], 'date': '2017-08-29'}]}, {'archive': 'Vol_11_Num_11_2015', 'link_vol': 'https://revistas.urp.edu.pe/index.php/Perfiles_Ingenieria/issue/view/5', 'title': 'Vol. 11 Núm. 11 (2015)', 'articles': [{'title': 'Semblanza de un gran amigo: el Dr. Ing. Óscar Penny Cabrera', 'link_art': 'https://revistas.urp.edu.pe/index.php/Perfiles_Ingenieria/article/view/399', 'authors': ['Héctor Gustavo Roselló Moreno'], 'date': '2016-11-23'}, {'title': 'Premio “RCE Award for Outstanding Flagship Project” de la Universidad de las Naciones Unidas para el Diplomado en Biodiversidad y Saberes Interculturales', 'link_art': 'https://revistas.urp.edu.pe/index.php/Perfiles_Ingenieria/article/view/400', 'authors': ['Sin autor'], 'date': '2016-11-23'}, {'title': 'Innóvate y la Universidad Ricardo Palma Proyecto ganador - FINCyT', 'link_art': 'https://revistas.urp.edu.pe/index.php/Perfiles_Ingenieria/article/view/401', 'authors': ['Sin autor'], 'date': '2016-11-23'}, {'title': 'La deformación permanente en las mezclas asfálticas y el consecuente deterioro de los pavimentos asfálticos en el Perú', 'link_art': 'https://revistas.urp.edu.pe/index.php/Perfiles_Ingenieria/article/view/402', 'authors': ['Néstor Huamán Guerrero', ' Carlos M. Chang Albitres'], 'date': '2016-11-23'}, {'title': 'Interpretación hidrogeológica con modelación numérica en masas geológicas del deslizamiento \"Derrumbe 1\" – Complejo hidroeléctrico del Mantaro', 'link_art': 'https://revistas.urp.edu.pe/index.php/Perfiles_Ingenieria/article/view/403', 'authors': ['César González Linares', ' Rubén Esaú Mogrovejo Gutiérrez', ' Gisel Veliz Francia'], 'date': '2016-11-23'}, {'title': 'Historia y teoría del radar, capítulo 1', 'link_art': 'https://revistas.urp.edu.pe/index.php/Perfiles_Ingenieria/article/view/404', 'authors': ['Óscar Penny Cabrera'], 'date': '2016-11-23'}, {'title': 'Experiencia peruana en el despliegue de la infraestructura de las comunicaciones móviles', 'link_art': 'https://revistas.urp.edu.pe/index.php/Perfiles_Ingenieria/article/view/405', 'authors': ['Víctor Cruz Ornetta', ' Jorge Ubillus Gonzales'], 'date': '2016-11-23'}, {'title': 'Procesamiento digital de imágenes para estimación de velocidad y medición de flujo vehicular', 'link_art': 'https://revistas.urp.edu.pe/index.php/Perfiles_Ingenieria/article/view/406', 'authors': ['Pedro Freddy Huamaní Navarrete', ' José Luis Rojas Vara'], 'date': '2016-11-23'}, {'title': 'El neuromarketing y la ingeniería del branding', 'link_art': 'https://revistas.urp.edu.pe/index.php/Perfiles_Ingenieria/article/view/407', 'authors': ['Jorge Arroyo Prado'], 'date': '2016-11-23'}, {'title': 'Explotación de los yacimientos de fosfatos en Bayóvar', 'link_art': 'https://revistas.urp.edu.pe/index.php/Perfiles_Ingenieria/article/view/408', 'authors': ['Juvenal Cabezas Oruna'], 'date': '2016-11-23'}, {'title': 'Diagnóstico del déficit de capacidad institucional de los procesos para el rediseño organizacional en el sector público', 'link_art': 'https://revistas.urp.edu.pe/index.php/Perfiles_Ingenieria/article/view/409', 'authors': ['Víctor Beltrán Saravia'], 'date': '2016-11-23'}, {'title': 'Algunas propuestas de inteligencia competitiva para las pequeñas y medianas empresas del Perú', 'link_art': 'https://revistas.urp.edu.pe/index.php/Perfiles_Ingenieria/article/view/410', 'authors': ['Juana Emma Segura González'], 'date': '2016-11-23'}, {'title': 'Sistema de publicidad por proximidad mediante tecnología blutooth como estrategia para aumentar las ventas en la empresa Luicam Touch Exclusive', 'link_art': 'https://revistas.urp.edu.pe/index.php/Perfiles_Ingenieria/article/view/411', 'authors': ['César Bustíos Benites', ' Hugo Froilán Vega Huerta'], 'date': '2016-11-23'}, {'title': 'Modelización de una interfaz hombre - máquina mediante comunicación electrooculográfica representada mediante código de Huffman para personas con discapacidad de esclerosis lateral amiotrófica', 'link_art': 'https://revistas.urp.edu.pe/index.php/Perfiles_Ingenieria/article/view/412', 'authors': ['Augusto Cortez Vásquez', ' Virginia Vera Pomalaza', ' Virginia Vera Pomalaza'], 'date': '2016-11-23'}, {'title': 'Control de un brazo robótico antropomórfico con 6 grados de libertad teleoperado para la seguridad industrial en el Perú', 'link_art': 'https://revistas.urp.edu.pe/index.php/Perfiles_Ingenieria/article/view/429', 'authors': ['Elmer Javier Córdova Zapata', ' Hans C. Rojas Caytuiro', ' Eduardo Espinoza Marazo', ' Jerson Herrera Yui'], 'date': '2016-11-23'}, {'title': 'Robot Da Vinci: El quirófano del futuro', 'link_art': 'https://revistas.urp.edu.pe/index.php/Perfiles_Ingenieria/article/view/430', 'authors': ['Ricardo John Palomares Orihuela'], 'date': '2016-11-23'}, {'title': 'Proyecto Alfa III USO+I: Experiencia de cooperación y mejora de la pertinencia de las ingenierías en Latinoamérica', 'link_art': 'https://revistas.urp.edu.pe/index.php/Perfiles_Ingenieria/article/view/431', 'authors': ['Ángel Regueiro', ' Carmen Busoch', ' Yisnier Hernández', ' Ernesto Espinoza', ' María Elena Martínez', ' Teresa Salinas', ' Miguel Sánchez', ' Gustavo Roselló'], 'date': '2016-11-23'}]}]\n"
     ]
    }
   ],
   "source": [
    "print(vols)"
   ]
  },
  {
   "cell_type": "code",
   "execution_count": 9,
   "id": "d9e070ef",
   "metadata": {},
   "outputs": [],
   "source": [
    "with open(\"scrappURP.pickle\", \"wb\") as f:\n",
    "    pickle.dump(vols, f)"
   ]
  },
  {
   "cell_type": "code",
   "execution_count": 10,
   "id": "6d0764ca",
   "metadata": {},
   "outputs": [
    {
     "name": "stdout",
     "output_type": "stream",
     "text": [
      "[{'archive': 'Vol_17_Num_17_2021', 'link_vol': 'https://revistas.urp.edu.pe/index.php/Perfiles_Ingenieria/issue/view/291', 'title': 'Vol. 17 Núm. 17 (2021)', 'articles': [{'title': 'Las pantallas acústicas como solución a la contaminación sonora en el paradero Benavides', 'link_art': 'https://revistas.urp.edu.pe/index.php/Perfiles_Ingenieria/article/view/4573', 'authors': ['Yeampier Iñigo Pozo', ' Lucero Romero Santos', ' Esther Vargas Chang'], 'date': '2021-12-31'}, {'title': 'Resiliencia en Edificaciones con Aisladores Sísmicos', 'link_art': 'https://revistas.urp.edu.pe/index.php/Perfiles_Ingenieria/article/view/4574', 'authors': ['Frances Benites Jessen', ' Esther Vargas Chang'], 'date': '2021-12-31'}, {'title': 'Planificación y desarrollo de ciudades inteligentes utilizando herramientas “BIM”: un enfoque integral de gestión', 'link_art': 'https://revistas.urp.edu.pe/index.php/Perfiles_Ingenieria/article/view/4575', 'authors': ['Carlos Chang', ' Mario Vélez Canchanya'], 'date': '2021-12-31'}, {'title': 'Diseño de calculadora en MatLab para evaluar máquinas eléctricas estáticas en Laboratorio Virtual', 'link_art': 'https://revistas.urp.edu.pe/index.php/Perfiles_Ingenieria/article/view/4576', 'authors': ['José Pérez Justo', ' Renato Arriola García', ' Diego Laines Toledo', ' Paulo Oliveira Paucar', ' Margarita Murillo Manrique'], 'date': '2021-12-31'}, {'title': 'Diseño de una Red GPON aplicada a un sistema de comunicaciones de buses de transporte de alta velocidad (BRT)', 'link_art': 'https://revistas.urp.edu.pe/index.php/Perfiles_Ingenieria/article/view/4577', 'authors': ['Javier Mansilla Yanqui'], 'date': '2021-12-31'}, {'title': 'Entorno de alta incertidumbre para la empresa en el Perú: el caso de exploración y producción de hidrocarburos en el sector privado', 'link_art': 'https://revistas.urp.edu.pe/index.php/Perfiles_Ingenieria/article/view/4578', 'authors': ['Gianine Tejada Salinas'], 'date': '2021-12-31'}, {'title': 'Robot hexápodo controlado por radio frecuencia para la búsqueda de personas atrapadas en derrumbes en zonas urbanas del Perú', 'link_art': 'https://revistas.urp.edu.pe/index.php/Perfiles_Ingenieria/article/view/4579', 'authors': ['José Borja Padilla', ' Ricardo Palomares Orihuela'], 'date': '2021-12-31'}, {'title': 'Diseño de un robot cartesiano para la medición de temperatura corporal y detección de mascarilla facial mediante sensores infrarrojos y visión artificial para prevenir el contagio del COVID-19', 'link_art': 'https://revistas.urp.edu.pe/index.php/Perfiles_Ingenieria/article/view/4580', 'authors': ['Sergio Gutiérrez Sánchez', ' Mario Hernández Valladares', ' Diego Magallanes Chauca', ' Ricardo Palomares Orihuela'], 'date': '2021-12-31'}]}, {'archive': 'Vol_16_Num_16_2020', 'link_vol': 'https://revistas.urp.edu.pe/index.php/Perfiles_Ingenieria/issue/view/51', 'title': 'Vol. 16 Núm. 16 (2020)', 'articles': [{'title': 'Evaluación de riesgo de deslizamientos y propuesta geotécnica de la trocha Ayash-Huaripampa tramo km 3+260 al km 3+300', 'link_art': 'https://revistas.urp.edu.pe/index.php/Perfiles_Ingenieria/article/view/3542', 'authors': ['Ing. César Roberto Torres Chung'], 'date': '2020-12-31'}, {'title': 'La atenuación de las guías de ondas circulares con dieléctrico de aire', 'link_art': 'https://revistas.urp.edu.pe/index.php/Perfiles_Ingenieria/article/view/3543', 'authors': ['Víctor Cruz Ornetta', ' Harold Cruz Salas', ' Vanessa Vasquez Garro'], 'date': '2020-12-31'}, {'title': 'Modelización de interfaces adaptativas a partir de aprendizaje de perfiles de usuario web mediante gramáticas probabilísticas', 'link_art': 'https://revistas.urp.edu.pe/index.php/Perfiles_Ingenieria/article/view/3544', 'authors': ['Augusto P. Cortez Vásquez', ' Ronald U. García Conde'], 'date': '2020-12-31'}, {'title': 'Diseño y manufactura de un prototipo de escudo facial con respirador que evite el contagio del covid-19\" 1ª Etapa', 'link_art': 'https://revistas.urp.edu.pe/index.php/Perfiles_Ingenieria/article/view/3545', 'authors': ['Arq. Diego Machuca V.M.', ' Ing. Juan Carlos Gonzales L.', ' PhD. Carlos Merino M.', ' Dra. Arquitecta María Teresa Mendez L.'], 'date': '2020-12-31'}, {'title': 'Técnica de gamma scanning para el diagnóstico en operación, de equipos de refinación de petróleo y gas natural', 'link_art': 'https://revistas.urp.edu.pe/index.php/Perfiles_Ingenieria/article/view/3546', 'authors': ['Carlos Sebastián Calvo'], 'date': '2020-12-31'}, {'title': 'Robot telecontrolado aplicado en la mitigación de incendios para la Estación de Bomberos Voluntarios Victoria N° 08, Lima-Perú', 'link_art': 'https://revistas.urp.edu.pe/index.php/Perfiles_Ingenieria/article/view/3547', 'authors': ['Ing. Arturo A. Morzan Soto', ' Ing. Bruno G. Zerga Tapia', ' Ing. Ricardo J. Palomares Orihuela'], 'date': '2020-12-31'}, {'title': 'Determinación de cultivos agrícolas y firmas espectrales mediante el procesamiento de imágenes satelitales utilizando el método de clasificación supervisada', 'link_art': 'https://revistas.urp.edu.pe/index.php/Perfiles_Ingenieria/article/view/3548', 'authors': ['Ing. Javier H. Rivas León'], 'date': '2020-12-31'}, {'title': 'Robot explorador para la detección de metales en entornos mineros', 'link_art': 'https://revistas.urp.edu.pe/index.php/Perfiles_Ingenieria/article/view/3550', 'authors': ['Elías Isaac Isidro Ríos', ' José Luis Zamora Olazábal', ' Ing. Robert Castro Salguero'], 'date': '2020-12-31'}, {'title': 'El psicodiagnóstico de Rorschach desde una perspectiva interdisciplinaria', 'link_art': 'https://revistas.urp.edu.pe/index.php/Perfiles_Ingenieria/article/view/3549', 'authors': ['Lic. Osvaldo Miranda Borges', ' Lic. Alejandro Viñales Estrada', ' PhD. Fidel Martínez Álvarez'], 'date': '2020-12-31'}]}, {'archive': 'Vol_15_Num_15_2019', 'link_vol': 'https://revistas.urp.edu.pe/index.php/Perfiles_Ingenieria/issue/view/256', 'title': 'Vol. 15 Núm. 15 (2019)', 'articles': [{'title': 'Contaminación sonora en el paradero Benavides, en la ciudad de Lima, y el impacto en poblaciones aledañas', 'link_art': 'https://revistas.urp.edu.pe/index.php/Perfiles_Ingenieria/article/view/3377', 'authors': ['Lucero Romero Santos', ' Jaime Sueldo Mesones', ' David Bravo Zapata', ' Clara Tufiño Villena'], 'date': '2020-10-25'}, {'title': 'Reciclaje de residuos por demolición de edificaciones menores y desarrollo sostenible en el distrito de Jesús María', 'link_art': 'https://revistas.urp.edu.pe/index.php/Perfiles_Ingenieria/article/view/3378', 'authors': ['Jesús Hernán Pastor Cavero', ' Esther Joni Vargas Chang1'], 'date': '2020-10-25'}, {'title': 'Polarización en redes sociales ayuda a  que los influencers tengan más influencia: análisis y dos estrategias de inoculación', 'link_art': 'https://revistas.urp.edu.pe/index.php/Perfiles_Ingenieria/article/view/3379', 'authors': ['Alexander V. Mantzaris', ' Ivan Garibay'], 'date': '2020-10-25'}, {'title': 'Evaluación de aeroenfriadores de una planta de fraccionamiento de líquidos de gas natural por medio de radiotrazadores', 'link_art': 'https://revistas.urp.edu.pe/index.php/Perfiles_Ingenieria/article/view/3381', 'authors': ['Carlos Sebastián Calvo'], 'date': '2020-10-25'}, {'title': 'Prototipo Pick and Place Machine', 'link_art': 'https://revistas.urp.edu.pe/index.php/Perfiles_Ingenieria/article/view/3382', 'authors': ['José Antonio Velásquez Costa'], 'date': '2020-10-25'}, {'title': 'Quiz: sistema de gestión de colas y una aplicación para tráfico en carreteras con peaje', 'link_art': 'https://revistas.urp.edu.pe/index.php/Perfiles_Ingenieria/article/view/3384', 'authors': ['Sebastián Miranda Manrique', ' Gipsy Miguel Ángel Arrunátegui Angulo'], 'date': '2020-10-25'}, {'title': 'Sistema de realidad virtual para el  tratamiento de fobias para psicólogos', 'link_art': 'https://revistas.urp.edu.pe/index.php/Perfiles_Ingenieria/article/view/3388', 'authors': ['Frank Omar Olaechea Bendezú', ' Gerhard August Egg Rosas'], 'date': '2020-10-25'}, {'title': 'Proceso de enseñanza-aprendizaje en asignaturas de investigación para el desarrollo de tesis de los egresados de la escuela de ingeniería mecatrónica en la Universidad Ricardo Palma', 'link_art': 'https://revistas.urp.edu.pe/index.php/Perfiles_Ingenieria/article/view/3385', 'authors': ['Ricardo J. Palomares Orihuela2', ' Margarita F. Murillo Manrique', ' Robert Castro Salguero', ' Javier H. Rivas León'], 'date': '2020-10-25'}, {'title': 'Computer science qualifying exam:  a case study on improving student success and program quality', 'link_art': 'https://revistas.urp.edu.pe/index.php/Perfiles_Ingenieria/article/view/3387', 'authors': ['Mahlagha Sedghi', ' Prateek Basavaraj', ' Ivan Garibay', ' Ozlem Ozmen Garibay', ' Arup Ratan Guha'], 'date': '2020-10-25'}]}, {'archive': 'Vol_14_Num_14_2018', 'link_vol': 'https://revistas.urp.edu.pe/index.php/Perfiles_Ingenieria/issue/view/198', 'title': 'Vol. 14 Núm. 14 (2018)', 'articles': [{'title': 'Es necesario revisar el proyecto de la línea 2 del tren eléctrico de Lima', 'link_art': 'https://revistas.urp.edu.pe/index.php/Perfiles_Ingenieria/article/view/2368', 'authors': ['Arturo Velásquez Jara'], 'date': '2019-10-14'}, {'title': 'Desarrollo de un sistema embebido basado en lógica difusa para el reconocimiento del estado de ebriedad en conductores orientado al bloqueo del arranque de un vehículo', 'link_art': 'https://revistas.urp.edu.pe/index.php/Perfiles_Ingenieria/article/view/2369', 'authors': ['Enrique Jesús Martínez Amaya', ' José Luis Ferreyra Ramos', ' Brayan Ramírez Mejía'], 'date': '2019-10-14'}, {'title': '3D stacked imager and digital coupling noise', 'link_art': 'https://revistas.urp.edu.pe/index.php/Perfiles_Ingenieria/article/view/2370', 'authors': ['Fernando Raymundo Luyo'], 'date': '2019-10-14'}, {'title': 'Nuevas tecnologías en el desarrollo de celdas solares', 'link_art': 'https://revistas.urp.edu.pe/index.php/Perfiles_Ingenieria/article/view/2371', 'authors': ['Julio González Prado'], 'date': '2019-10-14'}, {'title': 'Aporte en las metodologías matemáticas para mejorar la comprensión y calidad de video', 'link_art': 'https://revistas.urp.edu.pe/index.php/Perfiles_Ingenieria/article/view/2372', 'authors': ['Jorge Robles Bokun'], 'date': '2019-10-14'}, {'title': 'Análisis y comentarios sobre la aplicación de los instrumentos para arancelarios (IPAS) durante el gobierno de  DE ALAN GARCÍA (1995-1990)', 'link_art': 'https://revistas.urp.edu.pe/index.php/Perfiles_Ingenieria/article/view/2373', 'authors': ['Jorge Nicanor Arroyo Prado'], 'date': '2019-10-14'}, {'title': 'Estructuración organizacional: Un enfoque sistémico', 'link_art': 'https://revistas.urp.edu.pe/index.php/Perfiles_Ingenieria/article/view/2374', 'authors': ['Clemencia Morales Montejo'], 'date': '2019-10-14'}, {'title': 'Evaluación de fugas y pases en rehervidores de plantas de fraccionamiento de gas natural', 'link_art': 'https://revistas.urp.edu.pe/index.php/Perfiles_Ingenieria/article/view/2375', 'authors': ['Carlos Sebastián Calvo'], 'date': '2019-10-14'}, {'title': 'Recuperación de textos electrónicos mediante índices invertidos', 'link_art': 'https://revistas.urp.edu.pe/index.php/Perfiles_Ingenieria/article/view/2376', 'authors': ['Augusto Cortez Vásquez'], 'date': '2019-10-15'}, {'title': 'Diseño y simulación de un brazo robótico de 5GDL adaptado en una silla de ruedas eléctrica para la autoasistencia de  pacientes con parálisis cerebral espástica', 'link_art': 'https://revistas.urp.edu.pe/index.php/Perfiles_Ingenieria/article/view/2377', 'authors': ['Diego A. Rozas Llontop', ' Ricardo J. Palomares Orihuela'], 'date': '2019-10-15'}, {'title': 'Sistema de comunicación industrial para el monitoreo de las estaciones de estaciones de água potable en Cieneguilla-Lima', 'link_art': 'https://revistas.urp.edu.pe/index.php/Perfiles_Ingenieria/article/view/2378', 'authors': ['Margarita Fredesvinda Murillo Manrique', ' Omar Freddy Chamorro Atalaya'], 'date': '2019-10-15'}, {'title': 'Vigencia de la metodología vigotskiana de la motivación del aprendizaje', 'link_art': 'https://revistas.urp.edu.pe/index.php/Perfiles_Ingenieria/article/view/2379', 'authors': ['Daniel Acosta Mejía', ' Fidel Martínez Álvarez'], 'date': '2019-10-15'}]}, {'archive': 'Vol_13_Num_13_2017', 'link_vol': 'https://revistas.urp.edu.pe/index.php/Perfiles_Ingenieria/issue/view/139', 'title': 'Vol. 13 Núm. 13 (2017)', 'articles': [{'title': 'Investigación geotécnica para la red del Metro de Lima', 'link_art': 'https://revistas.urp.edu.pe/index.php/Perfiles_Ingenieria/article/view/1460', 'authors': ['Jorge D. Coll Calderón'], 'date': '2018-06-08'}, {'title': 'Propuesta metodológica para la delimitación de fajas marginales de los ríos', 'link_art': 'https://revistas.urp.edu.pe/index.php/Perfiles_Ingenieria/article/view/1461', 'authors': ['Ernesto Ramírez González'], 'date': '2018-06-08'}, {'title': 'La concesión de los megaproyectos en el Perú', 'link_art': 'https://revistas.urp.edu.pe/index.php/Perfiles_Ingenieria/article/view/1462', 'authors': ['Arturo Velásquez Jara'], 'date': '2018-06-08'}, {'title': 'Diseño de un sistema electrohidráulico de simulación sísmica en la universidad Ricardo Palma', 'link_art': 'https://revistas.urp.edu.pe/index.php/Perfiles_Ingenieria/article/view/1463', 'authors': ['María Méndez Landa', ' Gustavo Roselló Moreno', ' Javier Cerón Uribe', ' Juan Gonzáles Lévano'], 'date': '2018-06-08'}, {'title': 'Las crisis y sus repercusiones en la ingeniería electrónica: La historia jamás contada', 'link_art': 'https://revistas.urp.edu.pe/index.php/Perfiles_Ingenieria/article/view/1464', 'authors': ['Santiago Rojas Tuya'], 'date': '2018-06-08'}, {'title': 'Overview of radiotracer experiments for better understanding of wastewater and water treatment plants in Lima (Perú)', 'link_art': 'https://revistas.urp.edu.pe/index.php/Perfiles_Ingenieria/article/view/1465', 'authors': ['Carlos Sebastián Calvo'], 'date': '2018-06-08'}, {'title': 'Métodos y estándares en la fabricación de platinas', 'link_art': 'https://revistas.urp.edu.pe/index.php/Perfiles_Ingenieria/article/view/1466', 'authors': ['Óscar Sotelo Quito'], 'date': '2018-06-08'}, {'title': 'Clasificación de textos informáticos mediante indexación semántica latente', 'link_art': 'https://revistas.urp.edu.pe/index.php/Perfiles_Ingenieria/article/view/1467', 'authors': ['Augusto Cortez Vásquez'], 'date': '2018-06-08'}, {'title': 'Los riesgos de seguridad de websites y sus efectos en la gestión de información de medianas empresas de Lima Metropolitana', 'link_art': 'https://revistas.urp.edu.pe/index.php/Perfiles_Ingenieria/article/view/1469', 'authors': ['Julio Valverde Chávez', ' Augusto Cortez Vásquez'], 'date': '2018-06-08'}, {'title': 'Reingeniería de los blowers del sistema de frenado de un camión electríco de 320 toneladas de carga para minería en el altiplano peruano', 'link_art': 'https://revistas.urp.edu.pe/index.php/Perfiles_Ingenieria/article/view/1470', 'authors': ['Daniel R. Gutiérrez Ayala', ' Ricardo J. Palomares Orihuela'], 'date': '2018-06-08'}, {'title': 'Estrategias para comercializar energía renovables en el mercado eléctrico peruano', 'link_art': 'https://revistas.urp.edu.pe/index.php/Perfiles_Ingenieria/article/view/1471', 'authors': ['Margarita Murillo Manrique'], 'date': '2018-06-08'}, {'title': 'Domótica mediante la transmisión de datos digitales por la red eléctrica usando protocolo X10', 'link_art': 'https://revistas.urp.edu.pe/index.php/Perfiles_Ingenieria/article/view/1472', 'authors': ['Freedy Sotelo Valer', ' Arturo Cubas Rodríguez'], 'date': '2018-06-08'}]}, {'archive': 'Vol_12_Num_12_2016', 'link_vol': 'https://revistas.urp.edu.pe/index.php/Perfiles_Ingenieria/issue/view/86', 'title': 'Vol. 12 Núm. 12 (2016)', 'articles': [{'title': 'Rasgos geológicos del Río Rímac, abastecimiento de agua en su cono de deyección', 'link_art': 'https://revistas.urp.edu.pe/index.php/Perfiles_Ingenieria/article/view/808', 'authors': ['Pedro Tumialán de la Cruz'], 'date': '2017-08-29'}, {'title': 'Comportamiento del suelo tropical peruano', 'link_art': 'https://revistas.urp.edu.pe/index.php/Perfiles_Ingenieria/article/view/809', 'authors': ['Arnaldo Carrillo gil'], 'date': '2017-08-29'}, {'title': 'Cultivo hidropónico de espinaca mediante técnica NFT e invernadero para el control de variables ambientales', 'link_art': 'https://revistas.urp.edu.pe/index.php/Perfiles_Ingenieria/article/view/810', 'authors': ['Diego Chiara', ' Luis Herrera', ' Paolo Vargas'], 'date': '2017-08-29'}, {'title': 'Diseño de front-end de receptor óptimo de alta ganancia y eficiencia de potencia en 0.13 μm de tecnología CMOS de RF para aplicaciones de 10GBPS', 'link_art': 'https://revistas.urp.edu.pe/index.php/Perfiles_Ingenieria/article/view/811', 'authors': ['Sergio Ochoa Castillo'], 'date': '2017-08-29'}, {'title': 'Diseño de un Amplificador de potencia CMOS de Clase 1 para Aplicaciones Bluetooth', 'link_art': 'https://revistas.urp.edu.pe/index.php/Perfiles_Ingenieria/article/view/812', 'authors': ['A.F Ponchet', ' Sergio Ochoa Castillo', ' Roberto Panepucci'], 'date': '2017-08-29'}, {'title': 'El gobierno electrónico y los servicios  públicos del marco legal  español', 'link_art': 'https://revistas.urp.edu.pe/index.php/Perfiles_Ingenieria/article/view/813', 'authors': ['Jorge López  Córdova'], 'date': '2017-08-29'}, {'title': 'Competitividad del comercio exterior peruano', 'link_art': 'https://revistas.urp.edu.pe/index.php/Perfiles_Ingenieria/article/view/814', 'authors': ['Jorge Arroyo Prado'], 'date': '2017-08-29'}, {'title': 'Metodologías aplicables a la determinación de velocidad y dirección del flujo de aguas subterráneas mediante trazadores artificiales', 'link_art': 'https://revistas.urp.edu.pe/index.php/Perfiles_Ingenieria/article/view/817', 'authors': ['Carlos Sebastián calvo'], 'date': '2017-08-29'}, {'title': 'Simulación del Flujo de camiones en el proceso de embarque de minerales propuestos en el terminal portuario del Callao, Perú', 'link_art': 'https://revistas.urp.edu.pe/index.php/Perfiles_Ingenieria/article/view/818', 'authors': ['Edgard Solís Vargas', ' Luis Ulfe Vega'], 'date': '2017-08-29'}, {'title': 'Sistema de aprendizaje basado en entornos hipermedia adaptativos', 'link_art': 'https://revistas.urp.edu.pe/index.php/Perfiles_Ingenieria/article/view/819', 'authors': ['Augusto Cortez Vásquez'], 'date': '2017-08-29'}, {'title': 'Modelo objeto-requerimiento-actividad para modelar flujos de trabajo para la gestión de requerimientos de desarrollo del producto en la industria de la confección', 'link_art': 'https://revistas.urp.edu.pe/index.php/Perfiles_Ingenieria/article/view/820', 'authors': ['Javier Sánchez Espinoza', ' Juan Sotelo Villena'], 'date': '2017-08-29'}, {'title': 'Desarrollo de una aplicación móvil de seguridad ciudadana en el Perú utilizando informática forense', 'link_art': 'https://revistas.urp.edu.pe/index.php/Perfiles_Ingenieria/article/view/821', 'authors': ['Augusto Cortez Vásquez', ' Óscar Amao Quijandría'], 'date': '2017-08-29'}, {'title': 'Diseño e implementación de un robot híbrido teleoperado con Simulink y un web server embebido en Raspberry PI', 'link_art': 'https://revistas.urp.edu.pe/index.php/Perfiles_Ingenieria/article/view/822', 'authors': ['Rosa Canelo Cervantes', ' Miguel Vera Masías', ' Ricardo Palomares Orihuela'], 'date': '2017-08-29'}, {'title': 'Educación en aulas hospitalarias', 'link_art': 'https://revistas.urp.edu.pe/index.php/Perfiles_Ingenieria/article/view/823', 'authors': ['Yolanda Lifante Gil', ' José Fuentes Bargues', ' Julio Martos Torres', ' Patricia Asensio Ramón'], 'date': '2017-08-29'}]}, {'archive': 'Vol_11_Num_11_2015', 'link_vol': 'https://revistas.urp.edu.pe/index.php/Perfiles_Ingenieria/issue/view/5', 'title': 'Vol. 11 Núm. 11 (2015)', 'articles': [{'title': 'Semblanza de un gran amigo: el Dr. Ing. Óscar Penny Cabrera', 'link_art': 'https://revistas.urp.edu.pe/index.php/Perfiles_Ingenieria/article/view/399', 'authors': ['Héctor Gustavo Roselló Moreno'], 'date': '2016-11-23'}, {'title': 'Premio “RCE Award for Outstanding Flagship Project” de la Universidad de las Naciones Unidas para el Diplomado en Biodiversidad y Saberes Interculturales', 'link_art': 'https://revistas.urp.edu.pe/index.php/Perfiles_Ingenieria/article/view/400', 'authors': ['Sin autor'], 'date': '2016-11-23'}, {'title': 'Innóvate y la Universidad Ricardo Palma Proyecto ganador - FINCyT', 'link_art': 'https://revistas.urp.edu.pe/index.php/Perfiles_Ingenieria/article/view/401', 'authors': ['Sin autor'], 'date': '2016-11-23'}, {'title': 'La deformación permanente en las mezclas asfálticas y el consecuente deterioro de los pavimentos asfálticos en el Perú', 'link_art': 'https://revistas.urp.edu.pe/index.php/Perfiles_Ingenieria/article/view/402', 'authors': ['Néstor Huamán Guerrero', ' Carlos M. Chang Albitres'], 'date': '2016-11-23'}, {'title': 'Interpretación hidrogeológica con modelación numérica en masas geológicas del deslizamiento \"Derrumbe 1\" – Complejo hidroeléctrico del Mantaro', 'link_art': 'https://revistas.urp.edu.pe/index.php/Perfiles_Ingenieria/article/view/403', 'authors': ['César González Linares', ' Rubén Esaú Mogrovejo Gutiérrez', ' Gisel Veliz Francia'], 'date': '2016-11-23'}, {'title': 'Historia y teoría del radar, capítulo 1', 'link_art': 'https://revistas.urp.edu.pe/index.php/Perfiles_Ingenieria/article/view/404', 'authors': ['Óscar Penny Cabrera'], 'date': '2016-11-23'}, {'title': 'Experiencia peruana en el despliegue de la infraestructura de las comunicaciones móviles', 'link_art': 'https://revistas.urp.edu.pe/index.php/Perfiles_Ingenieria/article/view/405', 'authors': ['Víctor Cruz Ornetta', ' Jorge Ubillus Gonzales'], 'date': '2016-11-23'}, {'title': 'Procesamiento digital de imágenes para estimación de velocidad y medición de flujo vehicular', 'link_art': 'https://revistas.urp.edu.pe/index.php/Perfiles_Ingenieria/article/view/406', 'authors': ['Pedro Freddy Huamaní Navarrete', ' José Luis Rojas Vara'], 'date': '2016-11-23'}, {'title': 'El neuromarketing y la ingeniería del branding', 'link_art': 'https://revistas.urp.edu.pe/index.php/Perfiles_Ingenieria/article/view/407', 'authors': ['Jorge Arroyo Prado'], 'date': '2016-11-23'}, {'title': 'Explotación de los yacimientos de fosfatos en Bayóvar', 'link_art': 'https://revistas.urp.edu.pe/index.php/Perfiles_Ingenieria/article/view/408', 'authors': ['Juvenal Cabezas Oruna'], 'date': '2016-11-23'}, {'title': 'Diagnóstico del déficit de capacidad institucional de los procesos para el rediseño organizacional en el sector público', 'link_art': 'https://revistas.urp.edu.pe/index.php/Perfiles_Ingenieria/article/view/409', 'authors': ['Víctor Beltrán Saravia'], 'date': '2016-11-23'}, {'title': 'Algunas propuestas de inteligencia competitiva para las pequeñas y medianas empresas del Perú', 'link_art': 'https://revistas.urp.edu.pe/index.php/Perfiles_Ingenieria/article/view/410', 'authors': ['Juana Emma Segura González'], 'date': '2016-11-23'}, {'title': 'Sistema de publicidad por proximidad mediante tecnología blutooth como estrategia para aumentar las ventas en la empresa Luicam Touch Exclusive', 'link_art': 'https://revistas.urp.edu.pe/index.php/Perfiles_Ingenieria/article/view/411', 'authors': ['César Bustíos Benites', ' Hugo Froilán Vega Huerta'], 'date': '2016-11-23'}, {'title': 'Modelización de una interfaz hombre - máquina mediante comunicación electrooculográfica representada mediante código de Huffman para personas con discapacidad de esclerosis lateral amiotrófica', 'link_art': 'https://revistas.urp.edu.pe/index.php/Perfiles_Ingenieria/article/view/412', 'authors': ['Augusto Cortez Vásquez', ' Virginia Vera Pomalaza', ' Virginia Vera Pomalaza'], 'date': '2016-11-23'}, {'title': 'Control de un brazo robótico antropomórfico con 6 grados de libertad teleoperado para la seguridad industrial en el Perú', 'link_art': 'https://revistas.urp.edu.pe/index.php/Perfiles_Ingenieria/article/view/429', 'authors': ['Elmer Javier Córdova Zapata', ' Hans C. Rojas Caytuiro', ' Eduardo Espinoza Marazo', ' Jerson Herrera Yui'], 'date': '2016-11-23'}, {'title': 'Robot Da Vinci: El quirófano del futuro', 'link_art': 'https://revistas.urp.edu.pe/index.php/Perfiles_Ingenieria/article/view/430', 'authors': ['Ricardo John Palomares Orihuela'], 'date': '2016-11-23'}, {'title': 'Proyecto Alfa III USO+I: Experiencia de cooperación y mejora de la pertinencia de las ingenierías en Latinoamérica', 'link_art': 'https://revistas.urp.edu.pe/index.php/Perfiles_Ingenieria/article/view/431', 'authors': ['Ángel Regueiro', ' Carmen Busoch', ' Yisnier Hernández', ' Ernesto Espinoza', ' María Elena Martínez', ' Teresa Salinas', ' Miguel Sánchez', ' Gustavo Roselló'], 'date': '2016-11-23'}]}]\n"
     ]
    }
   ],
   "source": [
    "with open(\"scrappURP.pickle\", \"rb\") as f:\n",
    "    obj = pickle.load(f)\n",
    "    print(obj)"
   ]
  },
  {
   "cell_type": "code",
   "execution_count": null,
   "id": "954a2015",
   "metadata": {},
   "outputs": [],
   "source": []
  }
 ],
 "metadata": {
  "kernelspec": {
   "display_name": "Python 3 (ipykernel)",
   "language": "python",
   "name": "python3"
  },
  "language_info": {
   "codemirror_mode": {
    "name": "ipython",
    "version": 3
   },
   "file_extension": ".py",
   "mimetype": "text/x-python",
   "name": "python",
   "nbconvert_exporter": "python",
   "pygments_lexer": "ipython3",
   "version": "3.9.7"
  }
 },
 "nbformat": 4,
 "nbformat_minor": 5
}
